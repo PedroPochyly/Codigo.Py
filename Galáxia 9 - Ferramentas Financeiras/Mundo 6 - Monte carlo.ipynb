{
 "cells": [
  {
   "cell_type": "markdown",
   "id": "c70c3ce3",
   "metadata": {},
   "source": [
    "# Problema a ser resolvido:\n",
    "\n",
    "------\n",
    "\n",
    "- Tenho uma carteira com 10 ações. Dado a distribuição dos retornos dessa carteira no último ano:\n",
    "\n",
    "    * Qual o máximo que eu posso perder no próximo ano, com uma confiança de 95%?\n",
    "    * Qual a probabilidade de eu obter lucro?"
   ]
  },
  {
   "cell_type": "code",
   "execution_count": null,
   "id": "494a6a77",
   "metadata": {},
   "outputs": [],
   "source": [
    "import numpy as np\n",
    "import matplotlib.pyplot as plt\n",
    "import datetime as dt\n",
    "import yfinance as yf\n",
    "from numpy import linalg as LA"
   ]
  },
  {
   "cell_type": "code",
   "execution_count": null,
   "id": "fafc84bd",
   "metadata": {},
   "outputs": [],
   "source": [
    "#pegando dados\n",
    "\n",
    "lista_acoes = ['WEGE3', 'PCAR3', 'LREN3', 'PETR4', 'VALE3']\n",
    "lista_acoes = [acao + \".SA\" for acao in lista_acoes]\n",
    "\n",
    "data_final = dt.datetime.now()\n",
    "data_inicial = data_final - dt.timedelta(days=300)\n",
    "\n",
    "precos = yf.download(lista_acoes, data_inicial, data_final)['Adj Close']"
   ]
  },
  {
   "cell_type": "code",
   "execution_count": null,
   "id": "1204048e",
   "metadata": {},
   "outputs": [],
   "source": [
    "#calculando retornos pegando matriz de covariância \n",
    "\n",
    "retornos = precos.pct_change().dropna()\n",
    "media_retornos = retornos.mean()\n",
    "matriz_covariancia = retornos.cov()\n",
    "pesos_carteira = np.full(len(lista_acoes), 1/len(lista_acoes))\n",
    "numero_acoes = len(lista_acoes)\n",
    "\n",
    "pesos_carteira"
   ]
  },
  {
   "cell_type": "markdown",
   "id": "b01a05a4",
   "metadata": {},
   "source": [
    "# Fórmula retornos sintéticos\n",
    "---\n",
    "Retornos_sintéticos = média_retornos + Rpdf × L.\n",
    "\n",
    "* média_retornos = Média dos retornos.\n",
    "* Rpdf = Matriz aleatória gerada por alguma função de densidade de probabilidade.\n",
    "* L = Matriz triangular inferior proveniente de uma decomposição de Cholesky, usando como base a matriz de covariância dos dados originais.\n"
   ]
  },
  {
   "cell_type": "markdown",
   "id": "d4775cf4",
   "metadata": {},
   "source": [
    "# Por que fazer isso?\n",
    "---\n",
    "\n",
    "Nós assumimos que a distribuição de retornos é uma distribuição normal multivariada (isso é uma expansão da distribuição normal).\n",
    "\n",
    "Quando geremos retornos aleátorios de cada ativo (Weg, Vale, etc), nós criamos vetores aleatórios descorrelacionados entre si. Para corrigir isso, precisamos correlacionar esses retornos (no mundo real isso é o que acontece) e, para isso, usamos a matriz triângular obtida a partir da covariância."
   ]
  },
  {
   "cell_type": "code",
   "execution_count": null,
   "id": "8248e54d",
   "metadata": {},
   "outputs": [],
   "source": [
    "#premissas montecarlo\n",
    "\n",
    "numero_simulacoes = 10000\n",
    "dias_projetados = 252 \n",
    "capital_inicial = 1000"
   ]
  },
  {
   "cell_type": "code",
   "execution_count": null,
   "id": "2df079a2",
   "metadata": {},
   "outputs": [],
   "source": [
    "#gerando retorno médio\n",
    "retorno_medio = retornos.mean(axis = 0).to_numpy() \n",
    "matriz_retorno_medio = retorno_medio * np.ones(shape = (dias_projetados, numero_acoes))"
   ]
  },
  {
   "cell_type": "code",
   "execution_count": null,
   "id": "3b02e7d7",
   "metadata": {},
   "outputs": [],
   "source": [
    "#gerando L\n",
    "L = LA.cholesky(matriz_covariancia)\n",
    "L"
   ]
  },
  {
   "cell_type": "code",
   "execution_count": null,
   "id": "2a87f286",
   "metadata": {},
   "outputs": [],
   "source": [
    "#gerando simulações\n",
    "\n",
    "retornos_carteira = np.zeros([dias_projetados, numero_simulacoes]) #cada coluna é uma simulação\n",
    "montante_final = np.zeros(numero_simulacoes)\n",
    "\n",
    "for s in range(numero_simulacoes):\n",
    "\n",
    "    Rpdf = np.random.normal(size=(dias_projetados, numero_acoes)) \n",
    "    \n",
    "    retornos_sintéticos = matriz_retorno_medio + np.inner(Rpdf, L) #unica coisa random é o Rpdf\n",
    "    \n",
    "    retornos_carteira[:, s] = np.cumprod(np.inner(pesos_carteira, \n",
    "                                                  retornos_sintéticos) + 1) * capital_inicial\n",
    "    montante_final[s] = retornos_carteira[-1, s]\n",
    "    \n",
    "    \n",
    "retornos_carteira"
   ]
  },
  {
   "cell_type": "code",
   "execution_count": null,
   "id": "a8574787",
   "metadata": {},
   "outputs": [],
   "source": [
    "plt.plot(retornos_carteira, linewidth=1)\n",
    "plt.ylabel('Dinheiro')\n",
    "plt.xlabel('Dias')\n",
    "plt.show()"
   ]
  },
  {
   "cell_type": "code",
   "execution_count": null,
   "id": "3c60a51e",
   "metadata": {},
   "outputs": [],
   "source": [
    "montante_99 = str(np.percentile(montante_final, 1))\n",
    "montante_95 = str(np.percentile(montante_final, 5))\n",
    "montante_mediano = str(np.percentile(montante_final, 50))\n",
    "cenarios_com_lucro = str((len(montante_final[montante_final > 1000])/\n",
    "                                len(montante_final)) * 100) + \"%\""
   ]
  },
  {
   "cell_type": "code",
   "execution_count": null,
   "id": "a7e641f8",
   "metadata": {},
   "outputs": [],
   "source": [
    "print(f'''Ao investir R$ 1000,00 na carteira {lista_acoes}, \n",
    "podemos esperar esses resultados para os próximo ano, \n",
    "utilizando o método de Monte Carlo com 10 mil simulações:\n",
    "\n",
    "Com 50% de probabilidade, o montante será maior que R$ {montante_mediano}. \n",
    "\n",
    "Com 95% de probabilidade, o montante será maior que R$ {montante_95}.\n",
    "\n",
    "Com 99% de probabilidade, o montante será maior que R$ {montante_99}.\n",
    "\n",
    "Em {cenarios_com_lucro} dos cenários, foi possível obter lucro no próximo ano.''')"
   ]
  },
  {
   "cell_type": "code",
   "execution_count": null,
   "id": "29bb00f5",
   "metadata": {},
   "outputs": [],
   "source": [
    "-50%"
   ]
  },
  {
   "cell_type": "markdown",
   "id": "5c5a964f",
   "metadata": {},
   "source": [
    "# Utilidades\n",
    "\n",
    "A partir dessas métricas, é possível calcular coisas como o VAR da carteira para diferentes intervalos de confiança e medir se o risco que você está correndo é compatível com o que você aguenta perder. No caso dessa carteira, uma queda de 27,5% está dentro dos 95% dos cenários mais possíveis de acontecer no próximo ano."
   ]
  },
  {
   "cell_type": "code",
   "execution_count": null,
   "id": "2a871dd4",
   "metadata": {},
   "outputs": [],
   "source": [
    "config = dict(histtype = \"stepfilled\", alpha = 0.8, density = False, bins = 150)\n",
    "fig, ax = plt.subplots()\n",
    "ax.hist(montante_final, **config)\n",
    "ax.xaxis.set_major_formatter('R${x:.0f}')\n",
    "plt.title('Distribuição montantes finais com simulação MC')\n",
    "plt.xlabel('Montante final (R$)')\n",
    "plt.ylabel(\"Frequência\")\n",
    "plt.show()"
   ]
  },
  {
   "cell_type": "code",
   "execution_count": null,
   "id": "cdd9ce42",
   "metadata": {},
   "outputs": [],
   "source": []
  },
  {
   "cell_type": "code",
   "execution_count": null,
   "id": "f5929d84",
   "metadata": {},
   "outputs": [],
   "source": []
  },
  {
   "cell_type": "code",
   "execution_count": null,
   "id": "04b3ecfd",
   "metadata": {},
   "outputs": [],
   "source": []
  },
  {
   "cell_type": "code",
   "execution_count": null,
   "id": "e73c8131",
   "metadata": {},
   "outputs": [],
   "source": []
  },
  {
   "cell_type": "code",
   "execution_count": null,
   "id": "b001e239",
   "metadata": {},
   "outputs": [],
   "source": []
  },
  {
   "cell_type": "code",
   "execution_count": null,
   "id": "b6f46d48",
   "metadata": {},
   "outputs": [],
   "source": []
  },
  {
   "cell_type": "code",
   "execution_count": null,
   "id": "4d56223f",
   "metadata": {},
   "outputs": [],
   "source": []
  }
 ],
 "metadata": {
  "kernelspec": {
   "display_name": "Python 3 (ipykernel)",
   "language": "python",
   "name": "python3"
  },
  "language_info": {
   "codemirror_mode": {
    "name": "ipython",
    "version": 3
   },
   "file_extension": ".py",
   "mimetype": "text/x-python",
   "name": "python",
   "nbconvert_exporter": "python",
   "pygments_lexer": "ipython3",
   "version": "3.9.12"
  }
 },
 "nbformat": 4,
 "nbformat_minor": 5
}
