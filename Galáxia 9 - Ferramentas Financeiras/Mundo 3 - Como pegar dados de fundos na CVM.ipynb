{
 "cells": [
  {
   "cell_type": "code",
   "execution_count": null,
   "id": "15aa35eb",
   "metadata": {},
   "outputs": [],
   "source": [
    "import pandas as pd\n",
    "import requests\n",
    "import zipfile\n",
    "import os\n",
    "\n",
    "pd.options.display.float_format = '{:.4f}'.format"
   ]
  },
  {
   "cell_type": "code",
   "execution_count": null,
   "id": "d596b91c",
   "metadata": {},
   "outputs": [],
   "source": [
    "ano = \"2022\"\n",
    "mes = \"12\"\n",
    "url = f'https://dados.cvm.gov.br/dados/FI/DOC/INF_DIARIO/DADOS/inf_diario_fi_{ano}{mes}.zip'"
   ]
  },
  {
   "cell_type": "code",
   "execution_count": null,
   "id": "b6ad603d",
   "metadata": {},
   "outputs": [],
   "source": [
    "download = requests.get(url)\n",
    "\n",
    "with open(f\"inf_diario_fi_{ano}{mes}.zip\", \"wb\") as arquivo_cvm:\n",
    "\n",
    "    arquivo_cvm.write(download.content) \n",
    "    \n",
    "arquivo_zip = zipfile.ZipFile(f\"inf_diario_fi_{ano}{mes}.zip\")\n",
    "\n",
    "    "
   ]
  },
  {
   "cell_type": "code",
   "execution_count": null,
   "id": "5709098a",
   "metadata": {},
   "outputs": [],
   "source": [
    "dados_fundos = pd.read_csv(arquivo_zip.open(arquivo_zip.namelist()[0]), sep = \";\", encoding = 'ISO-8859-1')\n",
    "\n",
    "dados_fundos"
   ]
  },
  {
   "cell_type": "code",
   "execution_count": null,
   "id": "86845405",
   "metadata": {},
   "outputs": [],
   "source": [
    "dados_cadastro = pd.read_csv('https://dados.cvm.gov.br/dados/FI/CAD/DADOS/cad_fi.csv', \n",
    "                             sep = \";\", encoding = 'ISO-8859-1')\n",
    "\n",
    "dados_cadastro = dados_cadastro[['CNPJ_FUNDO', 'DENOM_SOCIAL']]\n",
    "\n",
    "dados_cadastro = dados_cadastro.drop_duplicates()\n",
    "\n",
    "dados_cadastro"
   ]
  },
  {
   "cell_type": "code",
   "execution_count": null,
   "id": "ff7c6e96",
   "metadata": {},
   "outputs": [],
   "source": [
    "data_inicio_mes = (dados_fundos['DT_COMPTC'].sort_values(ascending = True).unique())[-0]\n",
    "data_fim_mes = (dados_fundos['DT_COMPTC'].sort_values(ascending = True).unique())[-1]\n",
    "        \n",
    "\n",
    "dados_fundos_filtrado = dados_fundos[(dados_fundos['DT_COMPTC'].isin([data_inicio_mes, data_fim_mes]))]\n",
    "                           \n",
    "dados_fundos_filtrado"
   ]
  },
  {
   "cell_type": "code",
   "execution_count": null,
   "id": "91a4ebbc",
   "metadata": {},
   "outputs": [],
   "source": [
    "base_final = pd.merge(dados_fundos_filtrado, dados_cadastro, how = \"left\", \n",
    "                      left_on = [\"CNPJ_FUNDO\"], right_on = [\"CNPJ_FUNDO\"])\n",
    "\n",
    "base_final = base_final[['CNPJ_FUNDO', 'DENOM_SOCIAL', \n",
    "                         'DT_COMPTC', 'VL_QUOTA', 'VL_PATRIM_LIQ', 'NR_COTST']]\n",
    "\n",
    "base_final = base_final.dropna()\n",
    "\n",
    "base_final"
   ]
  },
  {
   "cell_type": "code",
   "execution_count": null,
   "id": "070023ca",
   "metadata": {},
   "outputs": [],
   "source": [
    "base_final[base_final['DENOM_SOCIAL'].str.contains(\"ARCA GRÃO\")]"
   ]
  },
  {
   "cell_type": "code",
   "execution_count": null,
   "id": "5de12f80",
   "metadata": {},
   "outputs": [],
   "source": []
  },
  {
   "cell_type": "code",
   "execution_count": null,
   "id": "c16e70a0",
   "metadata": {},
   "outputs": [],
   "source": []
  },
  {
   "cell_type": "code",
   "execution_count": null,
   "id": "0fb85efa",
   "metadata": {},
   "outputs": [],
   "source": []
  },
  {
   "cell_type": "code",
   "execution_count": null,
   "id": "eb4b1c89",
   "metadata": {},
   "outputs": [],
   "source": []
  },
  {
   "cell_type": "code",
   "execution_count": null,
   "id": "1feddff6",
   "metadata": {},
   "outputs": [],
   "source": []
  },
  {
   "cell_type": "code",
   "execution_count": null,
   "id": "c97947ac",
   "metadata": {},
   "outputs": [],
   "source": []
  },
  {
   "cell_type": "code",
   "execution_count": null,
   "id": "9e2eb11c",
   "metadata": {},
   "outputs": [],
   "source": []
  },
  {
   "cell_type": "code",
   "execution_count": null,
   "id": "b004696c",
   "metadata": {},
   "outputs": [],
   "source": []
  },
  {
   "cell_type": "code",
   "execution_count": null,
   "id": "86e1582f",
   "metadata": {},
   "outputs": [],
   "source": []
  },
  {
   "cell_type": "code",
   "execution_count": null,
   "id": "036f3940",
   "metadata": {},
   "outputs": [],
   "source": []
  },
  {
   "cell_type": "code",
   "execution_count": null,
   "id": "ae53b436",
   "metadata": {},
   "outputs": [],
   "source": []
  },
  {
   "cell_type": "code",
   "execution_count": null,
   "id": "ff8e2061",
   "metadata": {},
   "outputs": [],
   "source": []
  },
  {
   "cell_type": "code",
   "execution_count": null,
   "id": "1871a027",
   "metadata": {},
   "outputs": [],
   "source": []
  },
  {
   "cell_type": "code",
   "execution_count": null,
   "id": "e26378fc",
   "metadata": {},
   "outputs": [],
   "source": []
  },
  {
   "cell_type": "code",
   "execution_count": null,
   "id": "95d2462f",
   "metadata": {},
   "outputs": [],
   "source": []
  },
  {
   "cell_type": "code",
   "execution_count": null,
   "id": "2ea9d1cc",
   "metadata": {},
   "outputs": [],
   "source": []
  },
  {
   "cell_type": "code",
   "execution_count": null,
   "id": "bd5260e5",
   "metadata": {},
   "outputs": [],
   "source": []
  },
  {
   "cell_type": "code",
   "execution_count": null,
   "id": "bac62c5e",
   "metadata": {},
   "outputs": [],
   "source": []
  },
  {
   "cell_type": "code",
   "execution_count": null,
   "id": "9d165b30",
   "metadata": {},
   "outputs": [],
   "source": []
  },
  {
   "cell_type": "code",
   "execution_count": null,
   "id": "d7a90dc2",
   "metadata": {},
   "outputs": [],
   "source": []
  },
  {
   "cell_type": "code",
   "execution_count": null,
   "id": "6796f53b",
   "metadata": {},
   "outputs": [],
   "source": []
  },
  {
   "cell_type": "code",
   "execution_count": null,
   "id": "7c68c856",
   "metadata": {},
   "outputs": [],
   "source": []
  },
  {
   "cell_type": "code",
   "execution_count": null,
   "id": "d09c0512",
   "metadata": {},
   "outputs": [],
   "source": []
  },
  {
   "cell_type": "code",
   "execution_count": null,
   "id": "3e42cafb",
   "metadata": {},
   "outputs": [],
   "source": []
  },
  {
   "cell_type": "code",
   "execution_count": null,
   "id": "9fa45111",
   "metadata": {},
   "outputs": [],
   "source": []
  },
  {
   "cell_type": "code",
   "execution_count": null,
   "id": "c9b05072",
   "metadata": {},
   "outputs": [],
   "source": []
  }
 ],
 "metadata": {
  "kernelspec": {
   "display_name": "Python 3 (ipykernel)",
   "language": "python",
   "name": "python3"
  },
  "language_info": {
   "codemirror_mode": {
    "name": "ipython",
    "version": 3
   },
   "file_extension": ".py",
   "mimetype": "text/x-python",
   "name": "python",
   "nbconvert_exporter": "python",
   "pygments_lexer": "ipython3",
   "version": "3.9.12"
  }
 },
 "nbformat": 4,
 "nbformat_minor": 5
}
