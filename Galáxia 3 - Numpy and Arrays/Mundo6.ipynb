{
 "cells": [
  {
   "cell_type": "markdown",
   "id": "da342286",
   "metadata": {
    "id": "da342286"
   },
   "source": [
    "# Mundo 6"
   ]
  },
  {
   "cell_type": "code",
   "execution_count": 6,
   "id": "11a6d5a3",
   "metadata": {
    "id": "11a6d5a3"
   },
   "outputs": [],
   "source": [
    "import numpy as np"
   ]
  },
  {
   "cell_type": "code",
   "execution_count": 7,
   "id": "fde599ae",
   "metadata": {
    "id": "fde599ae"
   },
   "outputs": [
    {
     "name": "stdout",
     "output_type": "stream",
     "text": [
      "[5 3 7 3]\n",
      "[1, 1, 1, 1, 4, 2, 6, 2]\n"
     ]
    }
   ],
   "source": [
    "#todas as operações funcionam com os vetores.\n",
    "\n",
    "array1 = np.array([1, 1, 1, 1])\n",
    "array2 = np.array([4, 2, 6, 2])\n",
    "array3 = np.array([2, 2])\n",
    "\n",
    "lista_normal = [1, 1, 1, 1]\n",
    "lista_normal2 = [4, 2, 6, 2]\n",
    "\n",
    "print(array1 + array2)\n",
    "print(lista_normal + lista_normal2)"
   ]
  },
  {
   "cell_type": "code",
   "execution_count": 8,
   "id": "8195b273",
   "metadata": {
    "id": "8195b273"
   },
   "outputs": [
    {
     "ename": "ValueError",
     "evalue": "operands could not be broadcast together with shapes (4,) (2,) ",
     "output_type": "error",
     "traceback": [
      "\u001b[1;31m---------------------------------------------------------------------------\u001b[0m",
      "\u001b[1;31mValueError\u001b[0m                                Traceback (most recent call last)",
      "\u001b[1;32m<ipython-input-8-d917ce96d271>\u001b[0m in \u001b[0;36m<module>\u001b[1;34m\u001b[0m\n\u001b[1;32m----> 1\u001b[1;33m \u001b[0mprint\u001b[0m\u001b[1;33m(\u001b[0m\u001b[0marray1\u001b[0m \u001b[1;33m+\u001b[0m \u001b[0marray3\u001b[0m\u001b[1;33m)\u001b[0m\u001b[1;33m\u001b[0m\u001b[0m\n\u001b[0m",
      "\u001b[1;31mValueError\u001b[0m: operands could not be broadcast together with shapes (4,) (2,) "
     ]
    }
   ],
   "source": [
    "print(array1 + array3) #couldnt ada because the vetors ahve different sizes"
   ]
  },
  {
   "cell_type": "code",
   "execution_count": null,
   "id": "f1dd9131",
   "metadata": {
    "id": "f1dd9131",
    "outputId": "21d75d92-955b-4a6c-bba0-8f8e54670d27"
   },
   "outputs": [
    {
     "name": "stdout",
     "output_type": "stream",
     "text": [
      "[21 21 21 21]\n"
     ]
    }
   ],
   "source": [
    "#E se eu quiser somar um número só?\n",
    "\n",
    "soma_a_todos_os_elementos = np.array([1, 1, 1, 1]) + 20\n",
    "\n",
    "print(soma_a_todos_os_elementos)"
   ]
  },
  {
   "cell_type": "code",
   "execution_count": null,
   "id": "1bc394e6",
   "metadata": {
    "id": "1bc394e6",
    "outputId": "e1f35bc7-6122-4148-bb58-535e17ac07a0"
   },
   "outputs": [
    {
     "name": "stdout",
     "output_type": "stream",
     "text": [
      "[-3 -1 -5 -1]\n",
      "[0.25       0.5        0.16666667 0.5       ]\n",
      "[4 2 6 2]\n",
      "[1 1 1 1]\n"
     ]
    }
   ],
   "source": [
    "#todas as operações funcionam normal\n",
    "array1 = np.array([1, 1, 1, 1])\n",
    "array2 = np.array([4, 2, 6, 2])\n",
    "\n",
    "subtracao = array1 - array2\n",
    "divisao = array1/array2\n",
    "multiplicacao = array1 * array2\n",
    "exponenciacao = array1 ** array2\n",
    "\n",
    "print(subtracao)\n",
    "print(divisao)\n",
    "print(multiplicacao)\n",
    "print(exponenciacao)"
   ]
  },
  {
   "cell_type": "code",
   "execution_count": null,
   "id": "6e7656a1",
   "metadata": {
    "id": "6e7656a1",
    "outputId": "e676162f-d75e-40c0-cbca-d304617a1e67"
   },
   "outputs": [
    {
     "name": "stdout",
     "output_type": "stream",
     "text": [
      "[ 1  4 -4 -1  2]\n",
      "2\n",
      "4\n",
      "-4\n",
      "[1 4 4 1 2]\n"
     ]
    }
   ],
   "source": [
    "#Operações dentro do próprio vetor\n",
    "\n",
    "vetor = np.array([1, 4, -4, -1, 2])\n",
    "\n",
    "print(vetor)\n",
    "print(vetor.sum())\n",
    "print(vetor.max())\n",
    "print(vetor.min())\n",
    "print(np.abs(vetor)) #Calcula os valores absolutos"
   ]
  },
  {
   "cell_type": "code",
   "execution_count": null,
   "id": "0e3c70c1",
   "metadata": {
    "id": "0e3c70c1",
    "outputId": "594d7b96-a644-4704-e7bf-17f365c8ad13"
   },
   "outputs": [
    {
     "name": "stdout",
     "output_type": "stream",
     "text": [
      "401.0\n",
      "1.0\n",
      "799.56938410622\n",
      "639311.2\n"
     ]
    }
   ],
   "source": [
    "#Estatisticas descritivas\n",
    "\n",
    "vetor = np.array([1, 20, -4, -12, 2000])\n",
    "\n",
    "media = np.mean(vetor)\n",
    "mediana = np.median(vetor)\n",
    "desvio_p = np.std(vetor)\n",
    "var = np.var(vetor)\n",
    "\n",
    "print(media) #media\n",
    "print(mediana) #mediana\n",
    "print(desvio_p) #desvio padrao\n",
    "print(var) #variancia"
   ]
  },
  {
   "cell_type": "code",
   "execution_count": null,
   "id": "ab4f64a0",
   "metadata": {
    "id": "ab4f64a0",
    "outputId": "54a2b316-9e9b-43fd-9634-c0997d2fe368"
   },
   "outputs": [
    {
     "data": {
      "text/plain": [
       "array([[ 1.        ,  0.25471058, -0.13247913],\n",
       "       [ 0.25471058,  1.        ,  0.76783876],\n",
       "       [-0.13247913,  0.76783876,  1.        ]])"
      ]
     },
     "execution_count": 21,
     "metadata": {},
     "output_type": "execute_result"
    }
   ],
   "source": [
    "#matriz de correlação \n",
    "\n",
    "vetor2 = np.array([5, 4, 3, -5, 4])\n",
    "vetor3 = np.array([2, 6, 7, -5, 1])\n",
    "\n",
    "correlacao = np.corrcoef((vetor, vetor2, vetor3))\n",
    "\n",
    "correlacao"
   ]
  },
  {
   "cell_type": "markdown",
   "id": "c4cfcc82",
   "metadata": {
    "id": "c4cfcc82"
   },
   "source": [
    "# Exercício\n",
    "\n",
    "* Exercício 35: Faça um programa que o usuário digite a rentabilidade de ações, com quantas ações o usuário quiser. Transforme essas listas em arrays e devolva pro usuário:\n",
    "\n",
    "        A média de rentabilidade da carteira.\n",
    "        O Desvio padrão da carteira.\n",
    "        A mediana de retornos da carteira.\n",
    "        O maior retorno.\n",
    "        O menor retorno."
   ]
  },
  {
   "cell_type": "code",
   "execution_count": 7,
   "id": "9f97243a",
   "metadata": {},
   "outputs": [
    {
     "name": "stdout",
     "output_type": "stream",
     "text": [
      "Digite uma rentabilidade: 30\n",
      "Deseja cadastrar mais rentabilidades? [S/N] 30\n",
      "Entrada inválida! Digite apenas 'S' ou 'N'.\n",
      "Deseja cadastrar mais rentabilidades? [S/N] S\n",
      "Digite uma rentabilidade: 50\n",
      "Deseja cadastrar mais rentabilidades? [S/N] 60\n",
      "Entrada inválida! Digite apenas 'S' ou 'N'.\n",
      "Deseja cadastrar mais rentabilidades? [S/N] N\n",
      "A média é: 40.0, a mediana é: 40.0, o mínimo é: 30.0, o máximo é: 50.0, e o DP é: 10.0\n"
     ]
    }
   ],
   "source": [
    "import numpy as np\n",
    "\n",
    "arrays_rentabilidade = np.array([])  # Criando um array vazio.\n",
    "\n",
    "while True:\n",
    "    try:\n",
    "        rentabilidade = float(input(\"Digite uma rentabilidade: \"))\n",
    "        arrays_rentabilidade = np.append(arrays_rentabilidade, rentabilidade)  # Adiciona ao array\n",
    "    except ValueError:\n",
    "        print(\"Erro! Digite um número válido.\")\n",
    "        continue  # Volta para o início do loop\n",
    "\n",
    "    # Loop para garantir que o usuário só digite 'S' ou 'N'\n",
    "    while True:\n",
    "        continuar = input(\"Deseja cadastrar mais rentabilidades? [S/N] \").strip().upper()\n",
    "        if continuar in ['S', 'N']:\n",
    "            break  # Sai do loop se for uma entrada válida\n",
    "        print(\"Entrada inválida! Digite apenas 'S' ou 'N'.\")\n",
    "\n",
    "    if continuar == 'N':\n",
    "        break  # Encerra o loop principal\n",
    "\n",
    "# Verifica se há valores antes de calcular estatísticas\n",
    "if arrays_rentabilidade.size > 0:\n",
    "    print(f'A média é: {np.mean(arrays_rentabilidade)}, a mediana é: {np.median(arrays_rentabilidade)}, '\n",
    "          f'o mínimo é: {np.min(arrays_rentabilidade)}, o máximo é: {np.max(arrays_rentabilidade)}, '\n",
    "          f'e o DP é: {np.std(arrays_rentabilidade)}')\n",
    "else:\n",
    "    print(\"Nenhuma rentabilidade cadastrada. Não há estatísticas para exibir.\")\n"
   ]
  },
  {
   "cell_type": "markdown",
   "id": "f49d2a38",
   "metadata": {
    "id": "f49d2a38"
   },
   "source": [
    "# Galáxia 4\n",
    "\n",
    "Fim do módulo do Numpy! Na galáxia 4 nós iremos abordar o módulo Pandas, a principal biblioteca de análise de dados que existe.\n",
    "Vamos aprender a puxar cotações, criar médias móveis, tratar dados, ler planilhas de excel e muito mais. Te vejo lá!"
   ]
  },
  {
   "cell_type": "code",
   "execution_count": null,
   "id": "24fa54f2",
   "metadata": {
    "id": "24fa54f2"
   },
   "outputs": [],
   "source": []
  }
 ],
 "metadata": {
  "colab": {
   "name": "Mundo 6.ipynb",
   "provenance": []
  },
  "kernelspec": {
   "display_name": "Python 3",
   "language": "python",
   "name": "python3"
  },
  "language_info": {
   "codemirror_mode": {
    "name": "ipython",
    "version": 3
   },
   "file_extension": ".py",
   "mimetype": "text/x-python",
   "name": "python",
   "nbconvert_exporter": "python",
   "pygments_lexer": "ipython3",
   "version": "3.6.3"
  }
 },
 "nbformat": 4,
 "nbformat_minor": 5
}
