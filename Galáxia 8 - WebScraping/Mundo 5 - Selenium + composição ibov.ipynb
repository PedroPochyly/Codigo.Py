{
 "cells": [
  {
   "cell_type": "markdown",
   "id": "53faf482",
   "metadata": {},
   "source": [
    "# Mundo 5 - Selenium e composição do IBOV"
   ]
  },
  {
   "cell_type": "code",
   "execution_count": 5,
   "id": "a4a54cbf",
   "metadata": {},
   "outputs": [],
   "source": [
    "from selenium import webdriver\n",
    "from selenium.webdriver.chrome.service import Service\n",
    "from webdriver_manager.chrome import ChromeDriverManager"
   ]
  },
  {
   "cell_type": "code",
   "execution_count": 2,
   "id": "aa6877d2",
   "metadata": {},
   "outputs": [],
   "source": [
    "driver = webdriver.Chrome(service=Service(ChromeDriverManager().install()))"
   ]
  },
  {
   "cell_type": "code",
   "execution_count": 3,
   "id": "77a5f57d",
   "metadata": {},
   "outputs": [],
   "source": [
    "driver.get('''https://www.b3.com.br/pt_br/market-data-e-indices/indices\n",
    "/indices-amplos/indice-ibovespa-ibovespa-composicao-da-carteira.htm''')"
   ]
  },
  {
   "cell_type": "code",
   "execution_count": 4,
   "id": "1e94d9f8",
   "metadata": {},
   "outputs": [],
   "source": [
    "driver.maximize_window()"
   ]
  },
  {
   "cell_type": "code",
   "execution_count": null,
   "id": "a235f106",
   "metadata": {},
   "outputs": [],
   "source": [
    "boto_download_planilha = driver.find_element(\"xpath\", '//*[@id=\"divContainerIframeB3\"]/div/div[1]/form/div[2]/div/div[2]/div/div/div[1]/div[2]/p/a')\n",
    "\n",
    "#nao vai achar porque ta dentro de um iframe. toma muito cuidado com isso!!! "
   ]
  },
  {
   "cell_type": "markdown",
   "id": "2ad57576",
   "metadata": {},
   "source": [
    "# Existem duas formas de trocar pra outra URL:\n",
    "\n",
    "* Achar o iframe e trocar com o selenium\n",
    "* Utilizar um recurso de espera e trocar automaticamente\n",
    "\n",
    "# Modo 1:"
   ]
  },
  {
   "cell_type": "code",
   "execution_count": null,
   "id": "256a2530",
   "metadata": {},
   "outputs": [],
   "source": [
    "iframe = driver.find_element(\"id\", \"bvmf_iframe\")\n",
    "\n",
    "driver.switch_to.frame(iframe)"
   ]
  },
  {
   "cell_type": "markdown",
   "id": "d94b18ba",
   "metadata": {},
   "source": [
    "# Modo 2:\n",
    "\n",
    "Esse modo serve pra 1 milhão de coisas e é mais genérico"
   ]
  },
  {
   "cell_type": "code",
   "execution_count": 7,
   "id": "6a84a8a0",
   "metadata": {},
   "outputs": [],
   "source": [
    "from selenium.webdriver.common.by import By\n",
    "from selenium.webdriver.support import expected_conditions as EC\n",
    "from selenium.webdriver.support.ui import WebDriverWait"
   ]
  },
  {
   "cell_type": "code",
   "execution_count": null,
   "id": "c0ad651d",
   "metadata": {},
   "outputs": [],
   "source": [
    "WebDriverWait(driver, 10).until(\n",
    "    EC.frame_to_be_available_and_switch_to_it((By.ID, \"bvmf_iframe\")))\n",
    "\n",
    "#element_to_be_clickable\n",
    "#text_to_be_present_in_element"
   ]
  },
  {
   "cell_type": "code",
   "execution_count": null,
   "id": "13bdb465",
   "metadata": {},
   "outputs": [],
   "source": [
    "planilha = driver.find_element(\"xpath\", '//*[@id=\"divContainerIframeB3\"]/div/div[1]/form/div[2]/div/div[2]/div/div/div[1]/div[2]/p/a')"
   ]
  },
  {
   "cell_type": "code",
   "execution_count": null,
   "id": "75c96ed3",
   "metadata": {},
   "outputs": [],
   "source": [
    "#planilha.click()\n",
    "\n",
    "driver.execute_script(\"arguments[0].click();\", planilha)"
   ]
  },
  {
   "cell_type": "markdown",
   "id": "62b07a8d",
   "metadata": {},
   "source": [
    "# Como selecionar caixinhas com o Selenium"
   ]
  },
  {
   "cell_type": "code",
   "execution_count": null,
   "id": "fdddb104",
   "metadata": {},
   "outputs": [],
   "source": [
    "from selenium.webdriver.support.ui import Select"
   ]
  },
  {
   "cell_type": "code",
   "execution_count": null,
   "id": "8858e986",
   "metadata": {},
   "outputs": [],
   "source": [
    "botao_de_selecao = driver.find_element(\"id\", \"selectPage\")\n",
    "\n",
    "caixa_de_selecao = Select(botao_de_selecao).select_by_visible_text(\"60\")"
   ]
  },
  {
   "cell_type": "code",
   "execution_count": null,
   "id": "5916f638",
   "metadata": {},
   "outputs": [],
   "source": [
    "driver.quit() \n",
    "#cuidado com esse quit antes de baixar"
   ]
  },
  {
   "cell_type": "code",
   "execution_count": null,
   "id": "96881fd1",
   "metadata": {},
   "outputs": [],
   "source": [
    "import pandas as pd\n",
    "from datetime import date"
   ]
  },
  {
   "cell_type": "code",
   "execution_count": null,
   "id": "2b18018a",
   "metadata": {},
   "outputs": [],
   "source": [
    "dia = date.today().day\n",
    "mes = date.today().month\n",
    "ano = date.today().year\n",
    "\n",
    "if dia < 10:\n",
    "    \n",
    "    dia = \"0\" + str(dia)\n",
    "\n",
    "if mes < 10:\n",
    "    \n",
    "    mes = \"0\" + str(mes)\n",
    "    \n",
    "ano = str(ano)[2:]\n",
    "\n",
    "print(dia, mes, ano)"
   ]
  },
  {
   "cell_type": "code",
   "execution_count": null,
   "id": "72333d69",
   "metadata": {},
   "outputs": [],
   "source": [
    "ibovespa_comp = pd.read_csv(fr\"C:\\Users\\lsiqu\\Downloads\\IBOVDia_{dia}-{mes}-{ano}.csv\", sep = \";\", \n",
    "                            skipfooter = 2, encoding = 'ISO-8859-1', engine = 'python', decimal = ',',\n",
    "                           thousands = \".\", header = 1, index_col = False)\n",
    "\n",
    "ibovespa_comp"
   ]
  },
  {
   "cell_type": "markdown",
   "id": "ae1bf0c0",
   "metadata": {},
   "source": [
    "# Exercícios \n",
    "\n",
    "Exercício 144: Faça webscraping do dólar no banco central, pegando as cotações do dólar com a data já pré prenchida no formulário.\n",
    "\n",
    "Link: https://www.bcb.gov.br/estabilidadefinanceira/historicocotacoes"
   ]
  },
  {
   "cell_type": "code",
   "execution_count": 8,
   "id": "67f99ad6",
   "metadata": {},
   "outputs": [
    {
     "ename": "TimeoutException",
     "evalue": "Message: \nStacktrace:\n\tGetHandleVerifier [0x00E1D363+60275]\n\tGetHandleVerifier [0x00E1D3A4+60340]\n\t(No symbol) [0x00C506F3]\n\t(No symbol) [0x00C98690]\n\t(No symbol) [0x00C98A2B]\n\t(No symbol) [0x00CE0EE2]\n\t(No symbol) [0x00CBD0D4]\n\t(No symbol) [0x00CDE6EB]\n\t(No symbol) [0x00CBCE86]\n\t(No symbol) [0x00C8C623]\n\t(No symbol) [0x00C8D474]\n\tGetHandleVerifier [0x01068FE3+2467827]\n\tGetHandleVerifier [0x010645E6+2448886]\n\tGetHandleVerifier [0x0107F80C+2560028]\n\tGetHandleVerifier [0x00E33DF5+153093]\n\tGetHandleVerifier [0x00E3A3BD+179149]\n\tGetHandleVerifier [0x00E24BB8+91080]\n\tGetHandleVerifier [0x00E24D60+91504]\n\tGetHandleVerifier [0x00E0FA10+4640]\n\tBaseThreadInitThunk [0x76F57BA9+25]\n\tRtlInitializeExceptionChain [0x77A3C2EB+107]\n\tRtlClearBits [0x77A3C26F+191]\n",
     "output_type": "error",
     "traceback": [
      "\u001b[31m---------------------------------------------------------------------------\u001b[39m",
      "\u001b[31mTimeoutException\u001b[39m                          Traceback (most recent call last)",
      "\u001b[36mCell\u001b[39m\u001b[36m \u001b[39m\u001b[32mIn[8]\u001b[39m\u001b[32m, line 7\u001b[39m\n\u001b[32m      3\u001b[39m url = \u001b[33m'\u001b[39m\u001b[33mhttps://www.bcb.gov.br/estabilidadefinanceira/historicocotacoes\u001b[39m\u001b[33m'\u001b[39m\n\u001b[32m      5\u001b[39m driver.get(url)\n\u001b[32m----> \u001b[39m\u001b[32m7\u001b[39m \u001b[43mWebDriverWait\u001b[49m\u001b[43m(\u001b[49m\u001b[43mdriver\u001b[49m\u001b[43m,\u001b[49m\u001b[43m \u001b[49m\u001b[32;43m10\u001b[39;49m\u001b[43m)\u001b[49m\u001b[43m.\u001b[49m\u001b[43muntil\u001b[49m\u001b[43m(\u001b[49m\n\u001b[32m      8\u001b[39m \u001b[43m    \u001b[49m\u001b[43mEC\u001b[49m\u001b[43m.\u001b[49m\u001b[43mframe_to_be_available_and_switch_to_it\u001b[49m\u001b[43m(\u001b[49m\u001b[43m(\u001b[49m\u001b[43mBy\u001b[49m\u001b[43m.\u001b[49m\u001b[43mXPATH\u001b[49m\u001b[43m,\u001b[49m\u001b[43m \u001b[49m\u001b[33;43m\"\u001b[39;49m\u001b[33;43m/html/body/app-root/app-root/main/dynamic-comp/div/div[2]/div[1]/div/iframe\u001b[39;49m\u001b[33;43m\"\u001b[39;49m\u001b[43m)\u001b[49m\u001b[43m)\u001b[49m\u001b[43m)\u001b[49m\n\u001b[32m     10\u001b[39m botao_pesquisar = driver.find_element(\u001b[33m\"\u001b[39m\u001b[33mxpath\u001b[39m\u001b[33m\"\u001b[39m, \u001b[33m'\u001b[39m\u001b[33m/html/body/div/form/div/input\u001b[39m\u001b[33m'\u001b[39m)\n\u001b[32m     12\u001b[39m driver.execute_script(\u001b[33m\"\u001b[39m\u001b[33marguments[0].click();\u001b[39m\u001b[33m\"\u001b[39m, botao_pesquisar)\n",
      "\u001b[36mFile \u001b[39m\u001b[32mc:\\Users\\João Felipe\\GitHub\\Codigo.Py\\.venv\\Lib\\site-packages\\selenium\\webdriver\\support\\wait.py:146\u001b[39m, in \u001b[36mWebDriverWait.until\u001b[39m\u001b[34m(self, method, message)\u001b[39m\n\u001b[32m    144\u001b[39m         \u001b[38;5;28;01mbreak\u001b[39;00m\n\u001b[32m    145\u001b[39m     time.sleep(\u001b[38;5;28mself\u001b[39m._poll)\n\u001b[32m--> \u001b[39m\u001b[32m146\u001b[39m \u001b[38;5;28;01mraise\u001b[39;00m TimeoutException(message, screen, stacktrace)\n",
      "\u001b[31mTimeoutException\u001b[39m: Message: \nStacktrace:\n\tGetHandleVerifier [0x00E1D363+60275]\n\tGetHandleVerifier [0x00E1D3A4+60340]\n\t(No symbol) [0x00C506F3]\n\t(No symbol) [0x00C98690]\n\t(No symbol) [0x00C98A2B]\n\t(No symbol) [0x00CE0EE2]\n\t(No symbol) [0x00CBD0D4]\n\t(No symbol) [0x00CDE6EB]\n\t(No symbol) [0x00CBCE86]\n\t(No symbol) [0x00C8C623]\n\t(No symbol) [0x00C8D474]\n\tGetHandleVerifier [0x01068FE3+2467827]\n\tGetHandleVerifier [0x010645E6+2448886]\n\tGetHandleVerifier [0x0107F80C+2560028]\n\tGetHandleVerifier [0x00E33DF5+153093]\n\tGetHandleVerifier [0x00E3A3BD+179149]\n\tGetHandleVerifier [0x00E24BB8+91080]\n\tGetHandleVerifier [0x00E24D60+91504]\n\tGetHandleVerifier [0x00E0FA10+4640]\n\tBaseThreadInitThunk [0x76F57BA9+25]\n\tRtlInitializeExceptionChain [0x77A3C2EB+107]\n\tRtlClearBits [0x77A3C26F+191]\n"
     ]
    }
   ],
   "source": [
    "driver = webdriver.Chrome(service=Service(ChromeDriverManager().install()))\n",
    "\n",
    "url = 'https://www.bcb.gov.br/estabilidadefinanceira/historicocotacoes'\n",
    "\n",
    "driver.get(url)\n",
    "\n",
    "WebDriverWait(driver, 10).until(\n",
    "    EC.frame_to_be_available_and_switch_to_it((By.XPATH, \"/html/body/app-root/app-root/main/dynamic-comp/div/div[2]/div[1]/div/iframe\")))\n",
    "\n",
    "botao_pesquisar = driver.find_element(\"xpath\", '/html/body/div/form/div/input')\n",
    "\n",
    "driver.execute_script(\"arguments[0].click();\", botao_pesquisar)\n",
    "\n",
    "tabela = driver.find_element(\"xpath\", '/html/body/div/table')\n",
    "\n",
    "html_tabela = tabela.get_attribute('outerHTML')\n",
    "\n",
    "cotacao_dolar = pd.read_html(html_tabela)[0]\n",
    "\n",
    "driver.quit()\n",
    "\n",
    "cotacao_dolar"
   ]
  },
  {
   "cell_type": "code",
   "execution_count": null,
   "id": "229dcd25",
   "metadata": {},
   "outputs": [],
   "source": [
    "cotacao_dolar = cotacao_dolar.droplevel(level = 0, axis = 1)\n",
    "cotacao_dolar = cotacao_dolar.dropna(axis = 1).drop(18, axis = 0)\n",
    "\n",
    "cotacao_dolar"
   ]
  },
  {
   "cell_type": "code",
   "execution_count": null,
   "id": "16e7dff9",
   "metadata": {},
   "outputs": [],
   "source": [
    "driver = webdriver.Chrome(service=Service(ChromeDriverManager().install()))\n",
    "\n",
    "url = 'https://www.bcb.gov.br/estabilidadefinanceira/historicocotacoes'\n",
    "\n",
    "driver.get(url)\n",
    "\n",
    "WebDriverWait(driver, 10).until(\n",
    "    EC.frame_to_be_available_and_switch_to_it((By.XPATH, \"/html/body/app-root/app-root/main/dynamic-comp/div/div[2]/div[1]/div/iframe\")))\n",
    "\n",
    "botao_pesquisar = driver.find_element(\"xpath\", '/html/body/div/form/div/input')\n",
    "\n",
    "driver.execute_script(\"arguments[0].click();\", botao_pesquisar)\n",
    "\n",
    "tabela = driver.find_element(\"xpath\", '/html/body/div/table')\n",
    "\n",
    "html_tabela = tabela.get_attribute('outerHTML')\n",
    "\n",
    "cotacao_dolar = pd.read_html(html_tabela)[0]\n",
    "\n",
    "driver.quit()\n",
    "\n",
    "cotacao_dolar"
   ]
  },
  {
   "cell_type": "code",
   "execution_count": null,
   "id": "80ad2f1c",
   "metadata": {},
   "outputs": [],
   "source": [
    "cotacao_dolar = cotacao_dolar.droplevel(level = 0, axis = 1)\n",
    "cotacao_dolar = cotacao_dolar.dropna(axis = 1).drop(18, axis = 0)\n",
    "\n",
    "cotacao_dolar"
   ]
  },
  {
   "cell_type": "code",
   "execution_count": null,
   "id": "b12061e7",
   "metadata": {},
   "outputs": [],
   "source": []
  }
 ],
 "metadata": {
  "kernelspec": {
   "display_name": ".venv",
   "language": "python",
   "name": "python3"
  },
  "language_info": {
   "codemirror_mode": {
    "name": "ipython",
    "version": 3
   },
   "file_extension": ".py",
   "mimetype": "text/x-python",
   "name": "python",
   "nbconvert_exporter": "python",
   "pygments_lexer": "ipython3",
   "version": "3.13.3"
  }
 },
 "nbformat": 4,
 "nbformat_minor": 5
}
