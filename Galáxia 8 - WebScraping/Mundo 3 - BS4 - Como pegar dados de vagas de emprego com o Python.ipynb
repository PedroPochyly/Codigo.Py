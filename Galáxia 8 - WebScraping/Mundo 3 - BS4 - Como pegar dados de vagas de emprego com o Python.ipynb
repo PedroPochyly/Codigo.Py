{
 "cells": [
  {
   "cell_type": "markdown",
   "id": "2d32951e",
   "metadata": {},
   "source": [
    "# Mundo 3 - BS4: Pegando dados de vagas de emprego com o Python"
   ]
  },
  {
   "cell_type": "code",
   "execution_count": 1,
   "id": "d355931e",
   "metadata": {},
   "outputs": [
    {
     "name": "stdout",
     "output_type": "stream",
     "text": [
      "Requirement already satisfied: beautifulsoup4 in c:\\users\\pedro\\github\\codigo.py\\.venv\\lib\\site-packages (4.13.3)\n",
      "Requirement already satisfied: soupsieve>1.2 in c:\\users\\pedro\\github\\codigo.py\\.venv\\lib\\site-packages (from beautifulsoup4) (2.6)\n",
      "Requirement already satisfied: typing-extensions>=4.0.0 in c:\\users\\pedro\\github\\codigo.py\\.venv\\lib\\site-packages (from beautifulsoup4) (4.13.1)\n"
     ]
    }
   ],
   "source": [
    "!pip install beautifulsoup4"
   ]
  },
  {
   "cell_type": "code",
   "execution_count": 2,
   "id": "90d062eb",
   "metadata": {},
   "outputs": [
    {
     "name": "stdout",
     "output_type": "stream",
     "text": [
      "Collecting lxml\n",
      "  Downloading lxml-5.3.2-cp313-cp313-win_amd64.whl.metadata (3.7 kB)\n",
      "Downloading lxml-5.3.2-cp313-cp313-win_amd64.whl (3.8 MB)\n",
      "   ---------------------------------------- 0.0/3.8 MB ? eta -:--:--\n",
      "   ----- ---------------------------------- 0.5/3.8 MB 3.5 MB/s eta 0:00:01\n",
      "   ---------------- ----------------------- 1.6/3.8 MB 4.5 MB/s eta 0:00:01\n",
      "   ------------------------ --------------- 2.4/3.8 MB 4.3 MB/s eta 0:00:01\n",
      "   -------------------------------- ------- 3.1/3.8 MB 4.1 MB/s eta 0:00:01\n",
      "   -------------------------------------- - 3.7/3.8 MB 3.9 MB/s eta 0:00:01\n",
      "   ---------------------------------------- 3.8/3.8 MB 3.7 MB/s eta 0:00:00\n",
      "Installing collected packages: lxml\n",
      "Successfully installed lxml-5.3.2\n"
     ]
    }
   ],
   "source": [
    "!pip install lxml"
   ]
  },
  {
   "cell_type": "markdown",
   "id": "99080f6b",
   "metadata": {},
   "source": [
    "# O beautifulsoup\n",
    "\n",
    "* Esse é o pacote mais simples pra web scraping.\n",
    "* Geralmente ele é utilizado como pacote auxiliar e em conjunto com requests/selenium.\n",
    "* Esse pacote só serve pra sites simples.\n",
    "* Eu particulamente prefiro usar o Selenium, embora a performance do BS4 seja muito superior quando ele consegue ser usado sozinho."
   ]
  },
  {
   "cell_type": "code",
   "execution_count": 3,
   "id": "17378695",
   "metadata": {},
   "outputs": [],
   "source": [
    "import requests \n",
    "from bs4 import BeautifulSoup\n",
    "from pprint import pprint\n",
    "import pandas as pd"
   ]
  },
  {
   "cell_type": "code",
   "execution_count": null,
   "id": "f161ea26",
   "metadata": {},
   "outputs": [
    {
     "ename": "TypeError",
     "evalue": "'str' object is not callable",
     "output_type": "error",
     "traceback": [
      "\u001b[31m---------------------------------------------------------------------------\u001b[39m",
      "\u001b[31mTypeError\u001b[39m                                 Traceback (most recent call last)",
      "\u001b[36mCell\u001b[39m\u001b[36m \u001b[39m\u001b[32mIn[6]\u001b[39m\u001b[32m, line 4\u001b[39m\n\u001b[32m      1\u001b[39m response = requests.get(\u001b[33m'''\u001b[39m\n\u001b[32m      2\u001b[39m \u001b[33mhttps://pt.wikipedia.org/wiki/Popula\u001b[39m\u001b[33m%\u001b[39m\u001b[33mC3\u001b[39m\u001b[33m%\u001b[39m\u001b[33mA7\u001b[39m\u001b[33m%\u001b[39m\u001b[33mC3\u001b[39m\u001b[33m%\u001b[39m\u001b[33mA3o_mundial\u001b[39m\u001b[33m'''\u001b[39m)\n\u001b[32m----> \u001b[39m\u001b[32m4\u001b[39m pprint(\u001b[43mresponse\u001b[49m\u001b[43m.\u001b[49m\u001b[43mtext\u001b[49m\u001b[43m(\u001b[49m\u001b[43m)\u001b[49m)\n",
      "\u001b[31mTypeError\u001b[39m: 'str' object is not callable"
     ]
    }
   ],
   "source": [
    "response = requests.get('''\n",
    "https://pt.wikipedia.org/wiki/Popula%C3%A7%C3%A3o_mundial''')\n",
    "\n",
    "response.text"
   ]
  },
  {
   "cell_type": "code",
   "execution_count": 7,
   "id": "983ea6cc",
   "metadata": {},
   "outputs": [
    {
     "name": "stderr",
     "output_type": "stream",
     "text": [
      "C:\\Users\\pedro\\AppData\\Local\\Temp\\ipykernel_15728\\3697017280.py:8: FutureWarning: Passing literal html to 'read_html' is deprecated and will be removed in a future version. To read from a literal string, wrap it in a 'StringIO' object.\n",
      "  df = pd.read_html(str(tabela))[0]#n pode esquecer do STR!!\n"
     ]
    },
    {
     "data": {
      "text/html": [
       "<div>\n",
       "<style scoped>\n",
       "    .dataframe tbody tr th:only-of-type {\n",
       "        vertical-align: middle;\n",
       "    }\n",
       "\n",
       "    .dataframe tbody tr th {\n",
       "        vertical-align: top;\n",
       "    }\n",
       "\n",
       "    .dataframe thead th {\n",
       "        text-align: right;\n",
       "    }\n",
       "</style>\n",
       "<table border=\"1\" class=\"dataframe\">\n",
       "  <thead>\n",
       "    <tr style=\"text-align: right;\">\n",
       "      <th></th>\n",
       "      <th>Região</th>\n",
       "      <th>2022 (%)</th>\n",
       "      <th>2030 (%)</th>\n",
       "      <th>2050 (%)</th>\n",
       "    </tr>\n",
       "  </thead>\n",
       "  <tbody>\n",
       "    <tr>\n",
       "      <th>0</th>\n",
       "      <td>África Subsaariana</td>\n",
       "      <td>1.152 (14,51%)</td>\n",
       "      <td>1.401 (16,46%)</td>\n",
       "      <td>2.094 (21,62%)</td>\n",
       "    </tr>\n",
       "    <tr>\n",
       "      <th>1</th>\n",
       "      <td>Norte de África e Ásia Ocidental</td>\n",
       "      <td>549 (6,91%)</td>\n",
       "      <td>617 (7,25%)</td>\n",
       "      <td>771 (7,96%)</td>\n",
       "    </tr>\n",
       "    <tr>\n",
       "      <th>2</th>\n",
       "      <td>Ásia Central e Ásia Meridional</td>\n",
       "      <td>2.075 (26,13%)</td>\n",
       "      <td>2.248 (26,41%)</td>\n",
       "      <td>2.575 (26,58%)</td>\n",
       "    </tr>\n",
       "    <tr>\n",
       "      <th>3</th>\n",
       "      <td>Ásia Oriental e Sudeste Asiático</td>\n",
       "      <td>2.342 (29,49%)</td>\n",
       "      <td>2.372 (27,87%)</td>\n",
       "      <td>2.317 (23,92%)</td>\n",
       "    </tr>\n",
       "    <tr>\n",
       "      <th>4</th>\n",
       "      <td>Europa, EUA e Canadá</td>\n",
       "      <td>1.120 (14,10%)</td>\n",
       "      <td>1.129 (13,26%)</td>\n",
       "      <td>1.125 (11,61%)</td>\n",
       "    </tr>\n",
       "    <tr>\n",
       "      <th>5</th>\n",
       "      <td>América Latina e Caraíbas</td>\n",
       "      <td>658 (8,29%)</td>\n",
       "      <td>695 (8,17%)</td>\n",
       "      <td>749 (7,73%)</td>\n",
       "    </tr>\n",
       "    <tr>\n",
       "      <th>6</th>\n",
       "      <td>Austrália/Nova Zelândia</td>\n",
       "      <td>31 (0,39%)</td>\n",
       "      <td>34 (0,40%)</td>\n",
       "      <td>38 (0,39%)</td>\n",
       "    </tr>\n",
       "    <tr>\n",
       "      <th>7</th>\n",
       "      <td>Outros países da Oceânia</td>\n",
       "      <td>14 (0,18%)</td>\n",
       "      <td>15 (0,18%)</td>\n",
       "      <td>20 (0,21%)</td>\n",
       "    </tr>\n",
       "    <tr>\n",
       "      <th>8</th>\n",
       "      <td>Mundo</td>\n",
       "      <td>7.942</td>\n",
       "      <td>8.512</td>\n",
       "      <td>9.687</td>\n",
       "    </tr>\n",
       "  </tbody>\n",
       "</table>\n",
       "</div>"
      ],
      "text/plain": [
       "                             Região        2022 (%)        2030 (%)  \\\n",
       "0                África Subsaariana  1.152 (14,51%)  1.401 (16,46%)   \n",
       "1  Norte de África e Ásia Ocidental     549 (6,91%)     617 (7,25%)   \n",
       "2    Ásia Central e Ásia Meridional  2.075 (26,13%)  2.248 (26,41%)   \n",
       "3  Ásia Oriental e Sudeste Asiático  2.342 (29,49%)  2.372 (27,87%)   \n",
       "4              Europa, EUA e Canadá  1.120 (14,10%)  1.129 (13,26%)   \n",
       "5         América Latina e Caraíbas     658 (8,29%)     695 (8,17%)   \n",
       "6           Austrália/Nova Zelândia      31 (0,39%)      34 (0,40%)   \n",
       "7          Outros países da Oceânia      14 (0,18%)      15 (0,18%)   \n",
       "8                             Mundo           7.942           8.512   \n",
       "\n",
       "         2050 (%)  \n",
       "0  2.094 (21,62%)  \n",
       "1     771 (7,96%)  \n",
       "2  2.575 (26,58%)  \n",
       "3  2.317 (23,92%)  \n",
       "4  1.125 (11,61%)  \n",
       "5     749 (7,73%)  \n",
       "6      38 (0,39%)  \n",
       "7      20 (0,21%)  \n",
       "8           9.687  "
      ]
     },
     "metadata": {},
     "output_type": "display_data"
    }
   ],
   "source": [
    "response = requests.get('''\n",
    "https://pt.wikipedia.org/wiki/Popula%C3%A7%C3%A3o_mundial''') #vai carregar a pagina\n",
    "\n",
    "soup = BeautifulSoup(response.text, 'html.parser') #transformar o html da pagina em um objeto do soup\n",
    "\n",
    "tabela = soup.find(\"table\") #achar o que você precisa. acabou. \n",
    "\n",
    "df = pd.read_html(str(tabela))[0]#n pode esquecer do STR!! \n",
    "\n",
    "display(df)\n",
    "#sempre utilizaremos o pandas pra pegar dados de tabelas"
   ]
  },
  {
   "cell_type": "code",
   "execution_count": null,
   "id": "ba06a60a",
   "metadata": {},
   "outputs": [],
   "source": [
    "url_vagas = '''https://www.timesjobs.com/candidate/job-search.html?\n",
    "searchType=personalizedSearch&from=submit&txtKeywords=python&txtLocation='''\n",
    "\n",
    "response = requests.get(url_vagas)\n",
    "\n",
    "soup = BeautifulSoup(response.text, 'html.parser')\n",
    "\n",
    "lista_vagas = soup.find_all(\"li\", class_ = '''clearfix job-bx wht-shd-bx''') \n",
    "\n",
    "pprint(lista_vagas)"
   ]
  },
  {
   "cell_type": "code",
   "execution_count": null,
   "id": "da2784e9",
   "metadata": {},
   "outputs": [],
   "source": [
    "lista_dfs = []\n",
    "\n",
    "for vaga in lista_vagas:\n",
    "    \n",
    "    \n",
    "    empresa = vaga.h3.text.replace(\" \", \"\").strip()\n",
    "    requesitos = vaga.find('span', class_ = 'srp-skills').text.replace(\" \", \"\").strip()\n",
    "    data_publicacao = vaga.find('span', class_ = 'sim-posted').span.text\n",
    "    \n",
    "    df = pd.DataFrame({'empresa': empresa,\n",
    "                      'requesitos': requesitos,\n",
    "                      'data_publicacao': data_publicacao},\n",
    "                     index = [0])\n",
    "    \n",
    "    lista_dfs.append(df)\n",
    "    \n",
    "\n",
    "tabela_vagas = pd.concat(lista_dfs, ignore_index = True)\n",
    "\n",
    "tabela_vagas"
   ]
  },
  {
   "cell_type": "markdown",
   "id": "a2d4a5ef",
   "metadata": {},
   "source": [
    "# Exercícios \n",
    "\n",
    "* Exercício 141: Colete os dados de população por município no Brasil no site da Wikipedia. "
   ]
  },
  {
   "cell_type": "code",
   "execution_count": null,
   "id": "7aca0508",
   "metadata": {},
   "outputs": [],
   "source": []
  },
  {
   "cell_type": "code",
   "execution_count": null,
   "id": "8c78f212",
   "metadata": {},
   "outputs": [],
   "source": []
  },
  {
   "cell_type": "code",
   "execution_count": null,
   "id": "81a7b194",
   "metadata": {},
   "outputs": [],
   "source": []
  },
  {
   "cell_type": "code",
   "execution_count": null,
   "id": "8280aff2",
   "metadata": {
    "scrolled": true
   },
   "outputs": [],
   "source": [
    "#gabarito 141\n",
    "\n",
    "url = 'https://pt.wikipedia.org/wiki/Lista_de_munic%C3%ADpios_do_Brasil_por_popula%C3%A7%C3%A3o'\n",
    "\n",
    "response = requests.get(url)\n",
    "\n",
    "soup = BeautifulSoup(response.text, 'lxml')\n",
    "\n",
    "municipios_html = soup.find(\"table\") \n",
    "\n",
    "tabela_municipios = pd.read_html(str(municipios_html))[0]\n",
    "\n",
    "tabela_municipios"
   ]
  },
  {
   "cell_type": "code",
   "execution_count": null,
   "id": "8ef97094",
   "metadata": {},
   "outputs": [],
   "source": []
  },
  {
   "cell_type": "code",
   "execution_count": null,
   "id": "9efbd855",
   "metadata": {},
   "outputs": [],
   "source": []
  },
  {
   "cell_type": "code",
   "execution_count": null,
   "id": "a7ef0a92",
   "metadata": {},
   "outputs": [],
   "source": []
  }
 ],
 "metadata": {
  "kernelspec": {
   "display_name": ".venv",
   "language": "python",
   "name": "python3"
  },
  "language_info": {
   "codemirror_mode": {
    "name": "ipython",
    "version": 3
   },
   "file_extension": ".py",
   "mimetype": "text/x-python",
   "name": "python",
   "nbconvert_exporter": "python",
   "pygments_lexer": "ipython3",
   "version": "3.13.2"
  }
 },
 "nbformat": 4,
 "nbformat_minor": 5
}
