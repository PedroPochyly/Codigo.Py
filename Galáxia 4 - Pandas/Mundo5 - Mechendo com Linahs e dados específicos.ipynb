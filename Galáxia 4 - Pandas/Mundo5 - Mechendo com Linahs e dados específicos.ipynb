{
 "cells": [
  {
   "cell_type": "markdown",
   "id": "7f98ad22",
   "metadata": {},
   "source": [
    "# Mundo 5\n",
    "### Introdução ao Pandas"
   ]
  },
  {
   "cell_type": "code",
   "execution_count": 4,
   "id": "3d345c18",
   "metadata": {},
   "outputs": [
    {
     "name": "stdout",
     "output_type": "stream",
     "text": [
      "           derivativo       moeda  price\n",
      "2014-01-05     DOLFT3  dolar/real   5.24\n",
      "2014-01-05     LIBFT3  libra/real   4.15\n",
      "           derivativo       moeda  price\n",
      "2014-01-05     DOLFT3  dolar/real   5.24\n",
      "2014-01-05     LIBFT3  libra/real   4.15\n",
      "2014-01-06     DOLFT3  dolar/real   5.26\n",
      "2014-01-06     LIBFT3  libra/real   4.23\n",
      "2014-01-07     DOLFT3  dolar/real   5.55\n",
      "2014-01-07     LIBFT3  libra/real   4.02\n",
      "2014-01-05    5.24\n",
      "2014-01-05    4.15\n",
      "2014-01-06    5.26\n",
      "2014-01-06    4.23\n",
      "2014-01-07    5.55\n",
      "2014-01-07    4.02\n",
      "Name: price, dtype: float64\n",
      "2014-01-05    5.24\n",
      "2014-01-05    4.15\n",
      "Name: price, dtype: float64\n",
      "                 moeda  price\n",
      "2014-01-05  dolar/real   5.24\n",
      "2014-01-05  libra/real   4.15\n"
     ]
    },
    {
     "data": {
      "text/plain": [
       "2014-01-05    5.24\n",
       "2014-01-05    4.15\n",
       "2014-01-06    5.26\n",
       "2014-01-06    4.23\n",
       "2014-01-07    5.55\n",
       "2014-01-07    4.02\n",
       "2014-01-08    5.76\n",
       "2014-01-08    3.98\n",
       "Name: price, dtype: float64"
      ]
     },
     "execution_count": 4,
     "metadata": {},
     "output_type": "execute_result"
    }
   ],
   "source": [
    "import pandas as pd\n",
    "\n",
    "df_cambio = pd.DataFrame({\n",
    "                        \"moeda\": ['dolar/real', 'libra/real'] * 4,\n",
    "                        \"price\": [5.24, 4.15, 5.26, 4.23, 5.55, 4.02, 5.76, 3.98],\n",
    "                        \"derivativo\": list([\"DOLFT3\", \"LIBFT3\"]) * 4},                    \n",
    "                    index = sorted(list(pd.date_range(\"1/5/2014\", periods = 4)) * 2))\n",
    "\n",
    "df_cambio\n",
    "\n",
    "\n",
    "#ferramentas loc, iloc, at, iat - LOC SERVE PARA PEGAR VARIOS ELEMENTOS DE UMA VEZ, ENQUANTO AT E IAT\n",
    "\n",
    "#loc serve para localizar através de nomes\n",
    "\n",
    "#um unico dia\n",
    "print(df_cambio.loc['2014-01-05'])\n",
    "\n",
    "#algum periodo\n",
    "print(df_cambio.loc['2014-01-05':'2014-01-07'])\n",
    "\n",
    "#um periodo sobre a informação preço\n",
    "print(df_cambio.loc['2014-01-05':'2014-01-07', 'price'])\n",
    "\n",
    "#um dia sobre a informação preço\n",
    "print(df_cambio.loc['2014-01-05', 'price'])\n",
    "\n",
    "#um dia sobre a informação preço e moeda\n",
    "print(df_cambio.loc['2014-01-05', 'moeda':'price'])\n",
    "\n",
    "#todos os dados da informação preço\n",
    "df_cambio.loc[:, 'price']\n",
    "\n"
   ]
  },
  {
   "cell_type": "code",
   "execution_count": null,
   "id": "6ad0e046",
   "metadata": {},
   "outputs": [],
   "source": [
    "#at é igual ao loc, só que serve pra localizar um único item. + otimizado\n",
    "\n",
    "#df_cambio.at['2014-01-05']\n",
    "df_cambio.at['2014-01-05', \"price\"] #mais otimizado que loc pra pegar uma linha e uma coluna"
   ]
  },
  {
   "cell_type": "code",
   "execution_count": 32,
   "id": "61d19c5d",
   "metadata": {},
   "outputs": [
    {
     "data": {
      "text/html": [
       "<div>\n",
       "<style scoped>\n",
       "    .dataframe tbody tr th:only-of-type {\n",
       "        vertical-align: middle;\n",
       "    }\n",
       "\n",
       "    .dataframe tbody tr th {\n",
       "        vertical-align: top;\n",
       "    }\n",
       "\n",
       "    .dataframe thead th {\n",
       "        text-align: right;\n",
       "    }\n",
       "</style>\n",
       "<table border=\"1\" class=\"dataframe\">\n",
       "  <thead>\n",
       "    <tr style=\"text-align: right;\">\n",
       "      <th></th>\n",
       "      <th>moeda</th>\n",
       "      <th>price</th>\n",
       "      <th>derivativo</th>\n",
       "    </tr>\n",
       "  </thead>\n",
       "  <tbody>\n",
       "    <tr>\n",
       "      <th>2014-01-05</th>\n",
       "      <td>dolar/real</td>\n",
       "      <td>5.24</td>\n",
       "      <td>DOLFT3</td>\n",
       "    </tr>\n",
       "    <tr>\n",
       "      <th>2014-01-05</th>\n",
       "      <td>libra/real</td>\n",
       "      <td>4.15</td>\n",
       "      <td>LIBFT3</td>\n",
       "    </tr>\n",
       "    <tr>\n",
       "      <th>2014-01-06</th>\n",
       "      <td>dolar/real</td>\n",
       "      <td>5.26</td>\n",
       "      <td>DOLFT3</td>\n",
       "    </tr>\n",
       "    <tr>\n",
       "      <th>2014-01-06</th>\n",
       "      <td>libra/real</td>\n",
       "      <td>4.23</td>\n",
       "      <td>LIBFT3</td>\n",
       "    </tr>\n",
       "    <tr>\n",
       "      <th>2014-01-07</th>\n",
       "      <td>dolar/real</td>\n",
       "      <td>5.55</td>\n",
       "      <td>DOLFT3</td>\n",
       "    </tr>\n",
       "    <tr>\n",
       "      <th>2014-01-07</th>\n",
       "      <td>libra/real</td>\n",
       "      <td>4.02</td>\n",
       "      <td>LIBFT3</td>\n",
       "    </tr>\n",
       "    <tr>\n",
       "      <th>2014-01-08</th>\n",
       "      <td>dolar/real</td>\n",
       "      <td>5.76</td>\n",
       "      <td>DOLFT3</td>\n",
       "    </tr>\n",
       "    <tr>\n",
       "      <th>2014-01-08</th>\n",
       "      <td>libra/real</td>\n",
       "      <td>3.98</td>\n",
       "      <td>LIBFT3</td>\n",
       "    </tr>\n",
       "  </tbody>\n",
       "</table>\n",
       "</div>"
      ],
      "text/plain": [
       "                 moeda  price derivativo\n",
       "2014-01-05  dolar/real   5.24     DOLFT3\n",
       "2014-01-05  libra/real   4.15     LIBFT3\n",
       "2014-01-06  dolar/real   5.26     DOLFT3\n",
       "2014-01-06  libra/real   4.23     LIBFT3\n",
       "2014-01-07  dolar/real   5.55     DOLFT3\n",
       "2014-01-07  libra/real   4.02     LIBFT3\n",
       "2014-01-08  dolar/real   5.76     DOLFT3\n",
       "2014-01-08  libra/real   3.98     LIBFT3"
      ]
     },
     "execution_count": 32,
     "metadata": {},
     "output_type": "execute_result"
    }
   ],
   "source": [
    "df_cambio"
   ]
  },
  {
   "cell_type": "code",
   "execution_count": 31,
   "id": "bb141c57",
   "metadata": {},
   "outputs": [
    {
     "name": "stdout",
     "output_type": "stream",
     "text": [
      "5.24\n",
      "5.24\n"
     ]
    },
    {
     "data": {
      "text/plain": [
       "moeda         libra/real\n",
       "price               3.98\n",
       "derivativo        LIBFT3\n",
       "Name: 2014-01-08 00:00:00, dtype: object"
      ]
     },
     "execution_count": 31,
     "metadata": {},
     "output_type": "execute_result"
    }
   ],
   "source": [
    "#iloc serve pra selecionar itens através de índices numéricos. \n",
    "#Parecido com as listas, mas é preciso usar iloc antes.\n",
    "\n",
    "#primeira linha\n",
    "#print(df_cambio.iloc[0, :])\n",
    "\n",
    "#tres primeiras linhas\n",
    "\n",
    "#print(df_cambio.iloc[0:3, :])\n",
    "\n",
    "#primeira coluna\n",
    "#print(df_cambio.iloc[:, 0])\n",
    "\n",
    "#primeiro preço do cambio\n",
    "\n",
    "print(df_cambio.iloc[0, 1])\n",
    "\n",
    "#primeiro preço do cambio com iat\n",
    "\n",
    "cambio = df_cambio.iat[0, 1]\n",
    "\n",
    "print(cambio)\n",
    "\n",
    "#ultima linha\n",
    "\n",
    "df_cambio.iloc[-1, :]"
   ]
  },
  {
   "cell_type": "code",
   "execution_count": 35,
   "id": "e3787c46",
   "metadata": {},
   "outputs": [
    {
     "data": {
      "text/html": [
       "<div>\n",
       "<style scoped>\n",
       "    .dataframe tbody tr th:only-of-type {\n",
       "        vertical-align: middle;\n",
       "    }\n",
       "\n",
       "    .dataframe tbody tr th {\n",
       "        vertical-align: top;\n",
       "    }\n",
       "\n",
       "    .dataframe thead th {\n",
       "        text-align: right;\n",
       "    }\n",
       "</style>\n",
       "<table border=\"1\" class=\"dataframe\">\n",
       "  <thead>\n",
       "    <tr style=\"text-align: right;\">\n",
       "      <th></th>\n",
       "      <th>moeda</th>\n",
       "      <th>price</th>\n",
       "      <th>derivativo</th>\n",
       "    </tr>\n",
       "  </thead>\n",
       "  <tbody>\n",
       "    <tr>\n",
       "      <th>2014-01-05</th>\n",
       "      <td>Zona</td>\n",
       "      <td>Zona</td>\n",
       "      <td>Zona</td>\n",
       "    </tr>\n",
       "    <tr>\n",
       "      <th>2014-01-05</th>\n",
       "      <td>libra/real</td>\n",
       "      <td>4.15</td>\n",
       "      <td>LIBFT3</td>\n",
       "    </tr>\n",
       "    <tr>\n",
       "      <th>2014-01-06</th>\n",
       "      <td>Zona</td>\n",
       "      <td>Zona</td>\n",
       "      <td>Zona</td>\n",
       "    </tr>\n",
       "    <tr>\n",
       "      <th>2014-01-06</th>\n",
       "      <td>libra/real</td>\n",
       "      <td>4.23</td>\n",
       "      <td>LIBFT3</td>\n",
       "    </tr>\n",
       "    <tr>\n",
       "      <th>2014-01-07</th>\n",
       "      <td>Zona</td>\n",
       "      <td>Zona</td>\n",
       "      <td>Zona</td>\n",
       "    </tr>\n",
       "    <tr>\n",
       "      <th>2014-01-07</th>\n",
       "      <td>libra/real</td>\n",
       "      <td>4.02</td>\n",
       "      <td>LIBFT3</td>\n",
       "    </tr>\n",
       "    <tr>\n",
       "      <th>2014-01-08</th>\n",
       "      <td>Zona</td>\n",
       "      <td>Zona</td>\n",
       "      <td>Zona</td>\n",
       "    </tr>\n",
       "    <tr>\n",
       "      <th>2014-01-08</th>\n",
       "      <td>libra/real</td>\n",
       "      <td>3.98</td>\n",
       "      <td>LIBFT3</td>\n",
       "    </tr>\n",
       "  </tbody>\n",
       "</table>\n",
       "</div>"
      ],
      "text/plain": [
       "                 moeda price derivativo\n",
       "2014-01-05        Zona  Zona       Zona\n",
       "2014-01-05  libra/real  4.15     LIBFT3\n",
       "2014-01-06        Zona  Zona       Zona\n",
       "2014-01-06  libra/real  4.23     LIBFT3\n",
       "2014-01-07        Zona  Zona       Zona\n",
       "2014-01-07  libra/real  4.02     LIBFT3\n",
       "2014-01-08        Zona  Zona       Zona\n",
       "2014-01-08  libra/real  3.98     LIBFT3"
      ]
     },
     "execution_count": 35,
     "metadata": {},
     "output_type": "execute_result"
    }
   ],
   "source": [
    "#Substituir dados com loc\n",
    "\n",
    "#se um ativo mudar o código de negociação?\n",
    "df_cambio.loc[df_cambio['derivativo'] == \"DOLFT3\", 'derivativo'] = \"DOLFT4\"\n",
    "\n",
    "df_cambio.loc[df_cambio['derivativo'] == \"DOLFT4\"] = \"Zona\"\n",
    "\n",
    "df_cambio"
   ]
  },
  {
   "cell_type": "markdown",
   "id": "b78c9e20",
   "metadata": {},
   "source": [
    "# Exercícios \n",
    "\n",
    "A partir do DataFrame desenvolvido no exercício 40:\n",
    "\n",
    "* Exercício 47: Selecione a primeira linha inteira e a primeira coluna inteira com loc.\n",
    "* Exercício 48: Selecione o preço da weg com iat e com at.\n",
    "* Exercício 49: Selecione as duas primeiras linhas e todas as colunas com iloc."
   ]
  },
  {
   "cell_type": "code",
   "execution_count": 35,
   "id": "f1c97ef2",
   "metadata": {},
   "outputs": [
    {
     "data": {
      "text/html": [
       "<div>\n",
       "<style>\n",
       "    .dataframe thead tr:only-child th {\n",
       "        text-align: right;\n",
       "    }\n",
       "\n",
       "    .dataframe thead th {\n",
       "        text-align: left;\n",
       "    }\n",
       "\n",
       "    .dataframe tbody tr th {\n",
       "        vertical-align: top;\n",
       "    }\n",
       "</style>\n",
       "<table border=\"1\" class=\"dataframe\">\n",
       "  <thead>\n",
       "    <tr style=\"text-align: right;\">\n",
       "      <th></th>\n",
       "      <th>precos</th>\n",
       "      <th>nomes</th>\n",
       "      <th>preco_sobre_lucro</th>\n",
       "      <th>volume</th>\n",
       "    </tr>\n",
       "    <tr>\n",
       "      <th>tickers</th>\n",
       "      <th></th>\n",
       "      <th></th>\n",
       "      <th></th>\n",
       "      <th></th>\n",
       "    </tr>\n",
       "  </thead>\n",
       "  <tbody>\n",
       "    <tr>\n",
       "      <th>WEGE3</th>\n",
       "      <td>20</td>\n",
       "      <td>Weg</td>\n",
       "      <td>25</td>\n",
       "      <td>5000</td>\n",
       "    </tr>\n",
       "    <tr>\n",
       "      <th>PETR3</th>\n",
       "      <td>30</td>\n",
       "      <td>Petrobras</td>\n",
       "      <td>6</td>\n",
       "      <td>1000</td>\n",
       "    </tr>\n",
       "    <tr>\n",
       "      <th>VALE3</th>\n",
       "      <td>40</td>\n",
       "      <td>Vale</td>\n",
       "      <td>12</td>\n",
       "      <td>4000</td>\n",
       "    </tr>\n",
       "    <tr>\n",
       "      <th>PETR4</th>\n",
       "      <td>12</td>\n",
       "      <td>Petrobras</td>\n",
       "      <td>7</td>\n",
       "      <td>7000</td>\n",
       "    </tr>\n",
       "    <tr>\n",
       "      <th>LREN3</th>\n",
       "      <td>35</td>\n",
       "      <td>Lojas Renner</td>\n",
       "      <td>25</td>\n",
       "      <td>1200</td>\n",
       "    </tr>\n",
       "  </tbody>\n",
       "</table>\n",
       "</div>"
      ],
      "text/plain": [
       "         precos         nomes  preco_sobre_lucro  volume\n",
       "tickers                                                 \n",
       "WEGE3        20           Weg                 25    5000\n",
       "PETR3        30     Petrobras                  6    1000\n",
       "VALE3        40          Vale                 12    4000\n",
       "PETR4        12     Petrobras                  7    7000\n",
       "LREN3        35  Lojas Renner                 25    1200"
      ]
     },
     "execution_count": 35,
     "metadata": {},
     "output_type": "execute_result"
    }
   ],
   "source": [
    "dicionario = {\n",
    "       \"nomes\": [\"Weg\", \"Petrobras\", \"Vale\", \"Petrobras\", \"Lojas Renner\"],\n",
    "       \"tickers\": [\"WEGE3\", \"PETR3\", \"VALE3\", \"PETR4\", \"LREN3\"],  \n",
    "       \"cotacoes\": [20, 30, 40, 12, 35],\n",
    "       \"preco_sobre_lucro\": [25, 6, 12, 7, 25],  \n",
    "       \"volume\": [5000, 1000, 4000, 7000, 1200]\n",
    "}\n",
    "\n",
    "df_info_empresas = pd.DataFrame(dicionario)\n",
    "\n",
    "df_info_empresas = df_info_empresas.set_index(\"tickers\")\n",
    "\n",
    "df_info_empresas.columns = ['precos', 'nomes', 'preco_sobre_lucro', 'volume']\n",
    "\n",
    "df_info_empresas\n"
   ]
  },
  {
   "cell_type": "code",
   "execution_count": 26,
   "id": "cbe0fd7b",
   "metadata": {},
   "outputs": [
    {
     "data": {
      "text/plain": [
       "tickers\n",
       "WEGE3    20\n",
       "PETR3    30\n",
       "VALE3    40\n",
       "PETR4    12\n",
       "LREN3    35\n",
       "Name: nomes, dtype: int64"
      ]
     },
     "execution_count": 26,
     "metadata": {},
     "output_type": "execute_result"
    }
   ],
   "source": [
    "primeira_linha = df_info_empresas.loc['WEGE3'] \n",
    "primeira_coluna = df_info_empresas.loc[:,'nomes']\n",
    "\n",
    "primeira_linha\n",
    "primeira_coluna"
   ]
  },
  {
   "cell_type": "code",
   "execution_count": 42,
   "id": "52dd6c27",
   "metadata": {},
   "outputs": [
    {
     "ename": "ValueError",
     "evalue": "iAt based indexing can only have integer indexers",
     "output_type": "error",
     "traceback": [
      "\u001b[1;31m---------------------------------------------------------------------------\u001b[0m",
      "\u001b[1;31mValueError\u001b[0m                                Traceback (most recent call last)",
      "\u001b[1;32m<ipython-input-42-94f99e31d036>\u001b[0m in \u001b[0;36m<module>\u001b[1;34m\u001b[0m\n\u001b[0;32m      1\u001b[0m \u001b[0mpreço_weg1\u001b[0m \u001b[1;33m=\u001b[0m \u001b[0mdf_info_empresas\u001b[0m\u001b[1;33m.\u001b[0m\u001b[0mat\u001b[0m\u001b[1;33m[\u001b[0m\u001b[1;34m'WEGE3'\u001b[0m\u001b[1;33m,\u001b[0m\u001b[1;34m'precos'\u001b[0m\u001b[1;33m]\u001b[0m\u001b[1;33m\u001b[0m\u001b[0m\n\u001b[1;32m----> 2\u001b[1;33m \u001b[0mpreço_weg2\u001b[0m \u001b[1;33m=\u001b[0m \u001b[0mdf_info_empresas\u001b[0m\u001b[1;33m.\u001b[0m\u001b[0miat\u001b[0m\u001b[1;33m[\u001b[0m\u001b[1;36m0\u001b[0m\u001b[1;33m:\u001b[0m\u001b[1;36m1\u001b[0m\u001b[1;33m,\u001b[0m\u001b[1;33m:\u001b[0m\u001b[1;33m]\u001b[0m\u001b[1;33m\u001b[0m\u001b[0m\n\u001b[0m\u001b[0;32m      3\u001b[0m \u001b[1;33m\u001b[0m\u001b[0m\n\u001b[0;32m      4\u001b[0m \u001b[0mpreço_weg1\u001b[0m  \u001b[1;31m#preço_weg1 = preço_weg2 - Diferentes formas de pegar elas. (uma por nome e outra pro numeros\u001b[0m\u001b[1;33m\u001b[0m\u001b[0m\n\u001b[0;32m      5\u001b[0m                                                                        \u001b[1;31m# de colunas/linhas)\u001b[0m\u001b[1;33m\u001b[0m\u001b[1;33m\u001b[0m\u001b[0m\n",
      "\u001b[1;32m~\\Anaconda3\\lib\\site-packages\\pandas\\core\\indexing.py\u001b[0m in \u001b[0;36m__getitem__\u001b[1;34m(self, key)\u001b[0m\n\u001b[0;32m   1783\u001b[0m                 \u001b[1;32mraise\u001b[0m \u001b[0mValueError\u001b[0m\u001b[1;33m(\u001b[0m\u001b[1;34m'Invalid call for scalar access (getting)!'\u001b[0m\u001b[1;33m)\u001b[0m\u001b[1;33m\u001b[0m\u001b[0m\n\u001b[0;32m   1784\u001b[0m \u001b[1;33m\u001b[0m\u001b[0m\n\u001b[1;32m-> 1785\u001b[1;33m         \u001b[0mkey\u001b[0m \u001b[1;33m=\u001b[0m \u001b[0mself\u001b[0m\u001b[1;33m.\u001b[0m\u001b[0m_convert_key\u001b[0m\u001b[1;33m(\u001b[0m\u001b[0mkey\u001b[0m\u001b[1;33m)\u001b[0m\u001b[1;33m\u001b[0m\u001b[0m\n\u001b[0m\u001b[0;32m   1786\u001b[0m         \u001b[1;32mreturn\u001b[0m \u001b[0mself\u001b[0m\u001b[1;33m.\u001b[0m\u001b[0mobj\u001b[0m\u001b[1;33m.\u001b[0m\u001b[0mget_value\u001b[0m\u001b[1;33m(\u001b[0m\u001b[1;33m*\u001b[0m\u001b[0mkey\u001b[0m\u001b[1;33m,\u001b[0m \u001b[0mtakeable\u001b[0m\u001b[1;33m=\u001b[0m\u001b[0mself\u001b[0m\u001b[1;33m.\u001b[0m\u001b[0m_takeable\u001b[0m\u001b[1;33m)\u001b[0m\u001b[1;33m\u001b[0m\u001b[0m\n\u001b[0;32m   1787\u001b[0m \u001b[1;33m\u001b[0m\u001b[0m\n",
      "\u001b[1;32m~\\Anaconda3\\lib\\site-packages\\pandas\\core\\indexing.py\u001b[0m in \u001b[0;36m_convert_key\u001b[1;34m(self, key, is_setter)\u001b[0m\n\u001b[0;32m   1852\u001b[0m         \u001b[1;32mfor\u001b[0m \u001b[0ma\u001b[0m\u001b[1;33m,\u001b[0m \u001b[0mi\u001b[0m \u001b[1;32min\u001b[0m \u001b[0mzip\u001b[0m\u001b[1;33m(\u001b[0m\u001b[0mself\u001b[0m\u001b[1;33m.\u001b[0m\u001b[0mobj\u001b[0m\u001b[1;33m.\u001b[0m\u001b[0maxes\u001b[0m\u001b[1;33m,\u001b[0m \u001b[0mkey\u001b[0m\u001b[1;33m)\u001b[0m\u001b[1;33m:\u001b[0m\u001b[1;33m\u001b[0m\u001b[0m\n\u001b[0;32m   1853\u001b[0m             \u001b[1;32mif\u001b[0m \u001b[1;32mnot\u001b[0m \u001b[0mis_integer\u001b[0m\u001b[1;33m(\u001b[0m\u001b[0mi\u001b[0m\u001b[1;33m)\u001b[0m\u001b[1;33m:\u001b[0m\u001b[1;33m\u001b[0m\u001b[0m\n\u001b[1;32m-> 1854\u001b[1;33m                 raise ValueError(\"iAt based indexing can only have integer \"\n\u001b[0m\u001b[0;32m   1855\u001b[0m                                  \"indexers\")\n\u001b[0;32m   1856\u001b[0m         \u001b[1;32mreturn\u001b[0m \u001b[0mkey\u001b[0m\u001b[1;33m\u001b[0m\u001b[0m\n",
      "\u001b[1;31mValueError\u001b[0m: iAt based indexing can only have integer indexers"
     ]
    }
   ],
   "source": [
    "preço_weg1 = df_info_empresas.at['WEGE3','precos']\n",
    "preço_weg2 = df_info_empresas.iat[0,1]\n",
    "\n",
    "preço_weg1  #preço_weg1 = preço_weg2 - Diferentes formas de pegar elas. (uma por nome e outra pro numeros \n",
    "                                                                       # de colunas/linhas)\n",
    "preço_weg2"
   ]
  },
  {
   "cell_type": "code",
   "execution_count": 39,
   "id": "85692d45",
   "metadata": {},
   "outputs": [
    {
     "data": {
      "text/html": [
       "<div>\n",
       "<style>\n",
       "    .dataframe thead tr:only-child th {\n",
       "        text-align: right;\n",
       "    }\n",
       "\n",
       "    .dataframe thead th {\n",
       "        text-align: left;\n",
       "    }\n",
       "\n",
       "    .dataframe tbody tr th {\n",
       "        vertical-align: top;\n",
       "    }\n",
       "</style>\n",
       "<table border=\"1\" class=\"dataframe\">\n",
       "  <thead>\n",
       "    <tr style=\"text-align: right;\">\n",
       "      <th></th>\n",
       "      <th>precos</th>\n",
       "      <th>nomes</th>\n",
       "      <th>preco_sobre_lucro</th>\n",
       "      <th>volume</th>\n",
       "    </tr>\n",
       "    <tr>\n",
       "      <th>tickers</th>\n",
       "      <th></th>\n",
       "      <th></th>\n",
       "      <th></th>\n",
       "      <th></th>\n",
       "    </tr>\n",
       "  </thead>\n",
       "  <tbody>\n",
       "    <tr>\n",
       "      <th>WEGE3</th>\n",
       "      <td>20</td>\n",
       "      <td>Weg</td>\n",
       "      <td>25</td>\n",
       "      <td>5000</td>\n",
       "    </tr>\n",
       "    <tr>\n",
       "      <th>PETR3</th>\n",
       "      <td>30</td>\n",
       "      <td>Petrobras</td>\n",
       "      <td>6</td>\n",
       "      <td>1000</td>\n",
       "    </tr>\n",
       "  </tbody>\n",
       "</table>\n",
       "</div>"
      ],
      "text/plain": [
       "         precos      nomes  preco_sobre_lucro  volume\n",
       "tickers                                              \n",
       "WEGE3        20        Weg                 25    5000\n",
       "PETR3        30  Petrobras                  6    1000"
      ]
     },
     "execution_count": 39,
     "metadata": {},
     "output_type": "execute_result"
    }
   ],
   "source": [
    "duas_primeiras_linhas = df_info_empresas.iloc[0:2, :]\n",
    "duas_primeiras_linhas"
   ]
  },
  {
   "cell_type": "code",
   "execution_count": 37,
   "id": "dfb93be9",
   "metadata": {},
   "outputs": [],
   "source": [
    "#df_base\n",
    "\n",
    "dicionario = {\n",
    "       \"nomes\": [\"Weg\", \"Petrobras\", \"Vale\", \"Petrobras\", \"Lojas Renner\"],\n",
    "       \"tickers\": [\"WEGE3\", \"PETR3\", \"VALE3\", \"PETR4\", \"LREN3\"],  \n",
    "       \"cotacoes\": [20, 30, 40, 12, 35],\n",
    "       \"preco_sobre_lucro\": [25, 6, 12, 7, 25],  \n",
    "       \"volume\": [5000, 1000, 4000, 7000, 1200]\n",
    "}\n",
    "\n",
    "df_info_empresas = pd.DataFrame(dicionario)\n",
    "\n",
    "df_info_empresas = df_info_empresas.set_index(\"tickers\")\n",
    "\n",
    "df_info_empresas.columns = ['nomes', 'precos', 'preco_sobre_lucro', 'volume']"
   ]
  },
  {
   "cell_type": "code",
   "execution_count": 25,
   "id": "760cd183",
   "metadata": {},
   "outputs": [
    {
     "data": {
      "text/plain": [
       "tickers\n",
       "WEGE3    20\n",
       "PETR3    30\n",
       "VALE3    40\n",
       "PETR4    12\n",
       "LREN3    35\n",
       "Name: nomes, dtype: int64"
      ]
     },
     "execution_count": 25,
     "metadata": {},
     "output_type": "execute_result"
    }
   ],
   "source": [
    "#gabarito 47\n",
    "\n",
    "primeira_linha = df_info_empresas.loc[\"WEGE3\"]\n",
    "primeira_coluna = df_info_empresas.loc[:, \"nomes\"]\n",
    "\n",
    "primeira_linha\n",
    "primeira_coluna\n"
   ]
  },
  {
   "cell_type": "code",
   "execution_count": 36,
   "id": "164d5d75",
   "metadata": {},
   "outputs": [
    {
     "data": {
      "text/plain": [
       "'Weg'"
      ]
     },
     "execution_count": 36,
     "metadata": {},
     "output_type": "execute_result"
    }
   ],
   "source": [
    "#gabarito 48\n",
    "\n",
    "preco_weg_at = df_info_empresas.at[\"WEGE3\", \"precos\"]\n",
    "preco_weg_iat = df_info_empresas.iat[0, 1] #certeza de uma informação\n",
    "\n",
    "preco_weg_iat"
   ]
  },
  {
   "cell_type": "code",
   "execution_count": 43,
   "id": "0e9253c6",
   "metadata": {},
   "outputs": [
    {
     "data": {
      "text/html": [
       "<div>\n",
       "<style scoped>\n",
       "    .dataframe tbody tr th:only-of-type {\n",
       "        vertical-align: middle;\n",
       "    }\n",
       "\n",
       "    .dataframe tbody tr th {\n",
       "        vertical-align: top;\n",
       "    }\n",
       "\n",
       "    .dataframe thead th {\n",
       "        text-align: right;\n",
       "    }\n",
       "</style>\n",
       "<table border=\"1\" class=\"dataframe\">\n",
       "  <thead>\n",
       "    <tr style=\"text-align: right;\">\n",
       "      <th></th>\n",
       "      <th>nomes</th>\n",
       "      <th>precos</th>\n",
       "      <th>preco_sobre_lucro</th>\n",
       "      <th>volume</th>\n",
       "    </tr>\n",
       "    <tr>\n",
       "      <th>tickers</th>\n",
       "      <th></th>\n",
       "      <th></th>\n",
       "      <th></th>\n",
       "      <th></th>\n",
       "    </tr>\n",
       "  </thead>\n",
       "  <tbody>\n",
       "    <tr>\n",
       "      <th>WEGE3</th>\n",
       "      <td>Weg</td>\n",
       "      <td>20</td>\n",
       "      <td>25</td>\n",
       "      <td>5000</td>\n",
       "    </tr>\n",
       "    <tr>\n",
       "      <th>PETR3</th>\n",
       "      <td>Petrobras</td>\n",
       "      <td>30</td>\n",
       "      <td>6</td>\n",
       "      <td>1000</td>\n",
       "    </tr>\n",
       "  </tbody>\n",
       "</table>\n",
       "</div>"
      ],
      "text/plain": [
       "             nomes  precos  preco_sobre_lucro  volume\n",
       "tickers                                              \n",
       "WEGE3          Weg      20                 25    5000\n",
       "PETR3    Petrobras      30                  6    1000"
      ]
     },
     "execution_count": 43,
     "metadata": {},
     "output_type": "execute_result"
    }
   ],
   "source": [
    "duas_primeiras_linhas = df_info_empresas.iloc[0:2, :]\n",
    "duas_primeiras_linhas"
   ]
  },
  {
   "cell_type": "markdown",
   "id": "c6ad28b8",
   "metadata": {},
   "source": [
    "# Mundo 6\n",
    "\n",
    "Agora que você aprendeu a selecionar os dados dentro de uma tabela, chegou a hora de aprender a fazer operações! "
   ]
  }
 ],
 "metadata": {
  "kernelspec": {
   "display_name": "Python 3",
   "language": "python",
   "name": "python3"
  },
  "language_info": {
   "codemirror_mode": {
    "name": "ipython",
    "version": 3
   },
   "file_extension": ".py",
   "mimetype": "text/x-python",
   "name": "python",
   "nbconvert_exporter": "python",
   "pygments_lexer": "ipython3",
   "version": "3.6.3"
  }
 },
 "nbformat": 4,
 "nbformat_minor": 5
}
