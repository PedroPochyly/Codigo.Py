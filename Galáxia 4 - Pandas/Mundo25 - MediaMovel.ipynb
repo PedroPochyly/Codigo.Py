{
 "cells": [
  {
   "cell_type": "markdown",
   "id": "f2416805",
   "metadata": {},
   "source": [
    "# Mundo 25\n",
    "\n",
    "### Análise de dados"
   ]
  },
  {
   "cell_type": "code",
   "execution_count": 1,
   "id": "9f972bdd",
   "metadata": {},
   "outputs": [],
   "source": [
    "import pandas as pd\n",
    "import yfinance as yf  \n",
    "import numpy as np"
   ]
  },
  {
   "cell_type": "code",
   "execution_count": 2,
   "id": "bf133b51",
   "metadata": {},
   "outputs": [
    {
     "name": "stdout",
     "output_type": "stream",
     "text": [
      "YF.download() has changed argument auto_adjust default to True\n"
     ]
    },
    {
     "name": "stderr",
     "output_type": "stream",
     "text": [
      "[*********************100%***********************]  1 of 1 completed\n"
     ]
    },
    {
     "ename": "AttributeError",
     "evalue": "'DataFrame' object has no attribute 'to_frame'",
     "output_type": "error",
     "traceback": [
      "\u001b[31m---------------------------------------------------------------------------\u001b[39m",
      "\u001b[31mAttributeError\u001b[39m                            Traceback (most recent call last)",
      "\u001b[32m~\\AppData\\Local\\Temp\\ipykernel_1048\\619474050.py\u001b[39m in \u001b[36m?\u001b[39m\u001b[34m()\u001b[39m\n\u001b[32m      1\u001b[39m dados_acao = yf.download(\u001b[33m\"PETR4.SA\"\u001b[39m, \u001b[33m\"2010-01-01\"\u001b[39m, \u001b[33m\"2022-08-31\"\u001b[39m)[\u001b[33m'Close'\u001b[39m]\n\u001b[32m      2\u001b[39m \n\u001b[32m----> \u001b[39m\u001b[32m3\u001b[39m dados_acao = dados_acao.to_frame()\n",
      "\u001b[32mc:\\Users\\pedro\\AnacondaProjects\\.venv\\Lib\\site-packages\\pandas\\core\\generic.py\u001b[39m in \u001b[36m?\u001b[39m\u001b[34m(self, name)\u001b[39m\n\u001b[32m   6295\u001b[39m             \u001b[38;5;28;01mand\u001b[39;00m name \u001b[38;5;28;01mnot\u001b[39;00m \u001b[38;5;28;01min\u001b[39;00m self._accessors\n\u001b[32m   6296\u001b[39m             \u001b[38;5;28;01mand\u001b[39;00m self._info_axis._can_hold_identifiers_and_holds_name(name)\n\u001b[32m   6297\u001b[39m         ):\n\u001b[32m   6298\u001b[39m             \u001b[38;5;28;01mreturn\u001b[39;00m self[name]\n\u001b[32m-> \u001b[39m\u001b[32m6299\u001b[39m         \u001b[38;5;28;01mreturn\u001b[39;00m object.__getattribute__(self, name)\n",
      "\u001b[31mAttributeError\u001b[39m: 'DataFrame' object has no attribute 'to_frame'"
     ]
    }
   ],
   "source": [
    "dados_acao = yf.download(\"PETR4.SA\", \"2010-01-01\", \"2022-08-31\")['Close']\n",
    "\n",
    "dados_acao = dados_acao.to_frame()"
   ]
  },
  {
   "cell_type": "code",
   "execution_count": 3,
   "id": "d382b730",
   "metadata": {},
   "outputs": [
    {
     "data": {
      "text/html": [
       "<div>\n",
       "<style scoped>\n",
       "    .dataframe tbody tr th:only-of-type {\n",
       "        vertical-align: middle;\n",
       "    }\n",
       "\n",
       "    .dataframe tbody tr th {\n",
       "        vertical-align: top;\n",
       "    }\n",
       "\n",
       "    .dataframe thead th {\n",
       "        text-align: right;\n",
       "    }\n",
       "</style>\n",
       "<table border=\"1\" class=\"dataframe\">\n",
       "  <thead>\n",
       "    <tr style=\"text-align: right;\">\n",
       "      <th>Ticker</th>\n",
       "      <th>PETR4.SA</th>\n",
       "    </tr>\n",
       "    <tr>\n",
       "      <th>Date</th>\n",
       "      <th></th>\n",
       "    </tr>\n",
       "  </thead>\n",
       "  <tbody>\n",
       "    <tr>\n",
       "      <th>2010-01-04</th>\n",
       "      <td>9.238534</td>\n",
       "    </tr>\n",
       "    <tr>\n",
       "      <th>2010-01-05</th>\n",
       "      <td>9.159318</td>\n",
       "    </tr>\n",
       "    <tr>\n",
       "      <th>2010-01-06</th>\n",
       "      <td>9.283093</td>\n",
       "    </tr>\n",
       "    <tr>\n",
       "      <th>2010-01-07</th>\n",
       "      <td>9.196452</td>\n",
       "    </tr>\n",
       "    <tr>\n",
       "      <th>2010-01-08</th>\n",
       "      <td>9.146940</td>\n",
       "    </tr>\n",
       "    <tr>\n",
       "      <th>...</th>\n",
       "      <td>...</td>\n",
       "    </tr>\n",
       "    <tr>\n",
       "      <th>2022-08-24</th>\n",
       "      <td>19.833109</td>\n",
       "    </tr>\n",
       "    <tr>\n",
       "      <th>2022-08-25</th>\n",
       "      <td>19.620867</td>\n",
       "    </tr>\n",
       "    <tr>\n",
       "      <th>2022-08-26</th>\n",
       "      <td>19.833109</td>\n",
       "    </tr>\n",
       "    <tr>\n",
       "      <th>2022-08-29</th>\n",
       "      <td>20.328350</td>\n",
       "    </tr>\n",
       "    <tr>\n",
       "      <th>2022-08-30</th>\n",
       "      <td>19.119732</td>\n",
       "    </tr>\n",
       "  </tbody>\n",
       "</table>\n",
       "<p>3142 rows × 1 columns</p>\n",
       "</div>"
      ],
      "text/plain": [
       "Ticker       PETR4.SA\n",
       "Date                 \n",
       "2010-01-04   9.238534\n",
       "2010-01-05   9.159318\n",
       "2010-01-06   9.283093\n",
       "2010-01-07   9.196452\n",
       "2010-01-08   9.146940\n",
       "...               ...\n",
       "2022-08-24  19.833109\n",
       "2022-08-25  19.620867\n",
       "2022-08-26  19.833109\n",
       "2022-08-29  20.328350\n",
       "2022-08-30  19.119732\n",
       "\n",
       "[3142 rows x 1 columns]"
      ]
     },
     "execution_count": 3,
     "metadata": {},
     "output_type": "execute_result"
    }
   ],
   "source": [
    "dados_acao"
   ]
  },
  {
   "cell_type": "code",
   "execution_count": 4,
   "id": "75bf229d",
   "metadata": {},
   "outputs": [
    {
     "data": {
      "text/html": [
       "<div>\n",
       "<style scoped>\n",
       "    .dataframe tbody tr th:only-of-type {\n",
       "        vertical-align: middle;\n",
       "    }\n",
       "\n",
       "    .dataframe tbody tr th {\n",
       "        vertical-align: top;\n",
       "    }\n",
       "\n",
       "    .dataframe thead th {\n",
       "        text-align: right;\n",
       "    }\n",
       "</style>\n",
       "<table border=\"1\" class=\"dataframe\">\n",
       "  <thead>\n",
       "    <tr style=\"text-align: right;\">\n",
       "      <th>Ticker</th>\n",
       "      <th>PETR4.SA</th>\n",
       "    </tr>\n",
       "    <tr>\n",
       "      <th>Date</th>\n",
       "      <th></th>\n",
       "    </tr>\n",
       "  </thead>\n",
       "  <tbody>\n",
       "    <tr>\n",
       "      <th>2010-01-04</th>\n",
       "      <td>NaN</td>\n",
       "    </tr>\n",
       "    <tr>\n",
       "      <th>2010-01-05</th>\n",
       "      <td>NaN</td>\n",
       "    </tr>\n",
       "    <tr>\n",
       "      <th>2010-01-06</th>\n",
       "      <td>NaN</td>\n",
       "    </tr>\n",
       "    <tr>\n",
       "      <th>2010-01-07</th>\n",
       "      <td>NaN</td>\n",
       "    </tr>\n",
       "    <tr>\n",
       "      <th>2010-01-08</th>\n",
       "      <td>NaN</td>\n",
       "    </tr>\n",
       "    <tr>\n",
       "      <th>...</th>\n",
       "      <td>...</td>\n",
       "    </tr>\n",
       "    <tr>\n",
       "      <th>2022-08-24</th>\n",
       "      <td>12.529705</td>\n",
       "    </tr>\n",
       "    <tr>\n",
       "      <th>2022-08-25</th>\n",
       "      <td>12.569306</td>\n",
       "    </tr>\n",
       "    <tr>\n",
       "      <th>2022-08-26</th>\n",
       "      <td>12.610092</td>\n",
       "    </tr>\n",
       "    <tr>\n",
       "      <th>2022-08-29</th>\n",
       "      <td>12.651457</td>\n",
       "    </tr>\n",
       "    <tr>\n",
       "      <th>2022-08-30</th>\n",
       "      <td>12.688254</td>\n",
       "    </tr>\n",
       "  </tbody>\n",
       "</table>\n",
       "<p>3142 rows × 1 columns</p>\n",
       "</div>"
      ],
      "text/plain": [
       "Ticker       PETR4.SA\n",
       "Date                 \n",
       "2010-01-04        NaN\n",
       "2010-01-05        NaN\n",
       "2010-01-06        NaN\n",
       "2010-01-07        NaN\n",
       "2010-01-08        NaN\n",
       "...               ...\n",
       "2022-08-24  12.529705\n",
       "2022-08-25  12.569306\n",
       "2022-08-26  12.610092\n",
       "2022-08-29  12.651457\n",
       "2022-08-30  12.688254\n",
       "\n",
       "[3142 rows x 1 columns]"
      ]
     },
     "execution_count": 4,
     "metadata": {},
     "output_type": "execute_result"
    }
   ],
   "source": [
    "media_movel_250d = dados_acao.rolling(250).mean()\n",
    "\n",
    "media_movel_250d"
   ]
  },
  {
   "cell_type": "code",
   "execution_count": 5,
   "id": "b818193d",
   "metadata": {},
   "outputs": [
    {
     "data": {
      "text/html": [
       "<div>\n",
       "<style scoped>\n",
       "    .dataframe tbody tr th:only-of-type {\n",
       "        vertical-align: middle;\n",
       "    }\n",
       "\n",
       "    .dataframe tbody tr th {\n",
       "        vertical-align: top;\n",
       "    }\n",
       "\n",
       "    .dataframe thead th {\n",
       "        text-align: right;\n",
       "    }\n",
       "</style>\n",
       "<table border=\"1\" class=\"dataframe\">\n",
       "  <thead>\n",
       "    <tr style=\"text-align: right;\">\n",
       "      <th>Ticker</th>\n",
       "      <th>PETR4.SA</th>\n",
       "      <th>MM250D</th>\n",
       "    </tr>\n",
       "    <tr>\n",
       "      <th>Date</th>\n",
       "      <th></th>\n",
       "      <th></th>\n",
       "    </tr>\n",
       "  </thead>\n",
       "  <tbody>\n",
       "    <tr>\n",
       "      <th>2011-01-05</th>\n",
       "      <td>6.978893</td>\n",
       "      <td>7.442958</td>\n",
       "    </tr>\n",
       "    <tr>\n",
       "      <th>2011-01-06</th>\n",
       "      <td>6.950691</td>\n",
       "      <td>7.433807</td>\n",
       "    </tr>\n",
       "    <tr>\n",
       "      <th>2011-01-07</th>\n",
       "      <td>6.853264</td>\n",
       "      <td>7.424582</td>\n",
       "    </tr>\n",
       "    <tr>\n",
       "      <th>2011-01-10</th>\n",
       "      <td>6.917359</td>\n",
       "      <td>7.415119</td>\n",
       "    </tr>\n",
       "    <tr>\n",
       "      <th>2011-01-11</th>\n",
       "      <td>6.960945</td>\n",
       "      <td>7.406177</td>\n",
       "    </tr>\n",
       "    <tr>\n",
       "      <th>...</th>\n",
       "      <td>...</td>\n",
       "      <td>...</td>\n",
       "    </tr>\n",
       "    <tr>\n",
       "      <th>2022-08-24</th>\n",
       "      <td>19.833109</td>\n",
       "      <td>12.529705</td>\n",
       "    </tr>\n",
       "    <tr>\n",
       "      <th>2022-08-25</th>\n",
       "      <td>19.620867</td>\n",
       "      <td>12.569306</td>\n",
       "    </tr>\n",
       "    <tr>\n",
       "      <th>2022-08-26</th>\n",
       "      <td>19.833109</td>\n",
       "      <td>12.610092</td>\n",
       "    </tr>\n",
       "    <tr>\n",
       "      <th>2022-08-29</th>\n",
       "      <td>20.328350</td>\n",
       "      <td>12.651457</td>\n",
       "    </tr>\n",
       "    <tr>\n",
       "      <th>2022-08-30</th>\n",
       "      <td>19.119732</td>\n",
       "      <td>12.688254</td>\n",
       "    </tr>\n",
       "  </tbody>\n",
       "</table>\n",
       "<p>2893 rows × 2 columns</p>\n",
       "</div>"
      ],
      "text/plain": [
       "Ticker       PETR4.SA     MM250D\n",
       "Date                            \n",
       "2011-01-05   6.978893   7.442958\n",
       "2011-01-06   6.950691   7.433807\n",
       "2011-01-07   6.853264   7.424582\n",
       "2011-01-10   6.917359   7.415119\n",
       "2011-01-11   6.960945   7.406177\n",
       "...               ...        ...\n",
       "2022-08-24  19.833109  12.529705\n",
       "2022-08-25  19.620867  12.569306\n",
       "2022-08-26  19.833109  12.610092\n",
       "2022-08-29  20.328350  12.651457\n",
       "2022-08-30  19.119732  12.688254\n",
       "\n",
       "[2893 rows x 2 columns]"
      ]
     },
     "execution_count": 5,
     "metadata": {},
     "output_type": "execute_result"
    }
   ],
   "source": [
    "dados_acao['MM250D'] = media_movel_250d.values\n",
    "\n",
    "dados_acao = dados_acao.dropna()\n",
    "\n",
    "dados_acao"
   ]
  },
  {
   "cell_type": "code",
   "execution_count": 6,
   "id": "60b88a99",
   "metadata": {},
   "outputs": [
    {
     "data": {
      "text/plain": [
       "<Axes: xlabel='Date'>"
      ]
     },
     "execution_count": 6,
     "metadata": {},
     "output_type": "execute_result"
    },
    {
     "data": {
      "image/png": "[encoded data removed]",
      "text/plain": [
       "<Figure size 640x480 with 1 Axes>"
      ]
     },
     "metadata": {},
     "output_type": "display_data"
    }
   ],
   "source": [
    "dados_acao.plot()"
   ]
  },
  {
   "cell_type": "code",
   "execution_count": 7,
   "id": "fa5911c7",
   "metadata": {},
   "outputs": [
    {
     "ename": "KeyError",
     "evalue": "'Close'",
     "output_type": "error",
     "traceback": [
      "\u001b[31m---------------------------------------------------------------------------\u001b[39m",
      "\u001b[31mKeyError\u001b[39m                                  Traceback (most recent call last)",
      "\u001b[36mFile \u001b[39m\u001b[32mc:\\Users\\pedro\\AnacondaProjects\\.venv\\Lib\\site-packages\\pandas\\core\\indexes\\base.py:3805\u001b[39m, in \u001b[36mIndex.get_loc\u001b[39m\u001b[34m(self, key)\u001b[39m\n\u001b[32m   3804\u001b[39m \u001b[38;5;28;01mtry\u001b[39;00m:\n\u001b[32m-> \u001b[39m\u001b[32m3805\u001b[39m     \u001b[38;5;28;01mreturn\u001b[39;00m \u001b[38;5;28;43mself\u001b[39;49m\u001b[43m.\u001b[49m\u001b[43m_engine\u001b[49m\u001b[43m.\u001b[49m\u001b[43mget_loc\u001b[49m\u001b[43m(\u001b[49m\u001b[43mcasted_key\u001b[49m\u001b[43m)\u001b[49m\n\u001b[32m   3806\u001b[39m \u001b[38;5;28;01mexcept\u001b[39;00m \u001b[38;5;167;01mKeyError\u001b[39;00m \u001b[38;5;28;01mas\u001b[39;00m err:\n",
      "\u001b[36mFile \u001b[39m\u001b[32mindex.pyx:167\u001b[39m, in \u001b[36mpandas._libs.index.IndexEngine.get_loc\u001b[39m\u001b[34m()\u001b[39m\n",
      "\u001b[36mFile \u001b[39m\u001b[32mindex.pyx:196\u001b[39m, in \u001b[36mpandas._libs.index.IndexEngine.get_loc\u001b[39m\u001b[34m()\u001b[39m\n",
      "\u001b[36mFile \u001b[39m\u001b[32mpandas\\\\_libs\\\\hashtable_class_helper.pxi:7081\u001b[39m, in \u001b[36mpandas._libs.hashtable.PyObjectHashTable.get_item\u001b[39m\u001b[34m()\u001b[39m\n",
      "\u001b[36mFile \u001b[39m\u001b[32mpandas\\\\_libs\\\\hashtable_class_helper.pxi:7089\u001b[39m, in \u001b[36mpandas._libs.hashtable.PyObjectHashTable.get_item\u001b[39m\u001b[34m()\u001b[39m\n",
      "\u001b[31mKeyError\u001b[39m: 'Close'",
      "\nThe above exception was the direct cause of the following exception:\n",
      "\u001b[31mKeyError\u001b[39m                                  Traceback (most recent call last)",
      "\u001b[36mCell\u001b[39m\u001b[36m \u001b[39m\u001b[32mIn[7]\u001b[39m\u001b[32m, line 1\u001b[39m\n\u001b[32m----> \u001b[39m\u001b[32m1\u001b[39m dados_acao[\u001b[33m'\u001b[39m\u001b[33mOrdem\u001b[39m\u001b[33m'\u001b[39m] = np.where(\u001b[43mdados_acao\u001b[49m\u001b[43m[\u001b[49m\u001b[33;43m'\u001b[39;49m\u001b[33;43mClose\u001b[39;49m\u001b[33;43m'\u001b[39;49m\u001b[43m]\u001b[49m > dados_acao[\u001b[33m'\u001b[39m\u001b[33mMM250D\u001b[39m\u001b[33m'\u001b[39m], \u001b[33m\"\u001b[39m\u001b[33mCompra\u001b[39m\u001b[33m\"\u001b[39m, \u001b[33m\"\u001b[39m\u001b[33mVenda\u001b[39m\u001b[33m\"\u001b[39m)\n\u001b[32m      3\u001b[39m dados_acao\n",
      "\u001b[36mFile \u001b[39m\u001b[32mc:\\Users\\pedro\\AnacondaProjects\\.venv\\Lib\\site-packages\\pandas\\core\\frame.py:4102\u001b[39m, in \u001b[36mDataFrame.__getitem__\u001b[39m\u001b[34m(self, key)\u001b[39m\n\u001b[32m   4100\u001b[39m \u001b[38;5;28;01mif\u001b[39;00m \u001b[38;5;28mself\u001b[39m.columns.nlevels > \u001b[32m1\u001b[39m:\n\u001b[32m   4101\u001b[39m     \u001b[38;5;28;01mreturn\u001b[39;00m \u001b[38;5;28mself\u001b[39m._getitem_multilevel(key)\n\u001b[32m-> \u001b[39m\u001b[32m4102\u001b[39m indexer = \u001b[38;5;28;43mself\u001b[39;49m\u001b[43m.\u001b[49m\u001b[43mcolumns\u001b[49m\u001b[43m.\u001b[49m\u001b[43mget_loc\u001b[49m\u001b[43m(\u001b[49m\u001b[43mkey\u001b[49m\u001b[43m)\u001b[49m\n\u001b[32m   4103\u001b[39m \u001b[38;5;28;01mif\u001b[39;00m is_integer(indexer):\n\u001b[32m   4104\u001b[39m     indexer = [indexer]\n",
      "\u001b[36mFile \u001b[39m\u001b[32mc:\\Users\\pedro\\AnacondaProjects\\.venv\\Lib\\site-packages\\pandas\\core\\indexes\\base.py:3812\u001b[39m, in \u001b[36mIndex.get_loc\u001b[39m\u001b[34m(self, key)\u001b[39m\n\u001b[32m   3807\u001b[39m     \u001b[38;5;28;01mif\u001b[39;00m \u001b[38;5;28misinstance\u001b[39m(casted_key, \u001b[38;5;28mslice\u001b[39m) \u001b[38;5;129;01mor\u001b[39;00m (\n\u001b[32m   3808\u001b[39m         \u001b[38;5;28misinstance\u001b[39m(casted_key, abc.Iterable)\n\u001b[32m   3809\u001b[39m         \u001b[38;5;129;01mand\u001b[39;00m \u001b[38;5;28many\u001b[39m(\u001b[38;5;28misinstance\u001b[39m(x, \u001b[38;5;28mslice\u001b[39m) \u001b[38;5;28;01mfor\u001b[39;00m x \u001b[38;5;129;01min\u001b[39;00m casted_key)\n\u001b[32m   3810\u001b[39m     ):\n\u001b[32m   3811\u001b[39m         \u001b[38;5;28;01mraise\u001b[39;00m InvalidIndexError(key)\n\u001b[32m-> \u001b[39m\u001b[32m3812\u001b[39m     \u001b[38;5;28;01mraise\u001b[39;00m \u001b[38;5;167;01mKeyError\u001b[39;00m(key) \u001b[38;5;28;01mfrom\u001b[39;00m\u001b[38;5;250m \u001b[39m\u001b[34;01merr\u001b[39;00m\n\u001b[32m   3813\u001b[39m \u001b[38;5;28;01mexcept\u001b[39;00m \u001b[38;5;167;01mTypeError\u001b[39;00m:\n\u001b[32m   3814\u001b[39m     \u001b[38;5;66;03m# If we have a listlike key, _check_indexing_error will raise\u001b[39;00m\n\u001b[32m   3815\u001b[39m     \u001b[38;5;66;03m#  InvalidIndexError. Otherwise we fall through and re-raise\u001b[39;00m\n\u001b[32m   3816\u001b[39m     \u001b[38;5;66;03m#  the TypeError.\u001b[39;00m\n\u001b[32m   3817\u001b[39m     \u001b[38;5;28mself\u001b[39m._check_indexing_error(key)\n",
      "\u001b[31mKeyError\u001b[39m: 'Close'"
     ]
    }
   ],
   "source": [
    "dados_acao['Ordem'] = np.where(dados_acao['Close'] > dados_acao['MM250D'], \"Compra\", \"Venda\")\n",
    "\n",
    "dados_acao"
   ]
  },
  {
   "cell_type": "code",
   "execution_count": null,
   "id": "e11d23f7",
   "metadata": {},
   "outputs": [],
   "source": [
    "media_movel_exp = dados_acao['Close'].ewm(span = 250).mean()\n",
    "\n",
    "media_movel_exp"
   ]
  },
  {
   "cell_type": "code",
   "execution_count": null,
   "id": "1de02b39",
   "metadata": {},
   "outputs": [],
   "source": [
    "media_movel_250d.plot()\n",
    "media_movel_exp.plot()"
   ]
  },
  {
   "cell_type": "code",
   "execution_count": null,
   "id": "fb4901b1",
   "metadata": {},
   "outputs": [],
   "source": [
    "volatilidade_diaria_12m = dados_acao['Close'].pct_change().rolling(250).std()\n",
    "\n",
    "volatilidade_diaria_12m"
   ]
  },
  {
   "cell_type": "code",
   "execution_count": null,
   "id": "2d18c70e",
   "metadata": {},
   "outputs": [],
   "source": [
    "volatilidade_diaria_12m = volatilidade_diaria_12m.dropna()\n",
    "\n",
    "volatilidade_diaria_12m = volatilidade_diaria_12m * np.sqrt(252)\n",
    "\n",
    "volatilidade_diaria_12m"
   ]
  },
  {
   "cell_type": "code",
   "execution_count": null,
   "id": "ad512a3c",
   "metadata": {},
   "outputs": [],
   "source": [
    "volatilidade_diaria_12m.plot()"
   ]
  },
  {
   "cell_type": "markdown",
   "id": "8486e9bb",
   "metadata": {},
   "source": [
    "# Exercícios\n",
    "<BR>\n",
    "    \n",
    "* Exercício 81: Puxe dados de uma ação a sua escolha e calcule a média móvel de 30 dias desde 01/01/2020. Depois, identifique os sinais de compra ou venda, baseado na média móvel.\n",
    "<BR>\n",
    "    \n",
    "* Exercício 82: Com os dados do exercício 81, calcule a média móvel exponencial de 30 dias.\n",
    "<bR>\n",
    "    \n",
    "* Exercício 83: Com os dados do exercício 81, calcule a volatilidade dos retornos diários anualidada no período. "
   ]
  },
  {
   "cell_type": "code",
   "execution_count": null,
   "id": "77af2db4",
   "metadata": {},
   "outputs": [],
   "source": []
  },
  {
   "cell_type": "code",
   "execution_count": null,
   "id": "7b06cf03",
   "metadata": {},
   "outputs": [],
   "source": []
  },
  {
   "cell_type": "code",
   "execution_count": null,
   "id": "ce8b4a21",
   "metadata": {},
   "outputs": [],
   "source": []
  },
  {
   "cell_type": "code",
   "execution_count": null,
   "id": "4f665dc1",
   "metadata": {},
   "outputs": [],
   "source": [
    "#gabarito 81\n",
    "\n",
    "dados_acao = yf.download(\"WEGE3.SA\", \"2020-01-01\", \"2022-08-31\")['Close']\n",
    "\n",
    "dados_acao = dados_acao.to_frame()\n",
    "\n",
    "dados_acao['MM30D'] = dados_acao.rolling(30).mean()\n",
    "\n",
    "dados_acao = dados_acao.dropna()\n",
    "\n",
    "dados_acao.plot()"
   ]
  },
  {
   "cell_type": "code",
   "execution_count": null,
   "id": "ca887508",
   "metadata": {},
   "outputs": [],
   "source": [
    "dados_acao['Ordem'] = np.where(dados_acao['Close'] > dados_acao['MM30D'], \"Compra\", \"Venda\")\n",
    "\n",
    "dados_acao"
   ]
  },
  {
   "cell_type": "code",
   "execution_count": null,
   "id": "3d28825c",
   "metadata": {},
   "outputs": [],
   "source": [
    "#gabarito 82\n",
    "dados_acao = yf.download(\"WEGE3.SA\", \"2020-01-01\", \"2022-08-31\")['Close']\n",
    "\n",
    "dados_acao = dados_acao.to_frame()\n",
    "\n",
    "dados_acao['EWM'] = dados_acao.ewm(span = 30).mean()\n",
    "\n",
    "dados_acao.plot()"
   ]
  },
  {
   "cell_type": "code",
   "execution_count": null,
   "id": "6eb81525",
   "metadata": {},
   "outputs": [],
   "source": [
    "#gabarito 83\n",
    "\n",
    "dados_acao = yf.download(\"WEGE3.SA\", \"2020-01-01\", \"2022-08-31\")['Close']\n",
    "\n",
    "vol252d = dados_acao.pct_change().rolling(252).std()\n",
    "vol252d = vol252d.dropna()\n",
    "vol252d_anualizada = vol252d * np.sqrt(252)\n",
    "\n",
    "vol252d_anualizada.plot()"
   ]
  },
  {
   "cell_type": "markdown",
   "id": "ad71b7aa",
   "metadata": {},
   "source": [
    "# Mundo 26\n",
    "\n",
    "Continuando nossa análise de dados, como podemos calcular as correlações e covariâncias entre retornos?"
   ]
  }
 ],
 "metadata": {
  "kernelspec": {
   "display_name": "Python (.venv)",
   "language": "python",
   "name": ".venv"
  },
  "language_info": {
   "codemirror_mode": {
    "name": "ipython",
    "version": 3
   },
   "file_extension": ".py",
   "mimetype": "text/x-python",
   "name": "python",
   "nbconvert_exporter": "python",
   "pygments_lexer": "ipython3",
   "version": "3.13.2"
  },
  "vscode": {
   "interpreter": {
    "hash": "916dbcbb3f70747c44a77c7bcd40155683ae19c65e1c03b4aa3499c5328201f1"
   }
  }
 },
 "nbformat": 4,
 "nbformat_minor": 5
}
