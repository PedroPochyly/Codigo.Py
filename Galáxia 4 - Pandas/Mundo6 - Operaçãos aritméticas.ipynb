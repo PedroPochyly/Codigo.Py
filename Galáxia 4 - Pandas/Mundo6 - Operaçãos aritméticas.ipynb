{
 "cells": [
  {
   "cell_type": "markdown",
   "id": "76280d9d",
   "metadata": {},
   "source": [
    "# Mundo 6\n",
    "\n",
    "### Introdução ao Pandas"
   ]
  },
  {
   "cell_type": "code",
   "execution_count": null,
   "id": "7248e396",
   "metadata": {},
   "outputs": [],
   "source": [
    "import pandas as pd\n",
    "import numpy as np"
   ]
  },
  {
   "cell_type": "code",
   "execution_count": null,
   "id": "265a8ff6",
   "metadata": {},
   "outputs": [],
   "source": [
    "def gerador_serie_historica(valor_inicial, volatilidade, periodos, dia_inicial, frequencia = \"M\"):\n",
    "    \n",
    "    vetor = [valor_inicial]\n",
    "\n",
    "    for i in range(periodos - 1):\n",
    "\n",
    "            preco = vetor[i] * (1 + np.random.normal(0, volatilidade))\n",
    "\n",
    "            vetor.append(preco)\n",
    "\n",
    "\n",
    "    serie = pd.Series(vetor, index = pd.date_range(dia_inicial, \n",
    "                                                   periods = periodos, freq = frequencia)) \n",
    "                               \n",
    "    return serie\n",
    "    \n",
    "    "
   ]
  },
  {
   "cell_type": "code",
   "execution_count": null,
   "id": "4b781fda",
   "metadata": {
    "scrolled": true
   },
   "outputs": [],
   "source": [
    "serie_euro = gerador_serie_historica(5, 0.01, 5, \"2022-01-01\")\n",
    "serie_cotacoes = gerador_serie_historica(20, 0.05, 5, \"2022-01-01\")\n",
    "serie_cotacoes"
   ]
  },
  {
   "cell_type": "code",
   "execution_count": null,
   "id": "bbd44525",
   "metadata": {},
   "outputs": [],
   "source": [
    "serie_euro"
   ]
  },
  {
   "cell_type": "code",
   "execution_count": null,
   "id": "2fff8be0",
   "metadata": {},
   "outputs": [],
   "source": [
    "#as operações aritméticas são feitas através dos índices! \n",
    "\n",
    "serie_cotacoes_em_euro = serie_cotacoes/serie_euro\n",
    "serie_cotacoes_em_euro"
   ]
  },
  {
   "cell_type": "code",
   "execution_count": null,
   "id": "08aace19",
   "metadata": {},
   "outputs": [],
   "source": [
    "serie_lucro = gerador_serie_historica(2, 0.5, 5, \"2022-01-01\")\n",
    "serie_cotacoes = gerador_serie_historica(20, 0.05, 5, \"2022-01-01\")\n",
    "\n",
    "\n",
    "df = pd.DataFrame({\"cotacao\": serie_cotacoes,\n",
    "                 \"lucro_por_acao\": serie_lucro})\n",
    "\n",
    "df"
   ]
  },
  {
   "cell_type": "code",
   "execution_count": null,
   "id": "fae71440",
   "metadata": {},
   "outputs": [],
   "source": [
    "#criando coluna P/L\n",
    "\n",
    "df['PL'] = df['cotacao']/df['lucro_por_acao']\n",
    "\n",
    "df"
   ]
  },
  {
   "cell_type": "code",
   "execution_count": null,
   "id": "04c71e80",
   "metadata": {},
   "outputs": [],
   "source": [
    "#pode fazer qualquer operação \n",
    "\n",
    "print(df['cotacao'] + df['lucro_por_acao'])\n",
    "print(df['cotacao'] - df['lucro_por_acao'])\n",
    "print(df['cotacao'] ** df['lucro_por_acao'])"
   ]
  },
  {
   "cell_type": "code",
   "execution_count": null,
   "id": "86208892",
   "metadata": {},
   "outputs": [],
   "source": [
    "#operações dentro de uma mesma coluna\n",
    "\n",
    "#somar dados de uma coluna\n",
    "\n",
    "serie_lucro_trimestral = gerador_serie_historica(20000, 2, 4, \"2022-01-01\", frequencia = \"Q\")\n",
    "\n",
    "print(serie_lucro_trimestral)\n",
    "\n",
    "lucro_anual = serie_lucro_trimestral.sum()\n",
    "lucro_anual"
   ]
  },
  {
   "cell_type": "code",
   "execution_count": null,
   "id": "39e72bf8",
   "metadata": {},
   "outputs": [],
   "source": [
    "#acumular dados de uma coluna\n",
    "\n",
    "serie_lucro_trimestral = gerador_serie_historica(20000, 2, 4, \"2022-01-01\", frequencia = \"Q\")\n",
    "\n",
    "print(serie_lucro_trimestral)\n",
    "\n",
    "crescimento_lucros  = serie_lucro_trimestral.cumsum()\n",
    "\n",
    "crescimento_lucros"
   ]
  },
  {
   "cell_type": "code",
   "execution_count": null,
   "id": "573a6bf6",
   "metadata": {},
   "outputs": [],
   "source": [
    "#maior e menor dado de lucro no trimestre"
   ]
  },
  {
   "cell_type": "code",
   "execution_count": null,
   "id": "2147d92c",
   "metadata": {},
   "outputs": [],
   "source": [
    "serie_lucro_trimestral = gerador_serie_historica(20000, 2, 4, \"2022-01-01\", frequencia = \"Q\")\n",
    "\n",
    "print(serie_lucro_trimestral)\n",
    "\n",
    "lucro_max = serie_lucro_trimestral.max()\n",
    "lucro_min = serie_lucro_trimestral.min()\n",
    "\n",
    "print(lucro_min)\n",
    "lucro_max"
   ]
  },
  {
   "cell_type": "markdown",
   "id": "21e3586e",
   "metadata": {},
   "source": [
    "# Exercícios \n",
    "\n",
    "No dataframe base trabalhado em todas as aulas:\n",
    "\n",
    "* Exercício 50: Crie uma nova coluna chamada \"lucro_por_acao\" e calcule o lucro por ação baseado nas informações de PL e preço. Obs: LPA = P/Indicador(PL)\n",
    "* Exercício 51: Assuma a cotação do dólar como 5.25 e crie a coluna de cotações dolarizadas na tabela.\n",
    "* Exercício 52: Encontre qual volume total negociado por todas as ações. \n",
    "* Exercício 53: Selecione as ações com maior e menor Lucro por ação do dataframe. Dica: use métodos de seleção ensinados na aula passada! \n"
   ]
  },
  {
   "cell_type": "code",
   "execution_count": 4,
   "id": "7523c91b",
   "metadata": {},
   "outputs": [],
   "source": [
    "import pandas as pd\n",
    "\n",
    "dicionario = {\n",
    "       \"nomes\": [\"Weg\", \"Petrobras\", \"Vale\", \"Petrobras\", \"Lojas Renner\"],\n",
    "       \"tickers\": [\"WEGE3\", \"PETR3\", \"VALE3\", \"PETR4\", \"LREN3\"],  \n",
    "       \"cotacoes\": [20, 30, 40, 12, 35],\n",
    "       \"preco_sobre_lucro\": [25, 6, 12, 7, 25],  \n",
    "       \"volume\": [5000, 1000, 4000, 7000, 1200]\n",
    "}\n",
    "\n",
    "df_info_empresas = pd.DataFrame(dicionario)\n",
    "\n",
    "df_info_empresas = df_info_empresas.set_index(\"tickers\")\n",
    "\n",
    "df_info_empresas.columns = ['precos', 'nomes', 'preco_sobre_lucro', 'volume']"
   ]
  },
  {
   "cell_type": "code",
   "execution_count": 5,
   "id": "50a005be",
   "metadata": {},
   "outputs": [
    {
     "data": {
      "text/html": [
       "<div>\n",
       "<style>\n",
       "    .dataframe thead tr:only-child th {\n",
       "        text-align: right;\n",
       "    }\n",
       "\n",
       "    .dataframe thead th {\n",
       "        text-align: left;\n",
       "    }\n",
       "\n",
       "    .dataframe tbody tr th {\n",
       "        vertical-align: top;\n",
       "    }\n",
       "</style>\n",
       "<table border=\"1\" class=\"dataframe\">\n",
       "  <thead>\n",
       "    <tr style=\"text-align: right;\">\n",
       "      <th></th>\n",
       "      <th>precos</th>\n",
       "      <th>nomes</th>\n",
       "      <th>preco_sobre_lucro</th>\n",
       "      <th>volume</th>\n",
       "      <th>LPA</th>\n",
       "    </tr>\n",
       "    <tr>\n",
       "      <th>tickers</th>\n",
       "      <th></th>\n",
       "      <th></th>\n",
       "      <th></th>\n",
       "      <th></th>\n",
       "      <th></th>\n",
       "    </tr>\n",
       "  </thead>\n",
       "  <tbody>\n",
       "    <tr>\n",
       "      <th>WEGE3</th>\n",
       "      <td>20.0</td>\n",
       "      <td>Weg</td>\n",
       "      <td>25.0</td>\n",
       "      <td>5000</td>\n",
       "      <td>0.800000</td>\n",
       "    </tr>\n",
       "    <tr>\n",
       "      <th>PETR3</th>\n",
       "      <td>30.0</td>\n",
       "      <td>Petrobras</td>\n",
       "      <td>6.0</td>\n",
       "      <td>1000</td>\n",
       "      <td>5.000000</td>\n",
       "    </tr>\n",
       "    <tr>\n",
       "      <th>VALE3</th>\n",
       "      <td>40.0</td>\n",
       "      <td>Vale</td>\n",
       "      <td>12.0</td>\n",
       "      <td>4000</td>\n",
       "      <td>3.333333</td>\n",
       "    </tr>\n",
       "    <tr>\n",
       "      <th>PETR4</th>\n",
       "      <td>12.0</td>\n",
       "      <td>Petrobras</td>\n",
       "      <td>7.0</td>\n",
       "      <td>7000</td>\n",
       "      <td>1.714286</td>\n",
       "    </tr>\n",
       "    <tr>\n",
       "      <th>LREN3</th>\n",
       "      <td>35.0</td>\n",
       "      <td>Lojas Renner</td>\n",
       "      <td>25.0</td>\n",
       "      <td>1200</td>\n",
       "      <td>1.400000</td>\n",
       "    </tr>\n",
       "  </tbody>\n",
       "</table>\n",
       "</div>"
      ],
      "text/plain": [
       "         precos         nomes  preco_sobre_lucro  volume       LPA\n",
       "tickers                                                           \n",
       "WEGE3      20.0           Weg               25.0    5000  0.800000\n",
       "PETR3      30.0     Petrobras                6.0    1000  5.000000\n",
       "VALE3      40.0          Vale               12.0    4000  3.333333\n",
       "PETR4      12.0     Petrobras                7.0    7000  1.714286\n",
       "LREN3      35.0  Lojas Renner               25.0    1200  1.400000"
      ]
     },
     "execution_count": 5,
     "metadata": {},
     "output_type": "execute_result"
    }
   ],
   "source": [
    "df_info_empresas['precos'] = df_info_empresas['precos'].astype(float)\n",
    "df_info_empresas['preco_sobre_lucro'] = df_info_empresas['preco_sobre_lucro'].astype(float)\n",
    "\n",
    "df_info_empresas['LPA'] = df_info_empresas['precos'] / df_info_empresas['preco_sobre_lucro']\n",
    "\n",
    "df_info_empresas"
   ]
  },
  {
   "cell_type": "code",
   "execution_count": 6,
   "id": "640e6195",
   "metadata": {},
   "outputs": [
    {
     "data": {
      "text/html": [
       "<div>\n",
       "<style>\n",
       "    .dataframe thead tr:only-child th {\n",
       "        text-align: right;\n",
       "    }\n",
       "\n",
       "    .dataframe thead th {\n",
       "        text-align: left;\n",
       "    }\n",
       "\n",
       "    .dataframe tbody tr th {\n",
       "        vertical-align: top;\n",
       "    }\n",
       "</style>\n",
       "<table border=\"1\" class=\"dataframe\">\n",
       "  <thead>\n",
       "    <tr style=\"text-align: right;\">\n",
       "      <th></th>\n",
       "      <th>precos</th>\n",
       "      <th>nomes</th>\n",
       "      <th>preco_sobre_lucro</th>\n",
       "      <th>volume</th>\n",
       "      <th>LPA</th>\n",
       "      <th>cot_dólar</th>\n",
       "    </tr>\n",
       "    <tr>\n",
       "      <th>tickers</th>\n",
       "      <th></th>\n",
       "      <th></th>\n",
       "      <th></th>\n",
       "      <th></th>\n",
       "      <th></th>\n",
       "      <th></th>\n",
       "    </tr>\n",
       "  </thead>\n",
       "  <tbody>\n",
       "    <tr>\n",
       "      <th>WEGE3</th>\n",
       "      <td>20.0</td>\n",
       "      <td>Weg</td>\n",
       "      <td>25.0</td>\n",
       "      <td>5000</td>\n",
       "      <td>0.800000</td>\n",
       "      <td>3.809524</td>\n",
       "    </tr>\n",
       "    <tr>\n",
       "      <th>PETR3</th>\n",
       "      <td>30.0</td>\n",
       "      <td>Petrobras</td>\n",
       "      <td>6.0</td>\n",
       "      <td>1000</td>\n",
       "      <td>5.000000</td>\n",
       "      <td>5.714286</td>\n",
       "    </tr>\n",
       "    <tr>\n",
       "      <th>VALE3</th>\n",
       "      <td>40.0</td>\n",
       "      <td>Vale</td>\n",
       "      <td>12.0</td>\n",
       "      <td>4000</td>\n",
       "      <td>3.333333</td>\n",
       "      <td>7.619048</td>\n",
       "    </tr>\n",
       "    <tr>\n",
       "      <th>PETR4</th>\n",
       "      <td>12.0</td>\n",
       "      <td>Petrobras</td>\n",
       "      <td>7.0</td>\n",
       "      <td>7000</td>\n",
       "      <td>1.714286</td>\n",
       "      <td>2.285714</td>\n",
       "    </tr>\n",
       "    <tr>\n",
       "      <th>LREN3</th>\n",
       "      <td>35.0</td>\n",
       "      <td>Lojas Renner</td>\n",
       "      <td>25.0</td>\n",
       "      <td>1200</td>\n",
       "      <td>1.400000</td>\n",
       "      <td>6.666667</td>\n",
       "    </tr>\n",
       "  </tbody>\n",
       "</table>\n",
       "</div>"
      ],
      "text/plain": [
       "         precos         nomes  preco_sobre_lucro  volume       LPA  cot_dólar\n",
       "tickers                                                                      \n",
       "WEGE3      20.0           Weg               25.0    5000  0.800000   3.809524\n",
       "PETR3      30.0     Petrobras                6.0    1000  5.000000   5.714286\n",
       "VALE3      40.0          Vale               12.0    4000  3.333333   7.619048\n",
       "PETR4      12.0     Petrobras                7.0    7000  1.714286   2.285714\n",
       "LREN3      35.0  Lojas Renner               25.0    1200  1.400000   6.666667"
      ]
     },
     "execution_count": 6,
     "metadata": {},
     "output_type": "execute_result"
    }
   ],
   "source": [
    "#Assuma a cotação do dólar como 5.25 e crie a coluna de cotações dolarizadas na tabela.\n",
    "dólar = 5.25\n",
    "\n",
    "df_info_empresas['cot_dólar'] = df_info_empresas['precos'] / dólar\n",
    "\n",
    "df_info_empresas"
   ]
  },
  {
   "cell_type": "code",
   "execution_count": 7,
   "id": "999fb669",
   "metadata": {},
   "outputs": [
    {
     "data": {
      "text/plain": [
       "18200"
      ]
     },
     "execution_count": 7,
     "metadata": {},
     "output_type": "execute_result"
    }
   ],
   "source": [
    "#Encontre qual volume total negociado por todas as ações.\n",
    "df_info_empresas['volume'].sum()"
   ]
  },
  {
   "cell_type": "code",
   "execution_count": 12,
   "id": "606a0547",
   "metadata": {},
   "outputs": [
    {
     "name": "stdout",
     "output_type": "stream",
     "text": [
      "Petrobras\n",
      "Weg\n"
     ]
    }
   ],
   "source": [
    "#Selecione as ações com maior e menor Lucro por ação do dataframe. \n",
    "\n",
    "maiorlpa_empresa = df_info_empresas.loc[df_info_empresas['LPA'].idxmax(), 'nomes']\n",
    "\n",
    "menorlpa_empresa = df_info_empresas.loc[df_info_empresas['LPA'].idxmin(), 'nomes']\n",
    "\n",
    "\n",
    "print(maiorlpa_empresa)\n",
    "print(menorlpa_empresa)\n",
    "\n",
    "\n",
    "\n"
   ]
  },
  {
   "cell_type": "code",
   "execution_count": null,
   "id": "696d7124",
   "metadata": {},
   "outputs": [],
   "source": [
    "#df_base\n",
    "\n",
    "dicionario = {\n",
    "       \"nomes\": [\"Weg\", \"Petrobras\", \"Vale\", \"Petrobras\", \"Lojas Renner\"],\n",
    "       \"tickers\": [\"WEGE3\", \"PETR3\", \"VALE3\", \"PETR4\", \"LREN3\"],  \n",
    "       \"cotacoes\": [20, 30, 40, 12, 35],\n",
    "       \"preco_sobre_lucro\": [25, 6, 12, 7, 25],  \n",
    "       \"volume\": [5000, 1000, 4000, 7000, 1200]\n",
    "}\n",
    "\n",
    "df_info_empresas = pd.DataFrame(dicionario)\n",
    "\n",
    "df_info_empresas = df_info_empresas.set_index(\"tickers\")\n",
    "\n",
    "df_info_empresas.columns = ['nomes', 'precos', 'preco_sobre_lucro', 'volume']"
   ]
  },
  {
   "cell_type": "code",
   "execution_count": null,
   "id": "e8254ada",
   "metadata": {},
   "outputs": [],
   "source": [
    "#gabarito 50\n",
    "\n",
    "df_info_empresas['lpa'] = df_info_empresas['precos'] / df_info_empresas['preco_sobre_lucro']\n",
    "\n",
    "df_info_empresas"
   ]
  },
  {
   "cell_type": "code",
   "execution_count": null,
   "id": "51ec51bb",
   "metadata": {},
   "outputs": [],
   "source": [
    "#gabarito 51\n",
    "\n",
    "dolar = 5.25\n",
    "\n",
    "df_info_empresas['precos_dolar'] = df_info_empresas['precos'] / dolar\n",
    "\n",
    "df_info_empresas"
   ]
  },
  {
   "cell_type": "code",
   "execution_count": null,
   "id": "8735ab35",
   "metadata": {},
   "outputs": [],
   "source": [
    "#gabarito 52\n",
    "\n",
    "volume_total = df_info_empresas['volume'].sum()\n",
    "volume_total"
   ]
  },
  {
   "cell_type": "code",
   "execution_count": null,
   "id": "cd06719f",
   "metadata": {},
   "outputs": [],
   "source": [
    "#gabarito 53\n",
    "\n",
    "lpa_maximo = df_info_empresas['lpa'].max()\n",
    "lpa_minimo = df_info_empresas['lpa'].min()\n",
    "\n",
    "maiorlpa_empresa = df_info_empresas[df_info_empresas['lpa'] == lpa_maximo]\n",
    "maiorlpa_empresa = maiorlpa_empresa.iat[0, 0]\n",
    "\n",
    "menorlpa_empresa = df_info_empresas[df_info_empresas['lpa'] == lpa_minimo]\n",
    "menorlpa_empresa = menorlpa_empresa.iat[0, 0]\n",
    "\n",
    "print(maiorlpa_empresa)\n",
    "print(menorlpa_empresa)"
   ]
  },
  {
   "cell_type": "markdown",
   "id": "c368d07c",
   "metadata": {},
   "source": [
    "# Mundo 7\n",
    "\n",
    "Na próxima aula vamos aprender a usar duas ferramentas muito úteis no Pandas: Rankings e ordenação. Afinal, como ordenar uma tabela do maior pro menor PL, por exemplo?"
   ]
  },
  {
   "cell_type": "code",
   "execution_count": null,
   "id": "c3254fd5",
   "metadata": {},
   "outputs": [],
   "source": []
  }
 ],
 "metadata": {
  "kernelspec": {
   "display_name": "Python 3",
   "language": "python",
   "name": "python3"
  },
  "language_info": {
   "codemirror_mode": {
    "name": "ipython",
    "version": 3
   },
   "file_extension": ".py",
   "mimetype": "text/x-python",
   "name": "python",
   "nbconvert_exporter": "python",
   "pygments_lexer": "ipython3",
   "version": "3.6.3"
  }
 },
 "nbformat": 4,
 "nbformat_minor": 5
}
