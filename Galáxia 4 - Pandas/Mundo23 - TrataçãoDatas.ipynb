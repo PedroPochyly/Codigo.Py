{
 "cells": [
  {
   "cell_type": "markdown",
   "id": "a52752ed",
   "metadata": {},
   "source": [
    "# Mundo 23\n",
    "\n",
    "### Formatação de dados"
   ]
  },
  {
   "cell_type": "code",
   "execution_count": 1,
   "id": "d3e11a7a",
   "metadata": {},
   "outputs": [],
   "source": [
    "import pandas as pd\n",
    "import yfinance as yf   "
   ]
  },
  {
   "cell_type": "code",
   "execution_count": 3,
   "id": "82a55ab4",
   "metadata": {},
   "outputs": [
    {
     "name": "stderr",
     "output_type": "stream",
     "text": [
      "[*********************100%***********************]  1 of 1 completed\n"
     ]
    },
    {
     "data": {
      "text/html": [
       "<div>\n",
       "<style scoped>\n",
       "    .dataframe tbody tr th:only-of-type {\n",
       "        vertical-align: middle;\n",
       "    }\n",
       "\n",
       "    .dataframe tbody tr th {\n",
       "        vertical-align: top;\n",
       "    }\n",
       "\n",
       "    .dataframe thead th {\n",
       "        text-align: right;\n",
       "    }\n",
       "</style>\n",
       "<table border=\"1\" class=\"dataframe\">\n",
       "  <thead>\n",
       "    <tr style=\"text-align: right;\">\n",
       "      <th>Ticker</th>\n",
       "      <th>WEGE3.SA</th>\n",
       "    </tr>\n",
       "    <tr>\n",
       "      <th>Date</th>\n",
       "      <th></th>\n",
       "    </tr>\n",
       "  </thead>\n",
       "  <tbody>\n",
       "    <tr>\n",
       "      <th>2000-01-03</th>\n",
       "      <td>0.118770</td>\n",
       "    </tr>\n",
       "    <tr>\n",
       "      <th>2000-01-04</th>\n",
       "      <td>0.114602</td>\n",
       "    </tr>\n",
       "    <tr>\n",
       "      <th>2000-01-05</th>\n",
       "      <td>0.114602</td>\n",
       "    </tr>\n",
       "    <tr>\n",
       "      <th>2000-01-06</th>\n",
       "      <td>0.104184</td>\n",
       "    </tr>\n",
       "    <tr>\n",
       "      <th>2000-01-07</th>\n",
       "      <td>0.104184</td>\n",
       "    </tr>\n",
       "    <tr>\n",
       "      <th>...</th>\n",
       "      <td>...</td>\n",
       "    </tr>\n",
       "    <tr>\n",
       "      <th>2025-03-17</th>\n",
       "      <td>47.569633</td>\n",
       "    </tr>\n",
       "    <tr>\n",
       "      <th>2025-03-18</th>\n",
       "      <td>47.569633</td>\n",
       "    </tr>\n",
       "    <tr>\n",
       "      <th>2025-03-19</th>\n",
       "      <td>48.058804</td>\n",
       "    </tr>\n",
       "    <tr>\n",
       "      <th>2025-03-20</th>\n",
       "      <td>47.819210</td>\n",
       "    </tr>\n",
       "    <tr>\n",
       "      <th>2025-03-21</th>\n",
       "      <td>47.769295</td>\n",
       "    </tr>\n",
       "  </tbody>\n",
       "</table>\n",
       "<p>6332 rows × 1 columns</p>\n",
       "</div>"
      ],
      "text/plain": [
       "Ticker       WEGE3.SA\n",
       "Date                 \n",
       "2000-01-03   0.118770\n",
       "2000-01-04   0.114602\n",
       "2000-01-05   0.114602\n",
       "2000-01-06   0.104184\n",
       "2000-01-07   0.104184\n",
       "...               ...\n",
       "2025-03-17  47.569633\n",
       "2025-03-18  47.569633\n",
       "2025-03-19  48.058804\n",
       "2025-03-20  47.819210\n",
       "2025-03-21  47.769295\n",
       "\n",
       "[6332 rows x 1 columns]"
      ]
     },
     "execution_count": 3,
     "metadata": {},
     "output_type": "execute_result"
    }
   ],
   "source": [
    "dados_weg = yf.download(\"WEGE3.SA\")['Close']\n",
    "\n",
    "dados_weg"
   ]
  },
  {
   "cell_type": "code",
   "execution_count": null,
   "id": "93ae3112",
   "metadata": {},
   "outputs": [],
   "source": [
    "dados_weg_mensal = dados_weg.resample(\"M\").last()\n",
    "\n",
    "dados_weg_mensal"
   ]
  },
  {
   "cell_type": "code",
   "execution_count": null,
   "id": "1225b877",
   "metadata": {},
   "outputs": [],
   "source": [
    "dados_weg_anual = dados_weg.resample(\"Y\").last()\n",
    "\n",
    "dados_weg_anual"
   ]
  },
  {
   "cell_type": "code",
   "execution_count": null,
   "id": "87d80ff9",
   "metadata": {},
   "outputs": [],
   "source": [
    "dados_weg_anual.pct_change()"
   ]
  },
  {
   "cell_type": "markdown",
   "id": "fad6a9f6",
   "metadata": {},
   "source": [
    "# Exercícios\n",
    "<BR>\n",
    "    \n",
    "* Exercício 78: Puxe os dados de cotação ajustada da VALE3.SA e:\n",
    "\n",
    "         - Transforme em cotações mensais\n",
    "         - Transforme em cotações semanais\n",
    "         - Transforme em cotações anuais\n",
    "         - Transforme em cotações de 30 minutos. (Não se importe com os NAs)\n",
    "         "
   ]
  },
  {
   "cell_type": "code",
   "execution_count": null,
   "id": "4677e1e7",
   "metadata": {},
   "outputs": [],
   "source": []
  },
  {
   "cell_type": "code",
   "execution_count": 6,
   "id": "60952611",
   "metadata": {},
   "outputs": [
    {
     "name": "stderr",
     "output_type": "stream",
     "text": [
      "[*********************100%***********************]  1 of 1 completed\n",
      "C:\\Users\\pedro\\AppData\\Local\\Temp\\ipykernel_12376\\1293772534.py:5: FutureWarning: 'M' is deprecated and will be removed in a future version, please use 'ME' instead.\n",
      "  dados_vale_m = dados_vale.resample(\"M\").last()\n",
      "C:\\Users\\pedro\\AppData\\Local\\Temp\\ipykernel_12376\\1293772534.py:7: FutureWarning: 'Y' is deprecated and will be removed in a future version, please use 'YE' instead.\n",
      "  dados_vale_a = dados_vale.resample(\"Y\").last()\n"
     ]
    },
    {
     "data": {
      "text/html": [
       "<div>\n",
       "<style scoped>\n",
       "    .dataframe tbody tr th:only-of-type {\n",
       "        vertical-align: middle;\n",
       "    }\n",
       "\n",
       "    .dataframe tbody tr th {\n",
       "        vertical-align: top;\n",
       "    }\n",
       "\n",
       "    .dataframe thead th {\n",
       "        text-align: right;\n",
       "    }\n",
       "</style>\n",
       "<table border=\"1\" class=\"dataframe\">\n",
       "  <thead>\n",
       "    <tr style=\"text-align: right;\">\n",
       "      <th>Ticker</th>\n",
       "      <th>VALE3.SA</th>\n",
       "    </tr>\n",
       "    <tr>\n",
       "      <th>Date</th>\n",
       "      <th></th>\n",
       "    </tr>\n",
       "  </thead>\n",
       "  <tbody>\n",
       "    <tr>\n",
       "      <th>2000-01-09</th>\n",
       "      <td>1.433055</td>\n",
       "    </tr>\n",
       "    <tr>\n",
       "      <th>2000-01-16</th>\n",
       "      <td>1.652228</td>\n",
       "    </tr>\n",
       "    <tr>\n",
       "      <th>2000-01-23</th>\n",
       "      <td>1.584790</td>\n",
       "    </tr>\n",
       "    <tr>\n",
       "      <th>2000-01-30</th>\n",
       "      <td>1.618509</td>\n",
       "    </tr>\n",
       "    <tr>\n",
       "      <th>2000-02-06</th>\n",
       "      <td>1.574674</td>\n",
       "    </tr>\n",
       "    <tr>\n",
       "      <th>...</th>\n",
       "      <td>...</td>\n",
       "    </tr>\n",
       "    <tr>\n",
       "      <th>2025-02-23</th>\n",
       "      <td>55.975330</td>\n",
       "    </tr>\n",
       "    <tr>\n",
       "      <th>2025-03-02</th>\n",
       "      <td>53.078396</td>\n",
       "    </tr>\n",
       "    <tr>\n",
       "      <th>2025-03-09</th>\n",
       "      <td>54.878155</td>\n",
       "    </tr>\n",
       "    <tr>\n",
       "      <th>2025-03-16</th>\n",
       "      <td>56.290001</td>\n",
       "    </tr>\n",
       "    <tr>\n",
       "      <th>2025-03-23</th>\n",
       "      <td>57.450001</td>\n",
       "    </tr>\n",
       "  </tbody>\n",
       "</table>\n",
       "<p>1316 rows × 1 columns</p>\n",
       "</div>"
      ],
      "text/plain": [
       "Ticker       VALE3.SA\n",
       "Date                 \n",
       "2000-01-09   1.433055\n",
       "2000-01-16   1.652228\n",
       "2000-01-23   1.584790\n",
       "2000-01-30   1.618509\n",
       "2000-02-06   1.574674\n",
       "...               ...\n",
       "2025-02-23  55.975330\n",
       "2025-03-02  53.078396\n",
       "2025-03-09  54.878155\n",
       "2025-03-16  56.290001\n",
       "2025-03-23  57.450001\n",
       "\n",
       "[1316 rows x 1 columns]"
      ]
     },
     "execution_count": 6,
     "metadata": {},
     "output_type": "execute_result"
    }
   ],
   "source": [
    "#gabarito 78\n",
    "\n",
    "dados_vale = yf.download(\"VALE3.SA\")['Close']\n",
    "\n",
    "dados_vale_m = dados_vale.resample(\"M\").last()\n",
    "dados_vale_w = dados_vale.resample(\"W\").last()\n",
    "dados_vale_a = dados_vale.resample(\"Y\").last()\n",
    "dados_vale_30min = dados_vale.resample(\"30min\").last()\n",
    "\n",
    "dados_vale_w"
   ]
  },
  {
   "cell_type": "code",
   "execution_count": null,
   "id": "77176a80",
   "metadata": {},
   "outputs": [],
   "source": [
    "dados_vale_w"
   ]
  },
  {
   "cell_type": "markdown",
   "id": "49b5bec4",
   "metadata": {},
   "source": [
    "# Mundo 24\n",
    "\n",
    "Por mais que você já tenha visto alguns spoilers, como você pode calcular a rentabilidade de uma ação ao longo do tempo? Veremos isso no mundo 24, nosso primeiro mundo de análise de dados!"
   ]
  }
 ],
 "metadata": {
  "kernelspec": {
   "display_name": "Python (.venv)",
   "language": "python",
   "name": ".venv"
  },
  "language_info": {
   "codemirror_mode": {
    "name": "ipython",
    "version": 3
   },
   "file_extension": ".py",
   "mimetype": "text/x-python",
   "name": "python",
   "nbconvert_exporter": "python",
   "pygments_lexer": "ipython3",
   "version": "3.13.2"
  },
  "vscode": {
   "interpreter": {
    "hash": "916dbcbb3f70747c44a77c7bcd40155683ae19c65e1c03b4aa3499c5328201f1"
   }
  }
 },
 "nbformat": 4,
 "nbformat_minor": 5
}
