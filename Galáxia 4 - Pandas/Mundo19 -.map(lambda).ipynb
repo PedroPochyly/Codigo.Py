{
 "cells": [
  {
   "cell_type": "markdown",
   "id": "a8a9d230",
   "metadata": {},
   "source": [
    "# Mundo 19\n",
    "\n",
    "### Limpeza e tratamento de dados"
   ]
  },
  {
   "cell_type": "code",
   "execution_count": null,
   "id": "96dcff5f",
   "metadata": {},
   "outputs": [],
   "source": [
    "import pandas as pd\n",
    "import yfinance as yf"
   ]
  },
  {
   "cell_type": "code",
   "execution_count": null,
   "id": "407bd6b4",
   "metadata": {},
   "outputs": [],
   "source": [
    "dados_acoes = yf.download([\"ABEV3.SA\", \"MGLU3.SA\", \"WEGE3.SA\", \"VALE3.SA\"])['Close']\n",
    "\n",
    "dados_acoes"
   ]
  },
  {
   "cell_type": "code",
   "execution_count": null,
   "id": "fc6071b3",
   "metadata": {},
   "outputs": [],
   "source": [
    "media_retornos_diarios = dados_acoes.pct_change().dropna().mean()\n",
    "\n",
    "media_retornos_diarios"
   ]
  },
  {
   "cell_type": "code",
   "execution_count": null,
   "id": "8aa89d20",
   "metadata": {},
   "outputs": [],
   "source": [
    "#usando map pra transformar dados\n",
    "\n",
    "dados_anuais = media_retornos_diarios.map(lambda x: (1 + x) ** 252 - 1)\n",
    "\n",
    "dados_anuais"
   ]
  },
  {
   "cell_type": "code",
   "execution_count": null,
   "id": "89d5e0c3",
   "metadata": {},
   "outputs": [],
   "source": [
    "dados_anuais = dados_anuais.to_frame()\n",
    "\n",
    "dados_anuais"
   ]
  },
  {
   "cell_type": "code",
   "execution_count": null,
   "id": "2df6870f",
   "metadata": {},
   "outputs": [],
   "source": [
    "dados_anuais = dados_anuais.reset_index()\n",
    "\n",
    "dados_anuais.columns = [\"nome_empresas\", \"retornos_anuais\"]\n",
    "\n",
    "dados_anuais"
   ]
  },
  {
   "cell_type": "code",
   "execution_count": null,
   "id": "ecb0261a",
   "metadata": {},
   "outputs": [],
   "source": [
    "dados_anuais['nome_empresas'] = dados_anuais['nome_empresas'].map(lambda x: x.lower())\n",
    "\n",
    "dados_anuais\n",
    "\n",
    "#sempre que você precisar aplicar uma função a uma coluna, utilize o map :)"
   ]
  },
  {
   "cell_type": "markdown",
   "id": "5591cb39",
   "metadata": {},
   "source": [
    "# Exercícios \n",
    "\n",
    "Use o DF base do mundo 17 para:\n",
    "\n",
    "* Exercício 70: Transforme todos os Nomes das empresas em letras minúsculas. \n",
    "* Exercício 71: Transforma a coluna de cotações para reais. Ex: 20 -> R$20"
   ]
  },
  {
   "cell_type": "code",
   "execution_count": null,
   "id": "e0e3d9c6",
   "metadata": {},
   "outputs": [],
   "source": [
    "#df_base\n",
    "\n",
    "dicionario = {\n",
    "       \"nomes\": [\"Weg\", \"Petrobras\", \"Vale\", \"Petrobras\", \"Lojas Renner\"],\n",
    "       \"tickers\": [\"WEGE3\", \"PETR3\", \"VALE3\", \"PETR4\", \"LREN3\"],  \n",
    "       \"cotacoes\": [20, 30, 40, 12, 35],\n",
    "       \"preco_sobre_lucro\": [25, 6, 12, 7, 25],  \n",
    "       \"volume\": [5000, 1000, 4000, 7000, 1200]\n",
    "}\n",
    "\n",
    "df_info_empresas = pd.DataFrame(dicionario)\n",
    "\n",
    "df_info_empresas = df_info_empresas.set_index(\"tickers\")\n",
    "\n",
    "df_info_empresas.columns = ['nomes', 'precos', 'preco_sobre_lucro', 'volume']\n",
    "\n",
    "df_info_empresas['lpa'] = df_info_empresas['precos'] / df_info_empresas['preco_sobre_lucro']\n",
    "\n",
    "dolar = 5.25\n",
    "\n",
    "df_info_empresas['precos_dolar'] = df_info_empresas['precos'] / dolar\n",
    "\n",
    "df_info_empresas"
   ]
  },
  {
   "cell_type": "code",
   "execution_count": null,
   "id": "6aca066f",
   "metadata": {},
   "outputs": [],
   "source": [
    "df_info_empresas = df_info_empresas['nomes'].map(lambda x: x.upper())\n",
    "\n",
    "df_info_empresas"
   ]
  },
  {
   "cell_type": "code",
   "execution_count": null,
   "id": "0c66a641",
   "metadata": {},
   "outputs": [],
   "source": []
  },
  {
   "cell_type": "code",
   "execution_count": null,
   "id": "ca0af5ca",
   "metadata": {},
   "outputs": [],
   "source": [
    "#gabarito 70\n",
    "\n",
    "df_info_empresas['nomes'] = df_info_empresas['nomes'].map(lambda x: x.lower())\n",
    "\n",
    "df_info_empresas"
   ]
  },
  {
   "cell_type": "code",
   "execution_count": null,
   "id": "c63bd579",
   "metadata": {},
   "outputs": [],
   "source": [
    "#gabarito 71 \n",
    "\n",
    "df_info_empresas['precos'] = df_info_empresas['precos'].map(lambda x: \"R$ \" + str(x))\n",
    "\n",
    "df_info_empresas"
   ]
  },
  {
   "cell_type": "markdown",
   "id": "848738d2",
   "metadata": {},
   "source": [
    "# Mundo 20\n",
    "\n",
    "Pra finalizar nossa parte de limpeza e preparação dos dados, vamos falar de coisas muito importantes pra modelagem estatística: como separar nossos dados em dummys? Como separar nossos dados em quartis?"
   ]
  }
 ],
 "metadata": {
  "kernelspec": {
   "display_name": "Python (.venv)",
   "language": "python",
   "name": ".venv"
  },
  "language_info": {
   "codemirror_mode": {
    "name": "ipython",
    "version": 3
   },
   "file_extension": ".py",
   "mimetype": "text/x-python",
   "name": "python",
   "nbconvert_exporter": "python",
   "pygments_lexer": "ipython3",
   "version": "3.13.2"
  },
  "vscode": {
   "interpreter": {
    "hash": "916dbcbb3f70747c44a77c7bcd40155683ae19c65e1c03b4aa3499c5328201f1"
   }
  }
 },
 "nbformat": 4,
 "nbformat_minor": 5
}
