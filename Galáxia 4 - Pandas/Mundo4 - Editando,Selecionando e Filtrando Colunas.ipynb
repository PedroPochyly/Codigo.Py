{
 "cells": [
  {
   "cell_type": "markdown",
   "id": "e4bded77",
   "metadata": {},
   "source": [
    "# Mundo 4\n",
    "### Introdução ao Pandas"
   ]
  },
  {
   "cell_type": "code",
   "execution_count": 1,
   "id": "0d0bf646",
   "metadata": {},
   "outputs": [],
   "source": [
    "import pandas as pd"
   ]
  },
  {
   "cell_type": "code",
   "execution_count": 2,
   "id": "2c164d8e",
   "metadata": {},
   "outputs": [
    {
     "data": {
      "text/html": [
       "<div>\n",
       "<style>\n",
       "    .dataframe thead tr:only-child th {\n",
       "        text-align: right;\n",
       "    }\n",
       "\n",
       "    .dataframe thead th {\n",
       "        text-align: left;\n",
       "    }\n",
       "\n",
       "    .dataframe tbody tr th {\n",
       "        vertical-align: top;\n",
       "    }\n",
       "</style>\n",
       "<table border=\"1\" class=\"dataframe\">\n",
       "  <thead>\n",
       "    <tr style=\"text-align: right;\">\n",
       "      <th></th>\n",
       "      <th>data</th>\n",
       "      <th>moeda</th>\n",
       "      <th>price</th>\n",
       "    </tr>\n",
       "  </thead>\n",
       "  <tbody>\n",
       "    <tr>\n",
       "      <th>0</th>\n",
       "      <td>2014-01-05</td>\n",
       "      <td>dolar/real</td>\n",
       "      <td>5.24</td>\n",
       "    </tr>\n",
       "    <tr>\n",
       "      <th>1</th>\n",
       "      <td>2014-01-05</td>\n",
       "      <td>libra/real</td>\n",
       "      <td>4.15</td>\n",
       "    </tr>\n",
       "    <tr>\n",
       "      <th>2</th>\n",
       "      <td>2014-01-06</td>\n",
       "      <td>dolar/real</td>\n",
       "      <td>5.26</td>\n",
       "    </tr>\n",
       "    <tr>\n",
       "      <th>3</th>\n",
       "      <td>2014-01-06</td>\n",
       "      <td>libra/real</td>\n",
       "      <td>4.23</td>\n",
       "    </tr>\n",
       "  </tbody>\n",
       "</table>\n",
       "</div>"
      ],
      "text/plain": [
       "        data       moeda  price\n",
       "0 2014-01-05  dolar/real   5.24\n",
       "1 2014-01-05  libra/real   4.15\n",
       "2 2014-01-06  dolar/real   5.26\n",
       "3 2014-01-06  libra/real   4.23"
      ]
     },
     "execution_count": 2,
     "metadata": {},
     "output_type": "execute_result"
    }
   ],
   "source": [
    "df_cambio = pd.DataFrame({\n",
    "    \"moeda\": ['dolar/real', 'libra/real'] * 2,\n",
    "    \"price\": [5.24, 4.15, 5.26, 4.23],\n",
    "    \"data\": sorted(list(pd.date_range(\"1/5/2014\", periods = 2)) * 2)\n",
    "})\n",
    "\n",
    "df_cambio"
   ]
  },
  {
   "cell_type": "code",
   "execution_count": 7,
   "id": "971a0635",
   "metadata": {},
   "outputs": [
    {
     "data": {
      "text/html": [
       "<div>\n",
       "<style>\n",
       "    .dataframe thead tr:only-child th {\n",
       "        text-align: right;\n",
       "    }\n",
       "\n",
       "    .dataframe thead th {\n",
       "        text-align: left;\n",
       "    }\n",
       "\n",
       "    .dataframe tbody tr th {\n",
       "        vertical-align: top;\n",
       "    }\n",
       "</style>\n",
       "<table border=\"1\" class=\"dataframe\">\n",
       "  <thead>\n",
       "    <tr style=\"text-align: right;\">\n",
       "      <th></th>\n",
       "      <th>data</th>\n",
       "      <th>moeda</th>\n",
       "      <th>cotacao</th>\n",
       "    </tr>\n",
       "  </thead>\n",
       "  <tbody>\n",
       "    <tr>\n",
       "      <th>0</th>\n",
       "      <td>2014-01-05</td>\n",
       "      <td>dolar/real</td>\n",
       "      <td>5.24</td>\n",
       "    </tr>\n",
       "    <tr>\n",
       "      <th>1</th>\n",
       "      <td>2014-01-05</td>\n",
       "      <td>libra/real</td>\n",
       "      <td>4.15</td>\n",
       "    </tr>\n",
       "    <tr>\n",
       "      <th>2</th>\n",
       "      <td>2014-01-06</td>\n",
       "      <td>dolar/real</td>\n",
       "      <td>5.26</td>\n",
       "    </tr>\n",
       "    <tr>\n",
       "      <th>3</th>\n",
       "      <td>2014-01-06</td>\n",
       "      <td>libra/real</td>\n",
       "      <td>4.23</td>\n",
       "    </tr>\n",
       "  </tbody>\n",
       "</table>\n",
       "</div>"
      ],
      "text/plain": [
       "        data       moeda  cotacao\n",
       "0 2014-01-05  dolar/real     5.24\n",
       "1 2014-01-05  libra/real     4.15\n",
       "2 2014-01-06  dolar/real     5.26\n",
       "3 2014-01-06  libra/real     4.23"
      ]
     },
     "execution_count": 7,
     "metadata": {},
     "output_type": "execute_result"
    }
   ],
   "source": [
    "#Como trocar o nome das colunas \n",
    "\n",
    "df_cambio.columns\n",
    "\n",
    "df_cambio.columns = ['data', 'moeda', 'cotacao']\n",
    "\n",
    "df_cambio"
   ]
  },
  {
   "cell_type": "code",
   "execution_count": 12,
   "id": "12d1fde5",
   "metadata": {},
   "outputs": [
    {
     "data": {
      "text/plain": [
       "0    5.24\n",
       "1    4.15\n",
       "2    5.26\n",
       "3    4.23\n",
       "Name: cotacao, dtype: float64"
      ]
     },
     "execution_count": 12,
     "metadata": {},
     "output_type": "execute_result"
    }
   ],
   "source": [
    "#como selecionar colunas \n",
    "\n",
    "cotacao = df_cambio['cotacao'] #te devolve uma serie\n",
    "cotacao\n"
   ]
  },
  {
   "cell_type": "code",
   "execution_count": 13,
   "id": "89c7beed",
   "metadata": {},
   "outputs": [
    {
     "name": "stdout",
     "output_type": "stream",
     "text": [
      "   cotacao       data\n",
      "0     5.24 2014-01-05\n",
      "1     4.15 2014-01-05\n",
      "2     5.26 2014-01-06\n",
      "3     4.23 2014-01-06\n"
     ]
    },
    {
     "data": {
      "text/plain": [
       "data\n",
       "2014-01-05    5.24\n",
       "2014-01-05    4.15\n",
       "2014-01-06    5.26\n",
       "2014-01-06    4.23\n",
       "Name: cotacao, dtype: float64"
      ]
     },
     "execution_count": 13,
     "metadata": {},
     "output_type": "execute_result"
    }
   ],
   "source": [
    "#2 colunas\n",
    "cotacao_e_data = df_cambio[['cotacao', 'data']] #lista dentro da lista\n",
    "\n",
    "print(cotacao_e_data)\n",
    "\n",
    "#vantagem da data como indice\n",
    "\n",
    "df_cambio = df_cambio.set_index(\"data\")\n",
    "\n",
    "cotacao = df_cambio['cotacao'] \n",
    "\n",
    "cotacao"
   ]
  },
  {
   "cell_type": "code",
   "execution_count": null,
   "id": "51b77fa9",
   "metadata": {},
   "outputs": [],
   "source": [
    "#selecionando colunas por condições\n",
    "\n",
    "cambio_menor_que_5 = df_cambio[df_cambio['cotacao'] < 5]\n",
    "\n",
    "print(cambio_menor_que_5)\n",
    "\n",
    "#selecionando o cambio\n",
    "\n",
    "cambio_dolar = df_cambio[df_cambio['moeda'] == 'dolar/real']\n",
    "\n",
    "cambio_dolar"
   ]
  },
  {
   "cell_type": "code",
   "execution_count": null,
   "id": "69a4dd8d",
   "metadata": {},
   "outputs": [],
   "source": [
    "#selecionando duas condições ao mesmo tempo (operadores & e |)\n",
    "\n",
    "#dolar e maior que 5.25\n",
    "cambio_dolar_e_maior_que_525 = df_cambio[(df_cambio['moeda'] == 'dolar/real') &\n",
    "                                                      (df_cambio['cotacao'] > 5.25)]\n",
    "\n",
    "print(cambio_dolar_e_maior_que_525)\n",
    "\n",
    "#libra ou maior que 5.25\n",
    "cambio_libra_ou_maior_que_525 = df_cambio[(df_cambio['moeda'] == 'libra/real') |\n",
    "                                                      (df_cambio['cotacao'] > 5.25)]\n",
    "\n",
    "print(cambio_libra_ou_maior_que_525)\n",
    "\n",
    "\n",
    "#podemos filtrar o indice também\n",
    "\n",
    "#libra no dia 5 de janeiro de 2014\n",
    "\n",
    "libra_5_jan = df_cambio[(df_cambio['moeda'] == 'libra/real') &\n",
    "                        (df_cambio.index == \"2014-01-05\")]\n",
    "\n",
    "libra_5_jan"
   ]
  },
  {
   "cell_type": "markdown",
   "id": "fc111e61",
   "metadata": {},
   "source": [
    "# Exercícios\n",
    "\n",
    "* Exercício 40: Mude o nome da coluna do dataframe do exercício 39 de \"cotacoes\" para \"precos\".\n",
    "* Exercício 41: Selecione a coluna de preços do dataframe estudado.\n",
    "* Exercício 42: Selecione as duas últimas colunas do dataframe estudado.\n",
    "* Exercício 43: Selecione as informações da Petrobras no dataframe estudado.\n",
    "* Exercício 44: Selecione apenas empresas com P/L menor que 20.\n",
    "* Exercício 45: Selecione empresas com P/L maior que 10 e volume maior que 2000.\n",
    "* Exercício 46: Selecione empresas que a cotação seja maior que 20 ou o volume é maior que 4000."
   ]
  },
  {
   "cell_type": "code",
   "execution_count": 14,
   "id": "a5eca4eb",
   "metadata": {},
   "outputs": [
    {
     "data": {
      "text/html": [
       "<div>\n",
       "<style>\n",
       "    .dataframe thead tr:only-child th {\n",
       "        text-align: right;\n",
       "    }\n",
       "\n",
       "    .dataframe thead th {\n",
       "        text-align: left;\n",
       "    }\n",
       "\n",
       "    .dataframe tbody tr th {\n",
       "        vertical-align: top;\n",
       "    }\n",
       "</style>\n",
       "<table border=\"1\" class=\"dataframe\">\n",
       "  <thead>\n",
       "    <tr style=\"text-align: right;\">\n",
       "      <th></th>\n",
       "      <th>cotacoes</th>\n",
       "      <th>nomes</th>\n",
       "      <th>preco_sobre_lucro</th>\n",
       "      <th>volume</th>\n",
       "    </tr>\n",
       "    <tr>\n",
       "      <th>tickers</th>\n",
       "      <th></th>\n",
       "      <th></th>\n",
       "      <th></th>\n",
       "      <th></th>\n",
       "    </tr>\n",
       "  </thead>\n",
       "  <tbody>\n",
       "    <tr>\n",
       "      <th>WEGE3</th>\n",
       "      <td>20</td>\n",
       "      <td>Weg</td>\n",
       "      <td>25</td>\n",
       "      <td>5000</td>\n",
       "    </tr>\n",
       "    <tr>\n",
       "      <th>PETR3</th>\n",
       "      <td>30</td>\n",
       "      <td>Petrobras</td>\n",
       "      <td>6</td>\n",
       "      <td>1000</td>\n",
       "    </tr>\n",
       "    <tr>\n",
       "      <th>VALE3</th>\n",
       "      <td>40</td>\n",
       "      <td>Vale</td>\n",
       "      <td>12</td>\n",
       "      <td>4000</td>\n",
       "    </tr>\n",
       "    <tr>\n",
       "      <th>PETR4</th>\n",
       "      <td>12</td>\n",
       "      <td>Petrobras</td>\n",
       "      <td>7</td>\n",
       "      <td>7000</td>\n",
       "    </tr>\n",
       "    <tr>\n",
       "      <th>LREN3</th>\n",
       "      <td>35</td>\n",
       "      <td>Lojas Renner</td>\n",
       "      <td>25</td>\n",
       "      <td>1200</td>\n",
       "    </tr>\n",
       "  </tbody>\n",
       "</table>\n",
       "</div>"
      ],
      "text/plain": [
       "         cotacoes         nomes  preco_sobre_lucro  volume\n",
       "tickers                                                   \n",
       "WEGE3          20           Weg                 25    5000\n",
       "PETR3          30     Petrobras                  6    1000\n",
       "VALE3          40          Vale                 12    4000\n",
       "PETR4          12     Petrobras                  7    7000\n",
       "LREN3          35  Lojas Renner                 25    1200"
      ]
     },
     "execution_count": 14,
     "metadata": {},
     "output_type": "execute_result"
    }
   ],
   "source": [
    "dicionario = {\n",
    "       \"nomes\": [\"Weg\", \"Petrobras\", \"Vale\", \"Petrobras\", \"Lojas Renner\"],\n",
    "       \"tickers\": [\"WEGE3\", \"PETR3\", \"VALE3\", \"PETR4\", \"LREN3\"],  \n",
    "       \"cotacoes\": [20, 30, 40, 12, 35],\n",
    "       \"preco_sobre_lucro\": [25, 6, 12, 7, 25],  \n",
    "       \"volume\": [5000, 1000, 4000, 7000, 1200]\n",
    "}\n",
    "\n",
    "df_info_empresas = pd.DataFrame(dicionario)\n",
    "\n",
    "df_info_empresas = df_info_empresas.set_index(\"tickers\")\n",
    "\n",
    "df_info_empresas\n"
   ]
  },
  {
   "cell_type": "code",
   "execution_count": 15,
   "id": "a06146e6",
   "metadata": {},
   "outputs": [
    {
     "data": {
      "text/html": [
       "<div>\n",
       "<style>\n",
       "    .dataframe thead tr:only-child th {\n",
       "        text-align: right;\n",
       "    }\n",
       "\n",
       "    .dataframe thead th {\n",
       "        text-align: left;\n",
       "    }\n",
       "\n",
       "    .dataframe tbody tr th {\n",
       "        vertical-align: top;\n",
       "    }\n",
       "</style>\n",
       "<table border=\"1\" class=\"dataframe\">\n",
       "  <thead>\n",
       "    <tr style=\"text-align: right;\">\n",
       "      <th></th>\n",
       "      <th>preços</th>\n",
       "      <th>nomes</th>\n",
       "      <th>pl</th>\n",
       "      <th>volume</th>\n",
       "    </tr>\n",
       "    <tr>\n",
       "      <th>tickers</th>\n",
       "      <th></th>\n",
       "      <th></th>\n",
       "      <th></th>\n",
       "      <th></th>\n",
       "    </tr>\n",
       "  </thead>\n",
       "  <tbody>\n",
       "    <tr>\n",
       "      <th>WEGE3</th>\n",
       "      <td>20</td>\n",
       "      <td>Weg</td>\n",
       "      <td>25</td>\n",
       "      <td>5000</td>\n",
       "    </tr>\n",
       "    <tr>\n",
       "      <th>PETR3</th>\n",
       "      <td>30</td>\n",
       "      <td>Petrobras</td>\n",
       "      <td>6</td>\n",
       "      <td>1000</td>\n",
       "    </tr>\n",
       "    <tr>\n",
       "      <th>VALE3</th>\n",
       "      <td>40</td>\n",
       "      <td>Vale</td>\n",
       "      <td>12</td>\n",
       "      <td>4000</td>\n",
       "    </tr>\n",
       "    <tr>\n",
       "      <th>PETR4</th>\n",
       "      <td>12</td>\n",
       "      <td>Petrobras</td>\n",
       "      <td>7</td>\n",
       "      <td>7000</td>\n",
       "    </tr>\n",
       "    <tr>\n",
       "      <th>LREN3</th>\n",
       "      <td>35</td>\n",
       "      <td>Lojas Renner</td>\n",
       "      <td>25</td>\n",
       "      <td>1200</td>\n",
       "    </tr>\n",
       "  </tbody>\n",
       "</table>\n",
       "</div>"
      ],
      "text/plain": [
       "         preços         nomes  pl  volume\n",
       "tickers                                  \n",
       "WEGE3        20           Weg  25    5000\n",
       "PETR3        30     Petrobras   6    1000\n",
       "VALE3        40          Vale  12    4000\n",
       "PETR4        12     Petrobras   7    7000\n",
       "LREN3        35  Lojas Renner  25    1200"
      ]
     },
     "execution_count": 15,
     "metadata": {},
     "output_type": "execute_result"
    }
   ],
   "source": [
    "#40\n",
    "df_info_empresas.columns = ['preços','nomes','pl','volume']\n",
    "df_info_empresas"
   ]
  },
  {
   "cell_type": "code",
   "execution_count": 17,
   "id": "8d34314f",
   "metadata": {},
   "outputs": [
    {
     "data": {
      "text/plain": [
       "Index(['preços', 'nomes', 'pl', 'volume'], dtype='object')"
      ]
     },
     "execution_count": 17,
     "metadata": {},
     "output_type": "execute_result"
    }
   ],
   "source": [
    "#41\n",
    "df_info_empresas.columns"
   ]
  },
  {
   "cell_type": "code",
   "execution_count": 32,
   "id": "fb997c09",
   "metadata": {},
   "outputs": [
    {
     "data": {
      "text/plain": [
       "Index(['volume', 'pl'], dtype='object')"
      ]
     },
     "execution_count": 32,
     "metadata": {},
     "output_type": "execute_result"
    }
   ],
   "source": [
    "#42\n",
    "volume_e_pl = df_info_empresas.columns[[-1,-2]]\n",
    "\n",
    "volume_e_pl\n"
   ]
  },
  {
   "cell_type": "code",
   "execution_count": 27,
   "id": "a171bd17",
   "metadata": {},
   "outputs": [
    {
     "data": {
      "text/html": [
       "<div>\n",
       "<style>\n",
       "    .dataframe thead tr:only-child th {\n",
       "        text-align: right;\n",
       "    }\n",
       "\n",
       "    .dataframe thead th {\n",
       "        text-align: left;\n",
       "    }\n",
       "\n",
       "    .dataframe tbody tr th {\n",
       "        vertical-align: top;\n",
       "    }\n",
       "</style>\n",
       "<table border=\"1\" class=\"dataframe\">\n",
       "  <thead>\n",
       "    <tr style=\"text-align: right;\">\n",
       "      <th></th>\n",
       "      <th>preços</th>\n",
       "      <th>nomes</th>\n",
       "      <th>pl</th>\n",
       "      <th>volume</th>\n",
       "    </tr>\n",
       "    <tr>\n",
       "      <th>tickers</th>\n",
       "      <th></th>\n",
       "      <th></th>\n",
       "      <th></th>\n",
       "      <th></th>\n",
       "    </tr>\n",
       "  </thead>\n",
       "  <tbody>\n",
       "    <tr>\n",
       "      <th>PETR3</th>\n",
       "      <td>30</td>\n",
       "      <td>Petrobras</td>\n",
       "      <td>6</td>\n",
       "      <td>1000</td>\n",
       "    </tr>\n",
       "    <tr>\n",
       "      <th>PETR4</th>\n",
       "      <td>12</td>\n",
       "      <td>Petrobras</td>\n",
       "      <td>7</td>\n",
       "      <td>7000</td>\n",
       "    </tr>\n",
       "  </tbody>\n",
       "</table>\n",
       "</div>"
      ],
      "text/plain": [
       "         preços      nomes  pl  volume\n",
       "tickers                               \n",
       "PETR3        30  Petrobras   6    1000\n",
       "PETR4        12  Petrobras   7    7000"
      ]
     },
     "execution_count": 27,
     "metadata": {},
     "output_type": "execute_result"
    }
   ],
   "source": [
    "#43\n",
    "petrobras = df_info_empresas[df_info_empresas['nomes'] == 'Petrobras']\n",
    "\n",
    "petrobras"
   ]
  },
  {
   "cell_type": "code",
   "execution_count": 31,
   "id": "4c7e0335",
   "metadata": {},
   "outputs": [
    {
     "data": {
      "text/html": [
       "<div>\n",
       "<style>\n",
       "    .dataframe thead tr:only-child th {\n",
       "        text-align: right;\n",
       "    }\n",
       "\n",
       "    .dataframe thead th {\n",
       "        text-align: left;\n",
       "    }\n",
       "\n",
       "    .dataframe tbody tr th {\n",
       "        vertical-align: top;\n",
       "    }\n",
       "</style>\n",
       "<table border=\"1\" class=\"dataframe\">\n",
       "  <thead>\n",
       "    <tr style=\"text-align: right;\">\n",
       "      <th></th>\n",
       "      <th>preços</th>\n",
       "      <th>nomes</th>\n",
       "      <th>pl</th>\n",
       "      <th>volume</th>\n",
       "    </tr>\n",
       "    <tr>\n",
       "      <th>tickers</th>\n",
       "      <th></th>\n",
       "      <th></th>\n",
       "      <th></th>\n",
       "      <th></th>\n",
       "    </tr>\n",
       "  </thead>\n",
       "  <tbody>\n",
       "    <tr>\n",
       "      <th>PETR3</th>\n",
       "      <td>30</td>\n",
       "      <td>Petrobras</td>\n",
       "      <td>6</td>\n",
       "      <td>1000</td>\n",
       "    </tr>\n",
       "    <tr>\n",
       "      <th>PETR4</th>\n",
       "      <td>12</td>\n",
       "      <td>Petrobras</td>\n",
       "      <td>7</td>\n",
       "      <td>7000</td>\n",
       "    </tr>\n",
       "  </tbody>\n",
       "</table>\n",
       "</div>"
      ],
      "text/plain": [
       "         preços      nomes  pl  volume\n",
       "tickers                               \n",
       "PETR3        30  Petrobras   6    1000\n",
       "PETR4        12  Petrobras   7    7000"
      ]
     },
     "execution_count": 31,
     "metadata": {},
     "output_type": "execute_result"
    }
   ],
   "source": [
    "#44\n",
    "empresas_pl_menor_10 = df_info_empresas[df_info_empresas['pl']<10]\n",
    "\n",
    "empresas_pl_menor_10"
   ]
  },
  {
   "cell_type": "code",
   "execution_count": 36,
   "id": "83b7f129",
   "metadata": {},
   "outputs": [
    {
     "data": {
      "text/html": [
       "<div>\n",
       "<style>\n",
       "    .dataframe thead tr:only-child th {\n",
       "        text-align: right;\n",
       "    }\n",
       "\n",
       "    .dataframe thead th {\n",
       "        text-align: left;\n",
       "    }\n",
       "\n",
       "    .dataframe tbody tr th {\n",
       "        vertical-align: top;\n",
       "    }\n",
       "</style>\n",
       "<table border=\"1\" class=\"dataframe\">\n",
       "  <thead>\n",
       "    <tr style=\"text-align: right;\">\n",
       "      <th></th>\n",
       "      <th>preços</th>\n",
       "      <th>nomes</th>\n",
       "      <th>pl</th>\n",
       "      <th>volume</th>\n",
       "    </tr>\n",
       "    <tr>\n",
       "      <th>tickers</th>\n",
       "      <th></th>\n",
       "      <th></th>\n",
       "      <th></th>\n",
       "      <th></th>\n",
       "    </tr>\n",
       "  </thead>\n",
       "  <tbody>\n",
       "    <tr>\n",
       "      <th>WEGE3</th>\n",
       "      <td>20</td>\n",
       "      <td>Weg</td>\n",
       "      <td>25</td>\n",
       "      <td>5000</td>\n",
       "    </tr>\n",
       "    <tr>\n",
       "      <th>PETR3</th>\n",
       "      <td>30</td>\n",
       "      <td>Petrobras</td>\n",
       "      <td>6</td>\n",
       "      <td>1000</td>\n",
       "    </tr>\n",
       "    <tr>\n",
       "      <th>VALE3</th>\n",
       "      <td>40</td>\n",
       "      <td>Vale</td>\n",
       "      <td>12</td>\n",
       "      <td>4000</td>\n",
       "    </tr>\n",
       "    <tr>\n",
       "      <th>PETR4</th>\n",
       "      <td>12</td>\n",
       "      <td>Petrobras</td>\n",
       "      <td>7</td>\n",
       "      <td>7000</td>\n",
       "    </tr>\n",
       "    <tr>\n",
       "      <th>LREN3</th>\n",
       "      <td>35</td>\n",
       "      <td>Lojas Renner</td>\n",
       "      <td>25</td>\n",
       "      <td>1200</td>\n",
       "    </tr>\n",
       "  </tbody>\n",
       "</table>\n",
       "</div>"
      ],
      "text/plain": [
       "         preços         nomes  pl  volume\n",
       "tickers                                  \n",
       "WEGE3        20           Weg  25    5000\n",
       "PETR3        30     Petrobras   6    1000\n",
       "VALE3        40          Vale  12    4000\n",
       "PETR4        12     Petrobras   7    7000\n",
       "LREN3        35  Lojas Renner  25    1200"
      ]
     },
     "execution_count": 36,
     "metadata": {},
     "output_type": "execute_result"
    }
   ],
   "source": [
    "#45\n",
    "empresas_pl_maior_10_e_volume = df_info_empresas[df_info_empresas['pl']>10 & (df_info_empresas['volume']>2000)]\n",
    "\n",
    "empresas_pl_maior_10_e_volume"
   ]
  },
  {
   "cell_type": "code",
   "execution_count": 43,
   "id": "f3d29303",
   "metadata": {},
   "outputs": [
    {
     "data": {
      "text/html": [
       "<div>\n",
       "<style>\n",
       "    .dataframe thead tr:only-child th {\n",
       "        text-align: right;\n",
       "    }\n",
       "\n",
       "    .dataframe thead th {\n",
       "        text-align: left;\n",
       "    }\n",
       "\n",
       "    .dataframe tbody tr th {\n",
       "        vertical-align: top;\n",
       "    }\n",
       "</style>\n",
       "<table border=\"1\" class=\"dataframe\">\n",
       "  <thead>\n",
       "    <tr style=\"text-align: right;\">\n",
       "      <th></th>\n",
       "      <th>preços</th>\n",
       "      <th>nomes</th>\n",
       "      <th>pl</th>\n",
       "      <th>volume</th>\n",
       "    </tr>\n",
       "    <tr>\n",
       "      <th>tickers</th>\n",
       "      <th></th>\n",
       "      <th></th>\n",
       "      <th></th>\n",
       "      <th></th>\n",
       "    </tr>\n",
       "  </thead>\n",
       "  <tbody>\n",
       "    <tr>\n",
       "      <th>WEGE3</th>\n",
       "      <td>20</td>\n",
       "      <td>Weg</td>\n",
       "      <td>25</td>\n",
       "      <td>5000</td>\n",
       "    </tr>\n",
       "    <tr>\n",
       "      <th>PETR3</th>\n",
       "      <td>30</td>\n",
       "      <td>Petrobras</td>\n",
       "      <td>6</td>\n",
       "      <td>1000</td>\n",
       "    </tr>\n",
       "    <tr>\n",
       "      <th>VALE3</th>\n",
       "      <td>40</td>\n",
       "      <td>Vale</td>\n",
       "      <td>12</td>\n",
       "      <td>4000</td>\n",
       "    </tr>\n",
       "    <tr>\n",
       "      <th>PETR4</th>\n",
       "      <td>12</td>\n",
       "      <td>Petrobras</td>\n",
       "      <td>7</td>\n",
       "      <td>7000</td>\n",
       "    </tr>\n",
       "    <tr>\n",
       "      <th>LREN3</th>\n",
       "      <td>35</td>\n",
       "      <td>Lojas Renner</td>\n",
       "      <td>25</td>\n",
       "      <td>1200</td>\n",
       "    </tr>\n",
       "  </tbody>\n",
       "</table>\n",
       "</div>"
      ],
      "text/plain": [
       "         preços         nomes  pl  volume\n",
       "tickers                                  \n",
       "WEGE3        20           Weg  25    5000\n",
       "PETR3        30     Petrobras   6    1000\n",
       "VALE3        40          Vale  12    4000\n",
       "PETR4        12     Petrobras   7    7000\n",
       "LREN3        35  Lojas Renner  25    1200"
      ]
     },
     "execution_count": 43,
     "metadata": {},
     "output_type": "execute_result"
    }
   ],
   "source": [
    "#46\n",
    "empresas_cot_maior_30_e_volume_maior_2000 = df_info_empresas[df_info_empresas['preços']>30 & (df_info_empresas['volume']>2000)]\n",
    "\n",
    "empresas_cot_maior_30_e_volume_maior_2000"
   ]
  },
  {
   "cell_type": "markdown",
   "id": "951ac161",
   "metadata": {},
   "source": [
    "# Mundo 5\n",
    "\n",
    "Agora que você aprendeu como manipular colunas, chegou a hora de aprender a selecionar dados dentro da tabela. Como pegar um dado específico, como o preço da Weg em algum dia específico? "
   ]
  },
  {
   "cell_type": "code",
   "execution_count": null,
   "id": "fc8e4a55",
   "metadata": {},
   "outputs": [],
   "source": []
  }
 ],
 "metadata": {
  "kernelspec": {
   "display_name": "Python 3",
   "language": "python",
   "name": "python3"
  },
  "language_info": {
   "codemirror_mode": {
    "name": "ipython",
    "version": 3
   },
   "file_extension": ".py",
   "mimetype": "text/x-python",
   "name": "python",
   "nbconvert_exporter": "python",
   "pygments_lexer": "ipython3",
   "version": "3.6.3"
  }
 },
 "nbformat": 4,
 "nbformat_minor": 5
}
