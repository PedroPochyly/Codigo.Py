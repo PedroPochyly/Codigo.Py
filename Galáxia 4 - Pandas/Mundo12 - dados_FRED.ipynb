{
 "cells": [
  {
   "cell_type": "markdown",
   "id": "eb562e31",
   "metadata": {},
   "source": [
    "# Mundo 12 \n",
    "\n",
    "### Leitura e extração de dados"
   ]
  },
  {
   "cell_type": "markdown",
   "id": "4638be1b",
   "metadata": {},
   "source": [
    "https://fred.stlouisfed.org/categories"
   ]
  },
  {
   "cell_type": "code",
   "execution_count": 1,
   "id": "6826a1ad",
   "metadata": {},
   "outputs": [],
   "source": [
    "from pandas_datareader import data as pdr\n",
    "from datetime import datetime"
   ]
  },
  {
   "cell_type": "code",
   "execution_count": 2,
   "id": "57481af3",
   "metadata": {},
   "outputs": [
    {
     "data": {
      "text/html": [
       "<div>\n",
       "<style scoped>\n",
       "    .dataframe tbody tr th:only-of-type {\n",
       "        vertical-align: middle;\n",
       "    }\n",
       "\n",
       "    .dataframe tbody tr th {\n",
       "        vertical-align: top;\n",
       "    }\n",
       "\n",
       "    .dataframe thead th {\n",
       "        text-align: right;\n",
       "    }\n",
       "</style>\n",
       "<table border=\"1\" class=\"dataframe\">\n",
       "  <thead>\n",
       "    <tr style=\"text-align: right;\">\n",
       "      <th></th>\n",
       "      <th>GDP</th>\n",
       "    </tr>\n",
       "    <tr>\n",
       "      <th>DATE</th>\n",
       "      <th></th>\n",
       "    </tr>\n",
       "  </thead>\n",
       "  <tbody>\n",
       "    <tr>\n",
       "      <th>1947-01-01</th>\n",
       "      <td>243.164</td>\n",
       "    </tr>\n",
       "    <tr>\n",
       "      <th>1947-04-01</th>\n",
       "      <td>245.968</td>\n",
       "    </tr>\n",
       "    <tr>\n",
       "      <th>1947-07-01</th>\n",
       "      <td>249.585</td>\n",
       "    </tr>\n",
       "    <tr>\n",
       "      <th>1947-10-01</th>\n",
       "      <td>259.745</td>\n",
       "    </tr>\n",
       "    <tr>\n",
       "      <th>1948-01-01</th>\n",
       "      <td>265.742</td>\n",
       "    </tr>\n",
       "    <tr>\n",
       "      <th>...</th>\n",
       "      <td>...</td>\n",
       "    </tr>\n",
       "    <tr>\n",
       "      <th>2023-10-01</th>\n",
       "      <td>28296.967</td>\n",
       "    </tr>\n",
       "    <tr>\n",
       "      <th>2024-01-01</th>\n",
       "      <td>28624.069</td>\n",
       "    </tr>\n",
       "    <tr>\n",
       "      <th>2024-04-01</th>\n",
       "      <td>29016.714</td>\n",
       "    </tr>\n",
       "    <tr>\n",
       "      <th>2024-07-01</th>\n",
       "      <td>29374.914</td>\n",
       "    </tr>\n",
       "    <tr>\n",
       "      <th>2024-10-01</th>\n",
       "      <td>29719.647</td>\n",
       "    </tr>\n",
       "  </tbody>\n",
       "</table>\n",
       "<p>312 rows × 1 columns</p>\n",
       "</div>"
      ],
      "text/plain": [
       "                  GDP\n",
       "DATE                 \n",
       "1947-01-01    243.164\n",
       "1947-04-01    245.968\n",
       "1947-07-01    249.585\n",
       "1947-10-01    259.745\n",
       "1948-01-01    265.742\n",
       "...               ...\n",
       "2023-10-01  28296.967\n",
       "2024-01-01  28624.069\n",
       "2024-04-01  29016.714\n",
       "2024-07-01  29374.914\n",
       "2024-10-01  29719.647\n",
       "\n",
       "[312 rows x 1 columns]"
      ]
     },
     "execution_count": 2,
     "metadata": {},
     "output_type": "execute_result"
    }
   ],
   "source": [
    "dado = \"GDP\"\n",
    "\n",
    "inicio = \"1910-12-31\"\n",
    "final = datetime.now()\n",
    "\n",
    "dado_fred = pdr.get_data_fred(dado, inicio, final)\n",
    "\n",
    "dado_fred"
   ]
  },
  {
   "cell_type": "code",
   "execution_count": null,
   "id": "042cebdb",
   "metadata": {},
   "outputs": [],
   "source": [
    "dado = \"GCT1502US\" #quantos % da população americana acima de 25 anos completou faculdade \n",
    "\n",
    "inicio = \"1910-12-31\"\n",
    "final = datetime.now()\n",
    "\n",
    "dado_fred = pdr.get_data_fred(dado, inicio, final)\n",
    "\n",
    "dado_fred"
   ]
  },
  {
   "cell_type": "code",
   "execution_count": 5,
   "id": "74f46b4d",
   "metadata": {},
   "outputs": [
    {
     "name": "stdout",
     "output_type": "stream",
     "text": [
      "c:\\Users\\pedro\\Anaconda3\\python.exe\n"
     ]
    }
   ],
   "source": [
    "import sys\n",
    "print(sys.executable)\n"
   ]
  },
  {
   "cell_type": "code",
   "execution_count": null,
   "id": "ea338f70",
   "metadata": {},
   "outputs": [],
   "source": [
    "dado = \"TB3MS\" #yield de 3 meses americano \n",
    "\n",
    "inicio = \"1910-12-31\"\n",
    "final = datetime.now()\n",
    "\n",
    "dado_fred = pdr.get_data_fred(dado, inicio, final)\n",
    "\n",
    "dado_fred"
   ]
  },
  {
   "cell_type": "code",
   "execution_count": null,
   "id": "816c5778",
   "metadata": {},
   "outputs": [],
   "source": [
    "dado_fred.plot()"
   ]
  },
  {
   "cell_type": "markdown",
   "id": "0bf8ca66",
   "metadata": {},
   "source": [
    "# Exercícios \n",
    "\n",
    "* Exercício 61: Puxe os dados da inflação americana (CPI) desde o início da série de dados no FRED."
   ]
  },
  {
   "cell_type": "code",
   "execution_count": null,
   "id": "8cc9f8ce",
   "metadata": {},
   "outputs": [],
   "source": [
    "dado = \"CPIAUCSL\"\n",
    "\n",
    "inicio = \"1910-12-31\"\n",
    "final = datetime.now()\n",
    "\n",
    "dado_fred = pdr.get_data_fred(dado, inicio, final)\n",
    "\n",
    "dado_fred"
   ]
  },
  {
   "cell_type": "code",
   "execution_count": null,
   "id": "d180109b",
   "metadata": {},
   "outputs": [],
   "source": [
    "#Gabarito 61\n",
    "#CPILFESL\n",
    "dado = \"CPIAUCSL\"\n",
    "\n",
    "inicio = \"1910-12-31\"\n",
    "final = datetime.now()\n",
    "\n",
    "dado_fred = pdr.get_data_fred(dado, inicio, final)\n",
    "\n",
    "dado_fred"
   ]
  },
  {
   "cell_type": "markdown",
   "id": "38dfad2f",
   "metadata": {},
   "source": [
    "# Mundo 13\n",
    "\n",
    "Bom, você aprendeu a pegar dados econômicos dos EUA. Mas que tal pegar dados do mundo inteiro?"
   ]
  }
 ],
 "metadata": {
  "kernelspec": {
   "display_name": ".venv",
   "language": "python",
   "name": "python3"
  },
  "language_info": {
   "codemirror_mode": {
    "name": "ipython",
    "version": 3
   },
   "file_extension": ".py",
   "mimetype": "text/x-python",
   "name": "python",
   "nbconvert_exporter": "python",
   "pygments_lexer": "ipython3",
   "version": "3.13.2"
  }
 },
 "nbformat": 4,
 "nbformat_minor": 5
}
