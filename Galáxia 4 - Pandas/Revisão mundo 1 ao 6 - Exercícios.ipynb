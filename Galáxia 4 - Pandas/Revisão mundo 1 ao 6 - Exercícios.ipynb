{
 "cells": [
  {
   "cell_type": "code",
   "execution_count": 3,
   "id": "0671d6b1",
   "metadata": {},
   "outputs": [],
   "source": [
    "import pandas as pd\n",
    "\n",
    "cotacoes = {'AAPL':175.23,\n",
    "            \"MSFT\": 315.18,\n",
    "            \"GOOGL\": 2805.67,\n",
    "            \"AMZN\": 3425.52\n",
    "    \n",
    "}"
   ]
  },
  {
   "cell_type": "code",
   "execution_count": 5,
   "id": "1923357b",
   "metadata": {},
   "outputs": [
    {
     "data": {
      "text/plain": [
       "AAPL      175.23\n",
       "AMZN     3425.52\n",
       "GOOGL    2805.67\n",
       "MSFT      315.18\n",
       "dtype: float64"
      ]
     },
     "execution_count": 5,
     "metadata": {},
     "output_type": "execute_result"
    }
   ],
   "source": [
    "series_cot = pd.Series(cotacoes)\n",
    "series_cot"
   ]
  },
  {
   "cell_type": "code",
   "execution_count": 9,
   "id": "62c2df3f",
   "metadata": {},
   "outputs": [
    {
     "data": {
      "text/plain": [
       "175.22999999999999"
      ]
     },
     "execution_count": 9,
     "metadata": {},
     "output_type": "execute_result"
    }
   ],
   "source": [
    "series_cot.loc['AAPL']"
   ]
  },
  {
   "cell_type": "code",
   "execution_count": 14,
   "id": "683ca950",
   "metadata": {},
   "outputs": [
    {
     "data": {
      "text/plain": [
       "MSFT    315.18\n",
       "dtype: float64"
      ]
     },
     "execution_count": 14,
     "metadata": {},
     "output_type": "execute_result"
    }
   ],
   "source": [
    "series_cot.iloc[3:4]"
   ]
  },
  {
   "cell_type": "code",
   "execution_count": 19,
   "id": "f0ca6521",
   "metadata": {},
   "outputs": [
    {
     "data": {
      "text/html": [
       "<div>\n",
       "<style>\n",
       "    .dataframe thead tr:only-child th {\n",
       "        text-align: right;\n",
       "    }\n",
       "\n",
       "    .dataframe thead th {\n",
       "        text-align: left;\n",
       "    }\n",
       "\n",
       "    .dataframe tbody tr th {\n",
       "        vertical-align: top;\n",
       "    }\n",
       "</style>\n",
       "<table border=\"1\" class=\"dataframe\">\n",
       "  <thead>\n",
       "    <tr style=\"text-align: right;\">\n",
       "      <th></th>\n",
       "      <th>Nome</th>\n",
       "      <th>Receita (bilhões)</th>\n",
       "      <th>Setor</th>\n",
       "    </tr>\n",
       "  </thead>\n",
       "  <tbody>\n",
       "    <tr>\n",
       "      <th>0</th>\n",
       "      <td>Apple</td>\n",
       "      <td>394.3</td>\n",
       "      <td>Tecnologia</td>\n",
       "    </tr>\n",
       "    <tr>\n",
       "      <th>1</th>\n",
       "      <td>Amazon</td>\n",
       "      <td>469.8</td>\n",
       "      <td>E-commerce</td>\n",
       "    </tr>\n",
       "    <tr>\n",
       "      <th>2</th>\n",
       "      <td>Tesla</td>\n",
       "      <td>81.5</td>\n",
       "      <td>Automobilístico</td>\n",
       "    </tr>\n",
       "  </tbody>\n",
       "</table>\n",
       "</div>"
      ],
      "text/plain": [
       "     Nome  Receita (bilhões)            Setor\n",
       "0   Apple              394.3       Tecnologia\n",
       "1  Amazon              469.8       E-commerce\n",
       "2   Tesla               81.5  Automobilístico"
      ]
     },
     "execution_count": 19,
     "metadata": {},
     "output_type": "execute_result"
    }
   ],
   "source": [
    "empresas = pd.DataFrame({ \"Nome\": [\"Apple\", \"Amazon\", \"Tesla\"],\n",
    "    \"Setor\": [\"Tecnologia\", \"E-commerce\", \"Automobilístico\"],\n",
    "    \"Receita (bilhões)\": [394.3, 469.8, 81.5]\n",
    "})\n",
    "empresas"
   ]
  },
  {
   "cell_type": "code",
   "execution_count": 21,
   "id": "3a41d60f",
   "metadata": {},
   "outputs": [
    {
     "data": {
      "text/html": [
       "<div>\n",
       "<style>\n",
       "    .dataframe thead tr:only-child th {\n",
       "        text-align: right;\n",
       "    }\n",
       "\n",
       "    .dataframe thead th {\n",
       "        text-align: left;\n",
       "    }\n",
       "\n",
       "    .dataframe tbody tr th {\n",
       "        vertical-align: top;\n",
       "    }\n",
       "</style>\n",
       "<table border=\"1\" class=\"dataframe\">\n",
       "  <thead>\n",
       "    <tr style=\"text-align: right;\">\n",
       "      <th></th>\n",
       "      <th>Nome</th>\n",
       "      <th>Receita (bilhões)</th>\n",
       "      <th>Setor</th>\n",
       "      <th>lucro (bilhões)</th>\n",
       "    </tr>\n",
       "  </thead>\n",
       "  <tbody>\n",
       "    <tr>\n",
       "      <th>0</th>\n",
       "      <td>Apple</td>\n",
       "      <td>394.3</td>\n",
       "      <td>Tecnologia</td>\n",
       "      <td>99.8</td>\n",
       "    </tr>\n",
       "    <tr>\n",
       "      <th>1</th>\n",
       "      <td>Amazon</td>\n",
       "      <td>469.8</td>\n",
       "      <td>E-commerce</td>\n",
       "      <td>33.4</td>\n",
       "    </tr>\n",
       "    <tr>\n",
       "      <th>2</th>\n",
       "      <td>Tesla</td>\n",
       "      <td>81.5</td>\n",
       "      <td>Automobilístico</td>\n",
       "      <td>55.5</td>\n",
       "    </tr>\n",
       "  </tbody>\n",
       "</table>\n",
       "</div>"
      ],
      "text/plain": [
       "     Nome  Receita (bilhões)            Setor  lucro (bilhões)\n",
       "0   Apple              394.3       Tecnologia             99.8\n",
       "1  Amazon              469.8       E-commerce             33.4\n",
       "2   Tesla               81.5  Automobilístico             55.5"
      ]
     },
     "execution_count": 21,
     "metadata": {},
     "output_type": "execute_result"
    }
   ],
   "source": [
    "empresas['lucro (bilhões)'] = [99.8,33.4,55.5]\n",
    "empresas"
   ]
  },
  {
   "cell_type": "code",
   "execution_count": 36,
   "id": "5d4cbc28",
   "metadata": {},
   "outputs": [
    {
     "data": {
      "text/plain": [
       "0         Tecnologia\n",
       "1         E-commerce\n",
       "2    Automobilístico\n",
       "Name: Setor, dtype: object"
      ]
     },
     "execution_count": 36,
     "metadata": {},
     "output_type": "execute_result"
    }
   ],
   "source": [
    "empresas['Setor']\n",
    "empresas.loc[: 'Setor']\n",
    "empresas.iloc[:,2:3]"
   ]
  },
  {
   "cell_type": "code",
   "execution_count": 41,
   "id": "2843647f",
   "metadata": {},
   "outputs": [
    {
     "data": {
      "text/plain": [
       "Nome                     Amazon\n",
       "Receita (bilhões)         469.8\n",
       "Setor                E-commerce\n",
       "lucro (bilhões)            33.4\n",
       "Name: 1, dtype: object"
      ]
     },
     "execution_count": 41,
     "metadata": {},
     "output_type": "execute_result"
    }
   ],
   "source": [
    "empresas.loc[1]\n",
    "empresas.loc[1]"
   ]
  },
  {
   "cell_type": "code",
   "execution_count": 43,
   "id": "b4487fbb",
   "metadata": {},
   "outputs": [
    {
     "data": {
      "text/html": [
       "<div>\n",
       "<style>\n",
       "    .dataframe thead tr:only-child th {\n",
       "        text-align: right;\n",
       "    }\n",
       "\n",
       "    .dataframe thead th {\n",
       "        text-align: left;\n",
       "    }\n",
       "\n",
       "    .dataframe tbody tr th {\n",
       "        vertical-align: top;\n",
       "    }\n",
       "</style>\n",
       "<table border=\"1\" class=\"dataframe\">\n",
       "  <thead>\n",
       "    <tr style=\"text-align: right;\">\n",
       "      <th></th>\n",
       "      <th>Nome</th>\n",
       "      <th>Receita (bilhões)</th>\n",
       "      <th>Setor</th>\n",
       "      <th>lucro (bilhões)</th>\n",
       "    </tr>\n",
       "  </thead>\n",
       "  <tbody>\n",
       "    <tr>\n",
       "      <th>0</th>\n",
       "      <td>Apple</td>\n",
       "      <td>394.3</td>\n",
       "      <td>Tecnologia</td>\n",
       "      <td>99.8</td>\n",
       "    </tr>\n",
       "    <tr>\n",
       "      <th>1</th>\n",
       "      <td>Amazon</td>\n",
       "      <td>469.8</td>\n",
       "      <td>E-commerce</td>\n",
       "      <td>33.4</td>\n",
       "    </tr>\n",
       "  </tbody>\n",
       "</table>\n",
       "</div>"
      ],
      "text/plain": [
       "     Nome  Receita (bilhões)       Setor  lucro (bilhões)\n",
       "0   Apple              394.3  Tecnologia             99.8\n",
       "1  Amazon              469.8  E-commerce             33.4"
      ]
     },
     "execution_count": 43,
     "metadata": {},
     "output_type": "execute_result"
    }
   ],
   "source": [
    "empresas.iloc[0:2,:]"
   ]
  },
  {
   "cell_type": "code",
   "execution_count": 44,
   "id": "1416806e",
   "metadata": {},
   "outputs": [
    {
     "data": {
      "text/html": [
       "<div>\n",
       "<style>\n",
       "    .dataframe thead tr:only-child th {\n",
       "        text-align: right;\n",
       "    }\n",
       "\n",
       "    .dataframe thead th {\n",
       "        text-align: left;\n",
       "    }\n",
       "\n",
       "    .dataframe tbody tr th {\n",
       "        vertical-align: top;\n",
       "    }\n",
       "</style>\n",
       "<table border=\"1\" class=\"dataframe\">\n",
       "  <thead>\n",
       "    <tr style=\"text-align: right;\">\n",
       "      <th></th>\n",
       "      <th>Nome</th>\n",
       "      <th>Receita (bilhões)</th>\n",
       "      <th>Setor</th>\n",
       "      <th>lucro (bilhões)</th>\n",
       "    </tr>\n",
       "  </thead>\n",
       "  <tbody>\n",
       "    <tr>\n",
       "      <th>0</th>\n",
       "      <td>Apple</td>\n",
       "      <td>394.3</td>\n",
       "      <td>Tecnologia</td>\n",
       "      <td>99.8</td>\n",
       "    </tr>\n",
       "    <tr>\n",
       "      <th>1</th>\n",
       "      <td>Amazon</td>\n",
       "      <td>469.8</td>\n",
       "      <td>E-commerce</td>\n",
       "      <td>33.4</td>\n",
       "    </tr>\n",
       "    <tr>\n",
       "      <th>2</th>\n",
       "      <td>Tesla</td>\n",
       "      <td>81.5</td>\n",
       "      <td>Automobilístico</td>\n",
       "      <td>55.5</td>\n",
       "    </tr>\n",
       "  </tbody>\n",
       "</table>\n",
       "</div>"
      ],
      "text/plain": [
       "     Nome  Receita (bilhões)            Setor  lucro (bilhões)\n",
       "0   Apple              394.3       Tecnologia             99.8\n",
       "1  Amazon              469.8       E-commerce             33.4\n",
       "2   Tesla               81.5  Automobilístico             55.5"
      ]
     },
     "execution_count": 44,
     "metadata": {},
     "output_type": "execute_result"
    }
   ],
   "source": [
    "empresas"
   ]
  },
  {
   "cell_type": "code",
   "execution_count": 47,
   "id": "50653ffe",
   "metadata": {},
   "outputs": [
    {
     "data": {
      "text/plain": [
       "55.5"
      ]
     },
     "execution_count": 47,
     "metadata": {},
     "output_type": "execute_result"
    }
   ],
   "source": [
    "empresas.at['Tesla','lucro (bilhões)']\n",
    "empresas.iat[2, 3]"
   ]
  },
  {
   "cell_type": "code",
   "execution_count": 49,
   "id": "57078bfa",
   "metadata": {},
   "outputs": [
    {
     "data": {
      "text/html": [
       "<div>\n",
       "<style>\n",
       "    .dataframe thead tr:only-child th {\n",
       "        text-align: right;\n",
       "    }\n",
       "\n",
       "    .dataframe thead th {\n",
       "        text-align: left;\n",
       "    }\n",
       "\n",
       "    .dataframe tbody tr th {\n",
       "        vertical-align: top;\n",
       "    }\n",
       "</style>\n",
       "<table border=\"1\" class=\"dataframe\">\n",
       "  <thead>\n",
       "    <tr style=\"text-align: right;\">\n",
       "      <th></th>\n",
       "      <th>Receita (bilhões)</th>\n",
       "      <th>Setor</th>\n",
       "      <th>lucro (bilhões)</th>\n",
       "    </tr>\n",
       "    <tr>\n",
       "      <th>Nome</th>\n",
       "      <th></th>\n",
       "      <th></th>\n",
       "      <th></th>\n",
       "    </tr>\n",
       "  </thead>\n",
       "  <tbody>\n",
       "    <tr>\n",
       "      <th>Apple</th>\n",
       "      <td>394.3</td>\n",
       "      <td>Tecnologia</td>\n",
       "      <td>99.8</td>\n",
       "    </tr>\n",
       "    <tr>\n",
       "      <th>Amazon</th>\n",
       "      <td>469.8</td>\n",
       "      <td>E-commerce</td>\n",
       "      <td>33.4</td>\n",
       "    </tr>\n",
       "    <tr>\n",
       "      <th>Tesla</th>\n",
       "      <td>81.5</td>\n",
       "      <td>Automobilístico</td>\n",
       "      <td>55.5</td>\n",
       "    </tr>\n",
       "  </tbody>\n",
       "</table>\n",
       "</div>"
      ],
      "text/plain": [
       "        Receita (bilhões)            Setor  lucro (bilhões)\n",
       "Nome                                                       \n",
       "Apple               394.3       Tecnologia             99.8\n",
       "Amazon              469.8       E-commerce             33.4\n",
       "Tesla                81.5  Automobilístico             55.5"
      ]
     },
     "execution_count": 49,
     "metadata": {},
     "output_type": "execute_result"
    }
   ],
   "source": [
    "empresas.set_index('Nome')"
   ]
  },
  {
   "cell_type": "code",
   "execution_count": 59,
   "id": "e1ada8f0",
   "metadata": {},
   "outputs": [
    {
     "name": "stdout",
     "output_type": "stream",
     "text": [
      "Index(['Nome', 'Receita (bilhões)', 'Setor', 'lucro (bilhões)'], dtype='object')\n"
     ]
    }
   ],
   "source": [
    "print(empresas.columns)"
   ]
  },
  {
   "cell_type": "code",
   "execution_count": 62,
   "id": "ad048930",
   "metadata": {},
   "outputs": [
    {
     "data": {
      "text/plain": [
       "'Amazon'"
      ]
     },
     "execution_count": 62,
     "metadata": {},
     "output_type": "execute_result"
    }
   ],
   "source": [
    "receita_total = empresas['Receita (bilhões)'].sum()\n",
    "empresa_maior_receita = empresas.loc[empresas['Receita (bilhões)'].idxmax(),'Nome']\n"
   ]
  },
  {
   "cell_type": "code",
   "execution_count": 80,
   "id": "68746d1c",
   "metadata": {},
   "outputs": [
    {
     "data": {
      "text/plain": [
       "0    0.253107\n",
       "1    0.071094\n",
       "2    0.680982\n",
       "dtype: float64"
      ]
     },
     "execution_count": 80,
     "metadata": {},
     "output_type": "execute_result"
    }
   ],
   "source": [
    "Margem_de_Lucro = (empresas['lucro (bilhões)'] / empresas['Receita (bilhões)'])\n"
   ]
  },
  {
   "cell_type": "code",
   "execution_count": 70,
   "id": "28fb4ab8",
   "metadata": {},
   "outputs": [
    {
     "data": {
      "text/html": [
       "<div>\n",
       "<style>\n",
       "    .dataframe thead tr:only-child th {\n",
       "        text-align: right;\n",
       "    }\n",
       "\n",
       "    .dataframe thead th {\n",
       "        text-align: left;\n",
       "    }\n",
       "\n",
       "    .dataframe tbody tr th {\n",
       "        vertical-align: top;\n",
       "    }\n",
       "</style>\n",
       "<table border=\"1\" class=\"dataframe\">\n",
       "  <thead>\n",
       "    <tr style=\"text-align: right;\">\n",
       "      <th></th>\n",
       "      <th>Nome</th>\n",
       "      <th>Receita (bilhões)</th>\n",
       "      <th>Setor</th>\n",
       "      <th>lucro (bilhões)</th>\n",
       "      <th>Margem de Lucro</th>\n",
       "    </tr>\n",
       "  </thead>\n",
       "  <tbody>\n",
       "    <tr>\n",
       "      <th>0</th>\n",
       "      <td>Apple</td>\n",
       "      <td>394.3</td>\n",
       "      <td>Tecnologia</td>\n",
       "      <td>99.8</td>\n",
       "      <td>0.253107</td>\n",
       "    </tr>\n",
       "  </tbody>\n",
       "</table>\n",
       "</div>"
      ],
      "text/plain": [
       "    Nome  Receita (bilhões)       Setor  lucro (bilhões)  Margem de Lucro\n",
       "0  Apple              394.3  Tecnologia             99.8         0.253107"
      ]
     },
     "execution_count": 70,
     "metadata": {},
     "output_type": "execute_result"
    }
   ],
   "source": [
    "empresas_tec = empresas[empresas['Setor']== 'Tecnologia'] \n",
    "empresas_tec"
   ]
  },
  {
   "cell_type": "code",
   "execution_count": 71,
   "id": "b0aa31c0",
   "metadata": {},
   "outputs": [
    {
     "data": {
      "text/html": [
       "<div>\n",
       "<style>\n",
       "    .dataframe thead tr:only-child th {\n",
       "        text-align: right;\n",
       "    }\n",
       "\n",
       "    .dataframe thead th {\n",
       "        text-align: left;\n",
       "    }\n",
       "\n",
       "    .dataframe tbody tr th {\n",
       "        vertical-align: top;\n",
       "    }\n",
       "</style>\n",
       "<table border=\"1\" class=\"dataframe\">\n",
       "  <thead>\n",
       "    <tr style=\"text-align: right;\">\n",
       "      <th></th>\n",
       "      <th>Nome</th>\n",
       "      <th>Receita (bilhões)</th>\n",
       "      <th>Setor</th>\n",
       "      <th>lucro (bilhões)</th>\n",
       "      <th>Margem de Lucro</th>\n",
       "    </tr>\n",
       "  </thead>\n",
       "  <tbody>\n",
       "    <tr>\n",
       "      <th>0</th>\n",
       "      <td>Apple</td>\n",
       "      <td>394.3</td>\n",
       "      <td>Tecnologia</td>\n",
       "      <td>99.8</td>\n",
       "      <td>0.253107</td>\n",
       "    </tr>\n",
       "    <tr>\n",
       "      <th>2</th>\n",
       "      <td>Tesla</td>\n",
       "      <td>81.5</td>\n",
       "      <td>Automobilístico</td>\n",
       "      <td>55.5</td>\n",
       "      <td>0.680982</td>\n",
       "    </tr>\n",
       "  </tbody>\n",
       "</table>\n",
       "</div>"
      ],
      "text/plain": [
       "    Nome  Receita (bilhões)            Setor  lucro (bilhões)  Margem de Lucro\n",
       "0  Apple              394.3       Tecnologia             99.8         0.253107\n",
       "2  Tesla               81.5  Automobilístico             55.5         0.680982"
      ]
     },
     "execution_count": 71,
     "metadata": {},
     "output_type": "execute_result"
    }
   ],
   "source": [
    "Empresas_lucrativas = (empresas[empresas['lucro (bilhões)']> 50.0])\n",
    "Empresas_lucrativas"
   ]
  },
  {
   "cell_type": "code",
   "execution_count": 78,
   "id": "af7c58f7",
   "metadata": {},
   "outputs": [
    {
     "data": {
      "text/html": [
       "<div>\n",
       "<style>\n",
       "    .dataframe thead tr:only-child th {\n",
       "        text-align: right;\n",
       "    }\n",
       "\n",
       "    .dataframe thead th {\n",
       "        text-align: left;\n",
       "    }\n",
       "\n",
       "    .dataframe tbody tr th {\n",
       "        vertical-align: top;\n",
       "    }\n",
       "</style>\n",
       "<table border=\"1\" class=\"dataframe\">\n",
       "  <thead>\n",
       "    <tr style=\"text-align: right;\">\n",
       "      <th></th>\n",
       "      <th>Nome</th>\n",
       "      <th>Receita (bilhões)</th>\n",
       "      <th>Setor</th>\n",
       "      <th>lucro (bilhões)</th>\n",
       "      <th>Margem de Lucro</th>\n",
       "    </tr>\n",
       "  </thead>\n",
       "  <tbody>\n",
       "    <tr>\n",
       "      <th>0</th>\n",
       "      <td>Apple</td>\n",
       "      <td>394.3</td>\n",
       "      <td>Tecnologia</td>\n",
       "      <td>99.8</td>\n",
       "      <td>0.253107</td>\n",
       "    </tr>\n",
       "  </tbody>\n",
       "</table>\n",
       "</div>"
      ],
      "text/plain": [
       "    Nome  Receita (bilhões)       Setor  lucro (bilhões)  Margem de Lucro\n",
       "0  Apple              394.3  Tecnologia             99.8         0.253107"
      ]
     },
     "execution_count": 78,
     "metadata": {},
     "output_type": "execute_result"
    }
   ],
   "source": [
    "empresas_tecnologia_poderosa = empresas[(empresas[\"Setor\"] == \"Tecnologia\") & (empresas[\"Receita (bilhões)\"] > 250)]\n",
    "empresas_tecnologia_poderosa"
   ]
  },
  {
   "cell_type": "code",
   "execution_count": null,
   "id": "c58da777",
   "metadata": {},
   "outputs": [],
   "source": []
  }
 ],
 "metadata": {
  "kernelspec": {
   "display_name": "Python 3",
   "language": "python",
   "name": "python3"
  },
  "language_info": {
   "codemirror_mode": {
    "name": "ipython",
    "version": 3
   },
   "file_extension": ".py",
   "mimetype": "text/x-python",
   "name": "python",
   "nbconvert_exporter": "python",
   "pygments_lexer": "ipython3",
   "version": "3.6.3"
  }
 },
 "nbformat": 4,
 "nbformat_minor": 5
}
