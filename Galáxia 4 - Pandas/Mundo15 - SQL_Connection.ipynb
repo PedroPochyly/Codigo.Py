{
 "cells": [
  {
   "cell_type": "markdown",
   "id": "ea3f233e",
   "metadata": {},
   "source": [
    "# Mundo 15\n",
    "\n",
    "### Leitura e extração de dados"
   ]
  },
  {
   "cell_type": "code",
   "execution_count": 2,
   "id": "7fefb4d7",
   "metadata": {},
   "outputs": [],
   "source": [
    "import pandas as pd\n",
    "from sqlalchemy import create_engine\n",
    "from sqlalchemy.orm import declarative_base\n",
    "from sqlalchemy import Column, Integer, String"
   ]
  },
  {
   "cell_type": "code",
   "execution_count": null,
   "id": "dc9309eb",
   "metadata": {},
   "outputs": [],
   "source": [
    "user = \"root\"\n",
    "senha = \"1234\"\n",
    "banco_de_dados = \"edufinance_financeiro\"\n",
    "host = \"localhost\"\n",
    "porta = 3306\n",
    "    \n",
    "conexao = create_engine(url=f\"mysql+pymysql://{user}:{senha}@{host}:{porta}/{banco_de_dados}\")"
   ]
  },
  {
   "cell_type": "code",
   "execution_count": null,
   "id": "a9206726",
   "metadata": {},
   "outputs": [],
   "source": [
    "Banco_de_dados = declarative_base()\n",
    "\n",
    "class User(Banco_de_dados):\n",
    "\n",
    "    __tablename__ = 'price'\n",
    "\n",
    "    id = Column(Integer, primary_key=True, autoincrement=True)\n",
    "    empresas = Column(String(50))\n",
    "    cotacao = Column(Integer)\n",
    "\n",
    "\n",
    "Banco_de_dados.metadata.create_all(conexao)"
   ]
  },
  {
   "cell_type": "code",
   "execution_count": null,
   "id": "84ffd438",
   "metadata": {},
   "outputs": [],
   "source": [
    "#colocar dados na tabela com o pandas\n",
    "\n",
    "nome_tabela = 'price'\n",
    "df_teste = pd.DataFrame({\"empresas\": ['WEGE3', 'PCAR4', 'PETR4'],\n",
    "                       \"cotacao\": [20, 30, 40]}, index = pd.date_range(\"2022-01-01\", periods = 3))\n",
    "\n",
    "df_teste.to_sql(nome_tabela, conexao, index=False, if_exists='append')"
   ]
  },
  {
   "cell_type": "code",
   "execution_count": null,
   "id": "f12b6ba4",
   "metadata": {},
   "outputs": [],
   "source": [
    "#como ler dados do SQL com o pandas?\n",
    "\n",
    "nome_tabela = 'price'\n",
    "comando_sql = f\"SELECT * FROM {nome_tabela};\" #tem que saber SQL\n",
    "df = pd.read_sql(comando_sql,con=conexao)\n",
    "\n",
    "df"
   ]
  },
  {
   "cell_type": "markdown",
   "id": "a7f10497",
   "metadata": {},
   "source": [
    "# Mundo 16\n",
    "\n",
    "Ta, você já aprendeu a ler dados com o Pandas. Agora vamos aprender a limpar e preparar esses dados pras nossas análises, começando por tirar dados faltantes das nossas tabelas?"
   ]
  }
 ],
 "metadata": {
  "kernelspec": {
   "display_name": ".venv",
   "language": "python",
   "name": "python3"
  },
  "language_info": {
   "codemirror_mode": {
    "name": "ipython",
    "version": 3
   },
   "file_extension": ".py",
   "mimetype": "text/x-python",
   "name": "python",
   "nbconvert_exporter": "python",
   "pygments_lexer": "ipython3",
   "version": "3.13.2"
  }
 },
 "nbformat": 4,
 "nbformat_minor": 5
}
