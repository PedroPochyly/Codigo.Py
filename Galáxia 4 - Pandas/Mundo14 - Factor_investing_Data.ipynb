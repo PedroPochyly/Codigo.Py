{
 "cells": [
  {
   "cell_type": "markdown",
   "id": "3cf44811",
   "metadata": {},
   "source": [
    "# Mundo 14\n",
    "\n",
    "### Leitura e extração de dados"
   ]
  },
  {
   "cell_type": "code",
   "execution_count": 2,
   "id": "6d2b3fa0",
   "metadata": {},
   "outputs": [],
   "source": [
    "from pandas_datareader import data as pdr \n",
    "from datetime import datetime\n",
    "from pandas_datareader.famafrench import get_available_datasets"
   ]
  },
  {
   "cell_type": "markdown",
   "id": "1f5e3063",
   "metadata": {},
   "source": [
    "http://mba.tuck.dartmouth.edu/pages/faculty/ken.french/data_library.html"
   ]
  },
  {
   "cell_type": "code",
   "execution_count": null,
   "id": "f3481486",
   "metadata": {},
   "outputs": [],
   "source": [
    "get_available_datasets() "
   ]
  },
  {
   "cell_type": "code",
   "execution_count": null,
   "id": "90a468d3",
   "metadata": {},
   "outputs": [],
   "source": [
    "dados_factor_investing = pdr.get_data_famafrench('F-F_Research_Data_Factors', start = 1960)\n",
    "dados_factor_investing"
   ]
  },
  {
   "cell_type": "code",
   "execution_count": null,
   "id": "47d34f3b",
   "metadata": {},
   "outputs": [],
   "source": [
    "dados_factor_investing = pdr.get_data_famafrench('F-F_Research_Data_5_Factors_2x3', start = 1960)\n",
    "dados_factor_investing"
   ]
  },
  {
   "cell_type": "code",
   "execution_count": null,
   "id": "2c12141d",
   "metadata": {
    "scrolled": false
   },
   "outputs": [],
   "source": [
    "dados_factor_investing = pdr.get_data_famafrench('Portfolios_Formed_on_ME', start = 1960)\n",
    "dados_factor_investing"
   ]
  },
  {
   "cell_type": "markdown",
   "id": "47e1b024",
   "metadata": {},
   "source": [
    "# Exercícios\n",
    "\n",
    "Exercício 63: Puxe os dados dos 5 fatores em mercados emergentes desde 1989."
   ]
  },
  {
   "cell_type": "code",
   "execution_count": null,
   "id": "855dc818",
   "metadata": {},
   "outputs": [],
   "source": []
  },
  {
   "cell_type": "code",
   "execution_count": null,
   "id": "11a30fe0",
   "metadata": {},
   "outputs": [],
   "source": [
    "#gabarito 63\n",
    "\n",
    "dados_factor_investing = pdr.get_data_famafrench('Emerging_5_Factors', start = 1989)\n",
    "dados_factor_investing "
   ]
  },
  {
   "cell_type": "markdown",
   "id": "55c476fa",
   "metadata": {},
   "source": [
    "# Mundo 15\n",
    "\n",
    "Pra fechar nosso conteúdo sobre leitura de dados e extração de dados com o pandas, vamos aprender a integração que você usará muito na sua vida provavelmente: pandas e MySQL!"
   ]
  }
 ],
 "metadata": {
  "kernelspec": {
   "display_name": ".venv",
   "language": "python",
   "name": "python3"
  },
  "language_info": {
   "codemirror_mode": {
    "name": "ipython",
    "version": 3
   },
   "file_extension": ".py",
   "mimetype": "text/x-python",
   "name": "python",
   "nbconvert_exporter": "python",
   "pygments_lexer": "ipython3",
   "version": "3.13.2"
  }
 },
 "nbformat": 4,
 "nbformat_minor": 5
}
