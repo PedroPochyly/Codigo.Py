{
 "cells": [
  {
   "cell_type": "markdown",
   "id": "8f7338dd",
   "metadata": {},
   "source": [
    "# Mundo 10 - Gráfico de barras"
   ]
  },
  {
   "cell_type": "code",
   "execution_count": 1,
   "id": "ff6c6122",
   "metadata": {},
   "outputs": [
    {
     "name": "stdout",
     "output_type": "stream",
     "text": [
      "Collecting python-bcb\n",
      "  Downloading python_bcb-0.3.2-py3-none-any.whl.metadata (2.5 kB)\n",
      "Collecting httpx>=0.24.0 (from python-bcb)\n",
      "  Using cached httpx-0.28.1-py3-none-any.whl.metadata (7.1 kB)\n",
      "Requirement already satisfied: lxml>=4.9.2 in c:\\users\\joão felipe\\github\\codigo.py\\.venv\\lib\\site-packages (from python-bcb) (5.3.2)\n",
      "Requirement already satisfied: pandas>=2.0.0 in c:\\users\\joão felipe\\github\\codigo.py\\.venv\\lib\\site-packages (from python-bcb) (2.2.3)\n",
      "Requirement already satisfied: requests>=2.31.0 in c:\\users\\joão felipe\\github\\codigo.py\\.venv\\lib\\site-packages (from python-bcb) (2.32.3)\n",
      "Collecting anyio (from httpx>=0.24.0->python-bcb)\n",
      "  Using cached anyio-4.9.0-py3-none-any.whl.metadata (4.7 kB)\n",
      "Requirement already satisfied: certifi in c:\\users\\joão felipe\\github\\codigo.py\\.venv\\lib\\site-packages (from httpx>=0.24.0->python-bcb) (2025.1.31)\n",
      "Collecting httpcore==1.* (from httpx>=0.24.0->python-bcb)\n",
      "  Using cached httpcore-1.0.7-py3-none-any.whl.metadata (21 kB)\n",
      "Requirement already satisfied: idna in c:\\users\\joão felipe\\github\\codigo.py\\.venv\\lib\\site-packages (from httpx>=0.24.0->python-bcb) (3.10)\n",
      "Requirement already satisfied: h11<0.15,>=0.13 in c:\\users\\joão felipe\\github\\codigo.py\\.venv\\lib\\site-packages (from httpcore==1.*->httpx>=0.24.0->python-bcb) (0.14.0)\n",
      "Requirement already satisfied: numpy>=1.26.0 in c:\\users\\joão felipe\\github\\codigo.py\\.venv\\lib\\site-packages (from pandas>=2.0.0->python-bcb) (2.2.4)\n",
      "Requirement already satisfied: python-dateutil>=2.8.2 in c:\\users\\joão felipe\\github\\codigo.py\\.venv\\lib\\site-packages (from pandas>=2.0.0->python-bcb) (2.9.0.post0)\n",
      "Requirement already satisfied: pytz>=2020.1 in c:\\users\\joão felipe\\github\\codigo.py\\.venv\\lib\\site-packages (from pandas>=2.0.0->python-bcb) (2025.2)\n",
      "Requirement already satisfied: tzdata>=2022.7 in c:\\users\\joão felipe\\github\\codigo.py\\.venv\\lib\\site-packages (from pandas>=2.0.0->python-bcb) (2025.2)\n",
      "Requirement already satisfied: charset-normalizer<4,>=2 in c:\\users\\joão felipe\\github\\codigo.py\\.venv\\lib\\site-packages (from requests>=2.31.0->python-bcb) (3.4.1)\n",
      "Requirement already satisfied: urllib3<3,>=1.21.1 in c:\\users\\joão felipe\\github\\codigo.py\\.venv\\lib\\site-packages (from requests>=2.31.0->python-bcb) (2.3.0)\n",
      "Requirement already satisfied: six>=1.5 in c:\\users\\joão felipe\\github\\codigo.py\\.venv\\lib\\site-packages (from python-dateutil>=2.8.2->pandas>=2.0.0->python-bcb) (1.17.0)\n",
      "Requirement already satisfied: sniffio>=1.1 in c:\\users\\joão felipe\\github\\codigo.py\\.venv\\lib\\site-packages (from anyio->httpx>=0.24.0->python-bcb) (1.3.1)\n",
      "Downloading python_bcb-0.3.2-py3-none-any.whl (19 kB)\n",
      "Using cached httpx-0.28.1-py3-none-any.whl (73 kB)\n",
      "Using cached httpcore-1.0.7-py3-none-any.whl (78 kB)\n",
      "Using cached anyio-4.9.0-py3-none-any.whl (100 kB)\n",
      "Installing collected packages: httpcore, anyio, httpx, python-bcb\n",
      "Successfully installed anyio-4.9.0 httpcore-1.0.7 httpx-0.28.1 python-bcb-0.3.2\n"
     ]
    }
   ],
   "source": [
    "!pip install python-bcb"
   ]
  },
  {
   "cell_type": "code",
   "execution_count": 2,
   "id": "3c97a4b1",
   "metadata": {},
   "outputs": [],
   "source": [
    "import matplotlib.pyplot as plt\n",
    "import numpy as np\n",
    "import pandas as pd\n",
    "from bcb import sgs\n",
    "import matplotlib.ticker as mtick\n",
    "import matplotlib.dates as mdate\n",
    "from datetime import datetime\n",
    "from datetime import timedelta\n",
    "import yfinance as yf"
   ]
  },
  {
   "cell_type": "code",
   "execution_count": 3,
   "id": "318eb98c",
   "metadata": {},
   "outputs": [
    {
     "data": {
      "text/html": [
       "<div>\n",
       "<style scoped>\n",
       "    .dataframe tbody tr th:only-of-type {\n",
       "        vertical-align: middle;\n",
       "    }\n",
       "\n",
       "    .dataframe tbody tr th {\n",
       "        vertical-align: top;\n",
       "    }\n",
       "\n",
       "    .dataframe thead th {\n",
       "        text-align: right;\n",
       "    }\n",
       "</style>\n",
       "<table border=\"1\" class=\"dataframe\">\n",
       "  <thead>\n",
       "    <tr style=\"text-align: right;\">\n",
       "      <th></th>\n",
       "      <th>Weg</th>\n",
       "      <th>Petrobras</th>\n",
       "    </tr>\n",
       "  </thead>\n",
       "  <tbody>\n",
       "    <tr>\n",
       "      <th>1T</th>\n",
       "      <td>2000</td>\n",
       "      <td>150</td>\n",
       "    </tr>\n",
       "    <tr>\n",
       "      <th>2T</th>\n",
       "      <td>3000</td>\n",
       "      <td>6000</td>\n",
       "    </tr>\n",
       "    <tr>\n",
       "      <th>3T</th>\n",
       "      <td>5000</td>\n",
       "      <td>2000</td>\n",
       "    </tr>\n",
       "    <tr>\n",
       "      <th>4T</th>\n",
       "      <td>6000</td>\n",
       "      <td>10000</td>\n",
       "    </tr>\n",
       "  </tbody>\n",
       "</table>\n",
       "</div>"
      ],
      "text/plain": [
       "     Weg  Petrobras\n",
       "1T  2000        150\n",
       "2T  3000       6000\n",
       "3T  5000       2000\n",
       "4T  6000      10000"
      ]
     },
     "execution_count": 3,
     "metadata": {},
     "output_type": "execute_result"
    }
   ],
   "source": [
    "df_lucros = pd.DataFrame({\"Weg\": [2000, 3000, 5000, 6000],\n",
    "                         \"Petrobras\": [150, 6000, 2000, 10000]}, \n",
    "                        index = ['1T', '2T', '3T', '4T'])\n",
    "                         \n",
    "\n",
    "df_lucros"
   ]
  },
  {
   "cell_type": "code",
   "execution_count": 9,
   "id": "4fa71c04",
   "metadata": {
    "scrolled": false
   },
   "outputs": [
    {
     "data": {
      "text/plain": [
       "<matplotlib.legend.Legend at 0x2776a1ca350>"
      ]
     },
     "execution_count": 9,
     "metadata": {},
     "output_type": "execute_result"
    },
    {
     "data": {
      "image/png": "[encoded data removed]",
      "text/plain": [
       "<Figure size 640x480 with 1 Axes>"
      ]
     },
     "metadata": {},
     "output_type": "display_data"
    }
   ],
   "source": [
    "fig, ax = plt.subplots()\n",
    "\n",
    "ax.bar(df_lucros.index, df_lucros.Weg.values , label = \"Weg\", width=0.3, align='center')\n",
    "ax.bar(df_lucros.index, df_lucros.Petrobras.values, label = \"Petrobras\", width=0.3)\n",
    "# ax.bar(df_lucros.index, df_lucros.Petrobras.values, label = \"Petrobras\", width=0.3, \n",
    "#        bottom=df_lucros.Weg.values)\n",
    "ax.legend()\n",
    "\n"
   ]
  },
  {
   "cell_type": "code",
   "execution_count": 5,
   "id": "5763966e",
   "metadata": {},
   "outputs": [
    {
     "data": {
      "image/png": "[encoded data removed]",
      "text/plain": [
       "<Figure size 640x480 with 1 Axes>"
      ]
     },
     "metadata": {},
     "output_type": "display_data"
    }
   ],
   "source": [
    "#resolvendo sem stack\n",
    "\n",
    "fig, ax = plt.subplots()\n",
    "\n",
    "\n",
    "numero_de_trimestres = 4\n",
    "posicao_barras = np.arange(numero_de_trimestres)\n",
    "largura_barras = 0.3\n",
    "\n",
    "barras = ax.bar(posicao_barras, df_lucros.Weg.values , label = \"Weg\", width=largura_barras)\n",
    "barras2 = ax.bar(posicao_barras + largura_barras, df_lucros.Petrobras.values, label = \"Petrobras\", \n",
    "       width=largura_barras)\n",
    "plt.xticks(posicao_barras + largura_barras / 2, tuple(df_lucros.index))\n",
    "\n",
    "#adicionando legenda de números\n",
    "\n",
    "ax.bar_label(barras)#pode formatar com o argumento fmt\n",
    "ax.bar_label(barras2)\n",
    "\n",
    "plt.legend()\n",
    "\n",
    "plt.show()"
   ]
  },
  {
   "cell_type": "code",
   "execution_count": 10,
   "id": "2fdd237b",
   "metadata": {},
   "outputs": [
    {
     "data": {
      "text/html": [
       "<div>\n",
       "<style scoped>\n",
       "    .dataframe tbody tr th:only-of-type {\n",
       "        vertical-align: middle;\n",
       "    }\n",
       "\n",
       "    .dataframe tbody tr th {\n",
       "        vertical-align: top;\n",
       "    }\n",
       "\n",
       "    .dataframe thead th {\n",
       "        text-align: right;\n",
       "    }\n",
       "</style>\n",
       "<table border=\"1\" class=\"dataframe\">\n",
       "  <thead>\n",
       "    <tr style=\"text-align: right;\">\n",
       "      <th></th>\n",
       "      <th>ipca</th>\n",
       "      <th>igp-m</th>\n",
       "    </tr>\n",
       "    <tr>\n",
       "      <th>Date</th>\n",
       "      <th></th>\n",
       "      <th></th>\n",
       "    </tr>\n",
       "  </thead>\n",
       "  <tbody>\n",
       "    <tr>\n",
       "      <th>2024-10-01</th>\n",
       "      <td>0.56</td>\n",
       "      <td>1.52</td>\n",
       "    </tr>\n",
       "    <tr>\n",
       "      <th>2024-11-01</th>\n",
       "      <td>0.39</td>\n",
       "      <td>1.30</td>\n",
       "    </tr>\n",
       "    <tr>\n",
       "      <th>2024-12-01</th>\n",
       "      <td>0.52</td>\n",
       "      <td>0.94</td>\n",
       "    </tr>\n",
       "    <tr>\n",
       "      <th>2025-01-01</th>\n",
       "      <td>0.16</td>\n",
       "      <td>0.27</td>\n",
       "    </tr>\n",
       "    <tr>\n",
       "      <th>2025-02-01</th>\n",
       "      <td>1.31</td>\n",
       "      <td>1.06</td>\n",
       "    </tr>\n",
       "    <tr>\n",
       "      <th>2025-03-01</th>\n",
       "      <td>NaN</td>\n",
       "      <td>-0.34</td>\n",
       "    </tr>\n",
       "  </tbody>\n",
       "</table>\n",
       "</div>"
      ],
      "text/plain": [
       "            ipca  igp-m\n",
       "Date                   \n",
       "2024-10-01  0.56   1.52\n",
       "2024-11-01  0.39   1.30\n",
       "2024-12-01  0.52   0.94\n",
       "2025-01-01  0.16   0.27\n",
       "2025-02-01  1.31   1.06\n",
       "2025-03-01   NaN  -0.34"
      ]
     },
     "execution_count": 10,
     "metadata": {},
     "output_type": "execute_result"
    }
   ],
   "source": [
    "# Busca a série do IPCA e IGP-M\n",
    "inflacao = sgs.get({'ipca': 433,\n",
    "             'igp-m': 189}, start = datetime.now() - timedelta(days = 180))\n",
    "\n",
    "inflacao"
   ]
  },
  {
   "cell_type": "code",
   "execution_count": 11,
   "id": "3a642f7a",
   "metadata": {},
   "outputs": [
    {
     "data": {
      "image/png": "[encoded data removed]",
      "text/plain": [
       "<Figure size 640x480 with 1 Axes>"
      ]
     },
     "metadata": {},
     "output_type": "display_data"
    }
   ],
   "source": [
    "datas_numericas = mdate.date2num(inflacao.index)\n",
    "\n",
    "fig, ax = plt.subplots()\n",
    "\n",
    "ax.bar(datas_numericas, inflacao['ipca'], label = \"IPCA\", width=7)\n",
    "ax.bar(datas_numericas - 7, inflacao['igp-m'], label = \"IGP-M\", width=7)\n",
    "ax.yaxis.set_major_formatter(mtick.PercentFormatter())\n",
    "myFmt = mdate.DateFormatter('%b-%Y')\n",
    "ax.xaxis.set_major_formatter(myFmt)\n",
    "ax.xaxis_date()\n",
    "\n",
    "plt.axhline(y = 0, color = \"black\")\n",
    "\n",
    "\n",
    "plt.legend()\n",
    "\n",
    "plt.show()"
   ]
  },
  {
   "cell_type": "markdown",
   "id": "67fe8245",
   "metadata": {},
   "source": [
    "# Exercícios \n",
    "\n",
    "* Exercício 102: Crie um gráfico de barras com o retorno acumulado da Ambev e do Ibovespa nos últimos 1, 3, 5 e 10 anos utilizando o estilo Cyberpunk."
   ]
  },
  {
   "cell_type": "code",
   "execution_count": null,
   "id": "89d599ab",
   "metadata": {},
   "outputs": [],
   "source": []
  },
  {
   "cell_type": "code",
   "execution_count": null,
   "id": "ef293504",
   "metadata": {},
   "outputs": [],
   "source": [
    "import mplcyberpunk\n",
    "plt.style.use(\"cyberpunk\")"
   ]
  },
  {
   "cell_type": "code",
   "execution_count": 12,
   "id": "718c9a8c",
   "metadata": {},
   "outputs": [
    {
     "name": "stdout",
     "output_type": "stream",
     "text": [
      "YF.download() has changed argument auto_adjust default to True\n"
     ]
    },
    {
     "name": "stderr",
     "output_type": "stream",
     "text": [
      "[*********************100%***********************]  2 of 2 completed\n",
      "C:\\Users\\João Felipe\\AppData\\Local\\Temp\\ipykernel_16016\\1172817721.py:5: FutureWarning: The default fill_method='pad' in DataFrame.pct_change is deprecated and will be removed in a future version. Either fill in any non-leading NA values prior to calling pct_change or specify 'fill_method=None' to not fill NA values.\n",
      "  retorno_1_ano = (cotacoes.pct_change(periods = 252).dropna()).iloc[-1, :]\n",
      "C:\\Users\\João Felipe\\AppData\\Local\\Temp\\ipykernel_16016\\1172817721.py:6: FutureWarning: The default fill_method='pad' in DataFrame.pct_change is deprecated and will be removed in a future version. Either fill in any non-leading NA values prior to calling pct_change or specify 'fill_method=None' to not fill NA values.\n",
      "  retorno_3_anos = (cotacoes.pct_change(periods = 252 * 3).dropna()).iloc[-1, :]\n",
      "C:\\Users\\João Felipe\\AppData\\Local\\Temp\\ipykernel_16016\\1172817721.py:7: FutureWarning: The default fill_method='pad' in DataFrame.pct_change is deprecated and will be removed in a future version. Either fill in any non-leading NA values prior to calling pct_change or specify 'fill_method=None' to not fill NA values.\n",
      "  retorno_5_anos = (cotacoes.pct_change(periods = 252 * 5).dropna()).iloc[-1, :]\n",
      "C:\\Users\\João Felipe\\AppData\\Local\\Temp\\ipykernel_16016\\1172817721.py:8: FutureWarning: The default fill_method='pad' in DataFrame.pct_change is deprecated and will be removed in a future version. Either fill in any non-leading NA values prior to calling pct_change or specify 'fill_method=None' to not fill NA values.\n",
      "  retorno_10_anos = (cotacoes.pct_change(periods = 252 * 10).dropna()).iloc[-1, :]\n"
     ]
    }
   ],
   "source": [
    "#gabarito 102\n",
    "\n",
    "cotacoes = yf.download([\"^BVSP\", \"ABEV3.SA\"], \"2010-01-01\")[\"Close\"]\n",
    "\n",
    "retorno_1_ano = (cotacoes.pct_change(periods = 252).dropna()).iloc[-1, :]\n",
    "retorno_3_anos = (cotacoes.pct_change(periods = 252 * 3).dropna()).iloc[-1, :]\n",
    "retorno_5_anos = (cotacoes.pct_change(periods = 252 * 5).dropna()).iloc[-1, :]\n",
    "retorno_10_anos = (cotacoes.pct_change(periods = 252 * 10).dropna()).iloc[-1, :]\n",
    "\n",
    "valores_ibov = np.array([retorno_1_ano.iloc[0], retorno_3_anos.iloc[0], retorno_5_anos.iloc[0], retorno_10_anos.iloc[0]]) * 100\n",
    "valores_abev = np.array([retorno_1_ano.iloc[1], retorno_3_anos.iloc[1], retorno_5_anos.iloc[1], retorno_10_anos.iloc[1]]) * 100\n",
    "\n"
   ]
  },
  {
   "cell_type": "code",
   "execution_count": 13,
   "id": "3b957c97",
   "metadata": {},
   "outputs": [
    {
     "data": {
      "image/png": "[encoded data removed]",
      "text/plain": [
       "<Figure size 900x500 with 1 Axes>"
      ]
     },
     "metadata": {},
     "output_type": "display_data"
    }
   ],
   "source": [
    "fig, ax = plt.subplots(figsize = (9, 5))\n",
    "\n",
    "\n",
    "numero_de_anos = 4\n",
    "posicao_barras = np.arange(numero_de_anos)\n",
    "largura_barras = 0.3\n",
    "\n",
    "barras = ax.bar(posicao_barras, valores_ibov , label = \"Ibovespa\", width=largura_barras)\n",
    "barras2 = ax.bar(posicao_barras + largura_barras, valores_abev, label = \"Ambev\", width=largura_barras)\n",
    "plt.xticks(posicao_barras + largura_barras / 2, (\"1 ano\", \"3 anos\", \"5 anos\", \"10 anos\"))\n",
    "ax.yaxis.set_major_formatter(mtick.PercentFormatter())\n",
    "\n",
    "#adicionando legenda de números\n",
    "\n",
    "ax.bar_label(barras, fmt = \"%.0f%%\")\n",
    "ax.bar_label(barras2, fmt = \"%.0f%%\")\n",
    "\n",
    "plt.legend()\n",
    "plt.title(\"Performance acumulada Ibov x ABEV3\")\n",
    "\n",
    "plt.show()"
   ]
  },
  {
   "cell_type": "markdown",
   "id": "212e8753",
   "metadata": {},
   "source": [
    "# Mundo 11\n",
    "\n",
    "Histogramas, dispersão e muito mais."
   ]
  }
 ],
 "metadata": {
  "kernelspec": {
   "display_name": ".venv",
   "language": "python",
   "name": "python3"
  },
  "language_info": {
   "codemirror_mode": {
    "name": "ipython",
    "version": 3
   },
   "file_extension": ".py",
   "mimetype": "text/x-python",
   "name": "python",
   "nbconvert_exporter": "python",
   "pygments_lexer": "ipython3",
   "version": "3.13.2"
  }
 },
 "nbformat": 4,
 "nbformat_minor": 5
}
