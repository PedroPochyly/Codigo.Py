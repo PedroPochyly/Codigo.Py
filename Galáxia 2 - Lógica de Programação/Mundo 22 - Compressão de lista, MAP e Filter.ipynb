{
 "cells": [
  {
   "cell_type": "markdown",
   "id": "6b6071ff",
   "metadata": {},
   "source": [
    "# Mundo 22"
   ]
  },
  {
   "cell_type": "code",
   "execution_count": 3,
   "id": "40e722f8",
   "metadata": {},
   "outputs": [],
   "source": [
    "#vamos supor que você tem uma lista\n",
    "\n",
    "lista_codigos_negociacao = ['WEGE3', 'PETR4', 'PETR3', 'PCAR3', 'ALPA4']\n",
    "\n",
    "#como selecionar todos os itens da lista que são ON? \n"
   ]
  },
  {
   "cell_type": "code",
   "execution_count": 4,
   "id": "db081958",
   "metadata": {},
   "outputs": [
    {
     "name": "stdout",
     "output_type": "stream",
     "text": [
      "['WEGE3', 'PETR3', 'PCAR3']\n"
     ]
    }
   ],
   "source": [
    "nova_lista_codigos = []\n",
    "\n",
    "for ticker in lista_codigos_negociacao:\n",
    "\n",
    "    if \"3\" in ticker:\n",
    "\n",
    "        nova_lista_codigos.append(ticker)\n",
    "        \n",
    "\n",
    "print(nova_lista_codigos)"
   ]
  },
  {
   "cell_type": "code",
   "execution_count": 5,
   "id": "f8e08d08",
   "metadata": {},
   "outputs": [
    {
     "name": "stdout",
     "output_type": "stream",
     "text": [
      "['WEGE3', 'PETR3', 'PCAR3']\n"
     ]
    }
   ],
   "source": [
    "# List comprehssion\n",
    "nova_lista_codigos = [ticker for ticker in lista_codigos_negociacao if \"3\" in ticker]\n",
    "\n",
    " print(nova_lista_codigos)"
   ]
  },
  {
   "cell_type": "markdown",
   "id": "560d934d",
   "metadata": {},
   "source": [
    "# Estrutura\n",
    " \n",
    "Ação -> for loop -> condição (se necessário)"
   ]
  },
  {
   "cell_type": "code",
   "execution_count": 6,
   "id": "6e9e5a23",
   "metadata": {},
   "outputs": [
    {
     "name": "stdout",
     "output_type": "stream",
     "text": [
      "['wege3', 'petr3', 'pcar3']\n",
      "['wege3', 'petr4', 'petr3', 'pcar3', 'alpa4']\n"
     ]
    }
   ],
   "source": [
    "#Como deixar todos os códigos em letra minúscula?\n",
    "\n",
    "minusculo_on = [ticker.lower() for ticker in lista_codigos_negociacao if \"3\" in ticker]\n",
    "minusculo_todos = [ticker.lower() for ticker in lista_codigos_negociacao]\n",
    "\n",
    "print(minusculo_on)\n",
    "print(minusculo_todos)\n",
    "\n",
    "#use com sabedoria sempre que você precisar de uma lista a partir de um outro objeto, \n",
    "#que pode ou não ser uma lista."
   ]
  },
  {
   "cell_type": "code",
   "execution_count": 7,
   "id": "0f12714d",
   "metadata": {},
   "outputs": [
    {
     "data": {
      "text/plain": [
       "['PETR4', 'PETR3', 'ALPA4']"
      ]
     },
     "execution_count": 7,
     "metadata": {},
     "output_type": "execute_result"
    }
   ],
   "source": [
    "#filter é uma opção pra filtrar listas\n",
    "\n",
    "lista_codigos_negociacao = ['WEGE3', 'PETR4', 'PETR3', 'PCAR3', 'ALPA4']\n",
    "\n",
    "lista_restrita = ['WEGE3', 'PCAR3']\n",
    "\n",
    "nova_lista_codigos = list(filter(lambda ticker: ticker not in lista_restrita, lista_codigos_negociacao))\n",
    "\n",
    "nova_lista_codigos"
   ]
  },
  {
   "cell_type": "code",
   "execution_count": 8,
   "id": "c9969ebd",
   "metadata": {},
   "outputs": [
    {
     "name": "stdout",
     "output_type": "stream",
     "text": [
      "['9', '8', '3', '4']\n"
     ]
    }
   ],
   "source": [
    "#comando map serve pra aplicar alguma função a todos os elementos da lista\n",
    "\n",
    "lista_numeros = [9, 8, 3, 4]\n",
    "\n",
    "#converter todos os numeros pra string\n",
    "\n",
    "lista_string_numeros = list(map(lambda x: str(x), lista_numeros))\n",
    "\n",
    "print(lista_string_numeros)"
   ]
  },
  {
   "cell_type": "code",
   "execution_count": 9,
   "id": "295cceed",
   "metadata": {},
   "outputs": [
    {
     "name": "stdout",
     "output_type": "stream",
     "text": [
      "[11, 10, 5, 6]\n"
     ]
    }
   ],
   "source": [
    "#somar dois a todos os numeros\n",
    "\n",
    "lista_somado_dois = list(map(lambda x: x + 2, lista_numeros))\n",
    "\n",
    "print(lista_somado_dois)"
   ]
  },
  {
   "cell_type": "markdown",
   "id": "d6769546",
   "metadata": {},
   "source": [
    "# Desafios\n",
    "\n",
    "* Exercício 25: Crie um programa que filtre a lista [2, 4, 5, 6, 10] apenas para números acima de 5.\n",
    "\n",
    "\n",
    "* Exercício 26: Crie um programa que converta a lista [2, 4, 5, 6, 10] para tipo float.\n",
    "\n",
    "\n",
    "* Exercício 27: Crie um programa que selecione na lista ['WEGE3', 'PETR4', 'PETR3', 'PCAR3', 'ALPA4'] todos os tickers que começam com P."
   ]
  },
  {
   "cell_type": "code",
   "execution_count": 6,
   "id": "442af11c",
   "metadata": {},
   "outputs": [
    {
     "name": "stdout",
     "output_type": "stream",
     "text": [
      "[5, 6, 10]\n"
     ]
    }
   ],
   "source": [
    "#25\n",
    "lista_normal = [2,4,5,6,10]\n",
    "\n",
    "nova_lista = list(filter(lambda x: x >=5, lista_normal))\n",
    "\n",
    "print(nova_lista)\n",
    "\n"
   ]
  },
  {
   "cell_type": "code",
   "execution_count": 39,
   "id": "965de282",
   "metadata": {},
   "outputs": [
    {
     "name": "stdout",
     "output_type": "stream",
     "text": [
      "[2.0, 4.0, 5.0, 6.0, 10.0]\n"
     ]
    }
   ],
   "source": [
    "#26\n",
    "lista_normal2 = [2,4,5,6,10]\n",
    "\n",
    "nova_lista2 = list(map(lambda x: float(x),lista_normal2))\n",
    "\n",
    "print(nova_lista2)"
   ]
  },
  {
   "cell_type": "code",
   "execution_count": 27,
   "id": "46ff8851",
   "metadata": {},
   "outputs": [
    {
     "name": "stdout",
     "output_type": "stream",
     "text": [
      "['2', '4', '5', '6', '10']\n"
     ]
    }
   ],
   "source": [
    "# forma de fazer o exercício 26 sem usar compressão de lista\n",
    "nova_lista =[]\n",
    "lista_normal3 = [2,4,5,6,10]\n",
    "\n",
    "for num in lista_normal3:\n",
    "        x = str(num)\n",
    "        nova_lista.append(x)\n",
    "\n",
    "print(nova_lista)"
   ]
  },
  {
   "cell_type": "code",
   "execution_count": 40,
   "id": "3dab2f1c",
   "metadata": {},
   "outputs": [
    {
     "name": "stdout",
     "output_type": "stream",
     "text": [
      "['PETR4', 'PETR3', 'PCAR3']\n",
      "['PETR4', 'PETR3', 'PCAR3']\n",
      "['PETR4', 'PETR3', 'PCAR3']\n"
     ]
    }
   ],
   "source": [
    "# 27\n",
    "lista_nova10 = []\n",
    "lista_empresas = ['WEGE3', 'PETR4', 'PETR3', 'PCAR3', 'ALPA4']\n",
    "\n",
    "#metodo 1 - filter + Lambda\n",
    "nova_lista = list(filter(lambda x: x.startswith('P'), lista_empresas))\n",
    "\n",
    "#metodo 2 - Compressão de Lista\n",
    "nova_lista11 = [emp for emp in lista_empresas if emp.startswith('P')]\n",
    "\n",
    "print(nova_lista) \n",
    "print(nova_lista11) \n",
    "\n",
    "#metodo 3 - usado for e dando append na lista vazia criada anterirmente => método menos recomendado\n",
    "for emp in lista_empresas:\n",
    "    if emp.startswith('P'):\n",
    "        lista_nova10.append(emp)\n",
    "print(lista_nova10)\n",
    "    \n",
    "\n"
   ]
  },
  {
   "cell_type": "markdown",
   "id": "aecd6815",
   "metadata": {},
   "source": [
    "# Mundo 23\n",
    "\n",
    "Na próxima aula, nós vamos finalmente fechar nossa galáxia 2 vendo um último assunto básico: como lidar com datas no Python? Te vejo lá!"
   ]
  },
  {
   "cell_type": "code",
   "execution_count": null,
   "id": "771719d4",
   "metadata": {},
   "outputs": [],
   "source": []
  },
  {
   "cell_type": "code",
   "execution_count": null,
   "id": "fbd1f78f",
   "metadata": {},
   "outputs": [],
   "source": []
  },
  {
   "cell_type": "code",
   "execution_count": null,
   "id": "12e12c89",
   "metadata": {},
   "outputs": [],
   "source": []
  },
  {
   "cell_type": "code",
   "execution_count": null,
   "id": "709f9796",
   "metadata": {},
   "outputs": [],
   "source": []
  }
 ],
 "metadata": {
  "kernelspec": {
   "display_name": "Python 3",
   "language": "python",
   "name": "python3"
  },
  "language_info": {
   "codemirror_mode": {
    "name": "ipython",
    "version": 3
   },
   "file_extension": ".py",
   "mimetype": "text/x-python",
   "name": "python",
   "nbconvert_exporter": "python",
   "pygments_lexer": "ipython3",
   "version": "3.6.3"
  }
 },
 "nbformat": 4,
 "nbformat_minor": 5
}
