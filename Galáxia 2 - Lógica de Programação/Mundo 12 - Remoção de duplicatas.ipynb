{
 "cells": [
  {
   "cell_type": "code",
   "execution_count": null,
   "metadata": {},
   "outputs": [],
   "source": [
    "# Como remover duplicatas no python?"
   ]
  },
  {
   "cell_type": "code",
   "execution_count": 4,
   "metadata": {},
   "outputs": [
    {
     "name": "stdout",
     "output_type": "stream",
     "text": [
      "{'weg', 'c&a', 'slc agricola', 'renner'}\n"
     ]
    }
   ],
   "source": [
    "set_test = {'weg', 'renner', 'c&a', 'slc agricola'}\n",
    "set_numero = {1, 4, 5, 8}\n",
    "print(set_test)"
   ]
  },
  {
   "cell_type": "code",
   "execution_count": 3,
   "metadata": {},
   "outputs": [
    {
     "name": "stdout",
     "output_type": "stream",
     "text": [
      "['weg', 'renner']\n"
     ]
    }
   ],
   "source": [
    "#removendo duplicatas\n",
    "lista_duplicada = {'renner', 'renner', 'weg', 'weg'}\n",
    "\n",
    "lista_unica = list(set(lista_duplicada)) #transformei a lista primeiro em \"set\" e depois em \"list\" para remover duplicatas\n",
    "\n",
    "print(lista_unica)"
   ]
  },
  {
   "cell_type": "code",
   "execution_count": 6,
   "metadata": {},
   "outputs": [
    {
     "name": "stdout",
     "output_type": "stream",
     "text": [
      "{1, 4, 5, 8, 10}\n",
      "{1, 4, 5, 8, 10, 20, 25, 60}\n"
     ]
    }
   ],
   "source": [
    "#adicionando elementos ao set\n",
    "\n",
    "set_numero.add(10) #adicionar um elemento\n",
    "\n",
    "print(set_numero)\n",
    "\n",
    "set_numero.update([20, 25, 60]) #adicionar multiplos elementos\n",
    "\n",
    "print(set_numero)"
   ]
  },
  {
   "cell_type": "code",
   "execution_count": 10,
   "metadata": {},
   "outputs": [],
   "source": [
    "# união, interseção, diferença e dif simetrica\n",
    "\n",
    "meu_set = {1, 2, 3, 4, 5, 6}\n",
    "meu_set_2 = {1, 4, 5, 6, 8, 11, 12}"
   ]
  },
  {
   "cell_type": "code",
   "execution_count": 11,
   "metadata": {},
   "outputs": [
    {
     "name": "stdout",
     "output_type": "stream",
     "text": [
      "{1, 2, 3, 4, 5, 6, 8, 11, 12}\n"
     ]
    }
   ],
   "source": [
    "#união\n",
    "\n",
    "uniao = meu_set.union(meu_set_2)\n",
    "\n",
    "print(uniao)"
   ]
  },
  {
   "cell_type": "code",
   "execution_count": 12,
   "metadata": {},
   "outputs": [
    {
     "name": "stdout",
     "output_type": "stream",
     "text": [
      "{1, 4, 5, 6}\n"
     ]
    }
   ],
   "source": [
    "#interseção\n",
    "\n",
    "inter = meu_set.intersection(meu_set_2)\n",
    "\n",
    "print(inter)"
   ]
  },
  {
   "cell_type": "code",
   "execution_count": 14,
   "metadata": {},
   "outputs": [
    {
     "name": "stdout",
     "output_type": "stream",
     "text": [
      "{2, 3}\n",
      "{8, 11, 12}\n"
     ]
    }
   ],
   "source": [
    "#Diferença - só estar presente no set 1\n",
    "\n",
    "diferença = meu_set.difference(meu_set_2)\n",
    "\n",
    "print(diferença)\n",
    "\n",
    "#Diferença - só estar presente no set 2\n",
    "\n",
    "diferença = meu_set_2.difference(meu_set)\n",
    "\n",
    "print(diferença)"
   ]
  },
  {
   "cell_type": "code",
   "execution_count": 16,
   "metadata": {},
   "outputs": [
    {
     "name": "stdin",
     "output_type": "stream",
     "text": [
      "digite aqui o seu nome a\n",
      "Digite uma empresa da sua primeira carteira b\n",
      "Digite uma empresa da sua primeira carteira c\n",
      "Digite uma empresa da sua primeira carteira c\n",
      "Digite uma empresa da sua segunda carteira d\n",
      "Digite uma empresa da sua segunda carteira e\n",
      "Digite uma empresa da sua segunda carteira c\n"
     ]
    },
    {
     "ename": "AttributeError",
     "evalue": "'list' object has no attribute 'intersection'",
     "output_type": "error",
     "traceback": [
      "\u001b[1;31m---------------------------------------------------------------------------\u001b[0m",
      "\u001b[1;31mAttributeError\u001b[0m                            Traceback (most recent call last)",
      "Cell \u001b[1;32mIn[16], line 16\u001b[0m\n\u001b[0;32m     12\u001b[0m carteira2_3 \u001b[38;5;241m=\u001b[39m \u001b[38;5;28mstr\u001b[39m(\u001b[38;5;28minput\u001b[39m(\u001b[38;5;124m'\u001b[39m\u001b[38;5;124mDigite uma empresa da sua segunda carteira\u001b[39m\u001b[38;5;124m'\u001b[39m))\n\u001b[0;32m     14\u001b[0m carteira2 \u001b[38;5;241m=\u001b[39m [carteira2_1, carteira2_2, carteira2_3]\n\u001b[1;32m---> 16\u001b[0m intersecção \u001b[38;5;241m=\u001b[39m carteira1\u001b[38;5;241m.\u001b[39mintersection(carteira2)\n",
      "\u001b[1;31mAttributeError\u001b[0m: 'list' object has no attribute 'intersection'"
     ]
    }
   ],
   "source": [
    "#Desafio 13\n",
    "nome = input('digite aqui o seu nome')\n",
    "\n",
    "carteira1_1 = str(input('Digite uma empresa da sua primeira carteira'))\n",
    "carteira1_2 = str(input('Digite uma empresa da sua primeira carteira'))\n",
    "carteira1_3 = str(input('Digite uma empresa da sua primeira carteira'))\n",
    "\n",
    "carteira1 = [carteira1_1, carteira1_2, carteira1_3]\n",
    "\n",
    "carteira2_1 = str(input('Digite uma empresa da sua segunda carteira'))\n",
    "carteira2_2 = str(input('Digite uma empresa da sua segunda carteira'))\n",
    "carteira2_3 = str(input('Digite uma empresa da sua segunda carteira'))\n",
    "\n",
    "carteira2 = [carteira2_1, carteira2_2, carteira2_3]\n",
    "\n",
    "intersecção = carteira1.intersection(carteira2)"
   ]
  },
  {
   "cell_type": "code",
   "execution_count": null,
   "metadata": {},
   "outputs": [],
   "source": []
  }
 ],
 "metadata": {
  "kernelspec": {
   "display_name": "Python 3 (ipykernel)",
   "language": "python",
   "name": "python3"
  },
  "language_info": {
   "codemirror_mode": {
    "name": "ipython",
    "version": 3
   },
   "file_extension": ".py",
   "mimetype": "text/x-python",
   "name": "python",
   "nbconvert_exporter": "python",
   "pygments_lexer": "ipython3",
   "version": "3.12.4"
  }
 },
 "nbformat": 4,
 "nbformat_minor": 4
}
