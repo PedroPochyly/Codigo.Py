{
 "cells": [
  {
   "cell_type": "code",
   "execution_count": 33,
   "id": "6dc2b699-a42d-41e8-a27a-b9431911f425",
   "metadata": {},
   "outputs": [
    {
     "name": "stdin",
     "output_type": "stream",
     "text": [
      "Qual é o tempo hoje?  chuvoso\n",
      "Qual é a temperatura hoje? (em celcius)  20\n"
     ]
    },
    {
     "name": "stdout",
     "output_type": "stream",
     "text": [
      "levar casaco na mochila\n"
     ]
    }
   ],
   "source": [
    "# Condições dentro do python\n",
    "\n",
    "# if - condição de 'se'\n",
    "# elif - outra condição de 'se'\n",
    "\n",
    "tempo_input = str(input('Qual é o tempo hoje? '))\n",
    "\n",
    "temperatura_input = int(input('Qual é a temperatura hoje? (em celcius) '))\n",
    "\n",
    "tempo_tratado = tempo_input.upper() #tratando os dados\n",
    "\n",
    "tempo_sol = ['SOL', 'ENSOLARADO', 'LIMPO']\n",
    "tempo_frio = ['CHUVA', 'NUBLADO', 'GAROA', 'CHUVOSO']\n",
    "\n",
    "if tempo_tratado in tempo_sol and temperatura_input > 20:\n",
    "    print('Pegar camisa')\n",
    "\n",
    "elif tempo_tratado in tempo_frio and temperatura_input < 20:\n",
    "    print('Pegar casaco')\n",
    "    \n",
    "elif tempo_tratado in tempo_frio and temperatura_input > 20:\n",
    "    print('Pegar Capa de Chuva')\n",
    "\n",
    "elif tempo_tratado in tempo_sol and temperatura_input < 20:\n",
    "    print('Pegar camisa longa')\n",
    "\n",
    "    \n",
    "else:\n",
    "    print('levar casaco na mochila')\n"
   ]
  },
  {
   "cell_type": "code",
   "execution_count": null,
   "id": "ae032478-938a-4493-b576-4056bbce6ca9",
   "metadata": {},
   "outputs": [],
   "source": [
    "# Lista de dicionários com os dados das empresas\n",
    "empresas = [\n",
    "    {\n",
    "        \"Ticker\": \"WEGE3\",\n",
    "        \"Lucro\": 1760,\n",
    "        \"Segmento de listagem\": \"Novo mercado\",\n",
    "        \"ROE\": 6.20\n",
    "    },\n",
    "    {\n",
    "        \"Ticker\": \"VALE3\",\n",
    "        \"Lucro\": 21700,\n",
    "        \"Segmento de listagem\": \"Novo mercado\",\n",
    "        \"ROE\": 0.19\n",
    "    },\n",
    "    {\n",
    "        \"Ticker\": [\"PETR3\", \"PETR4\"],\n",
    "        \"Lucro\": 6700,\n",
    "        \"Segmento de listagem\": \"Nível 2\",\n",
    "        \"ROE\": 9.02\n",
    "    },\n",
    "    {\n",
    "        \"Ticker\": \"TRNQ3\",\n",
    "        \"Lucro\": -29000,\n",
    "        \"Segmento de listagem\": \"Tradicional\",\n",
    "        \"ROE\": 6.15\n",
    "    }\n",
    "]\n"
   ]
  },
  {
   "cell_type": "code",
   "execution_count": null,
   "id": "971aba7c-85d1-400d-acd1-77b564ec71e9",
   "metadata": {},
   "outputs": [],
   "source": [
    "empresa_escolhida = str(input('escolha uma empresa entre Weg, Vale e Patrobrás')).upper()"
   ]
  },
  {
   "cell_type": "code",
   "execution_count": 17,
   "id": "49833f71-bd92-4203-b78c-9c21101ac394",
   "metadata": {},
   "outputs": [
    {
     "name": "stdin",
     "output_type": "stream",
     "text": [
      "Digite o ticker da empresa:  wege3\n"
     ]
    },
    {
     "name": "stdout",
     "output_type": "stream",
     "text": [
      "O lucro da WEGE3 é R$1760, e o ROE da empresa é: 6%\n"
     ]
    }
   ],
   "source": [
    "# Dicionários das empresas com seus dados\n",
    "empresas = {\n",
    "    \"WEGE3\": {\"Lucro\": 1760, \"ROE\": 0.062},\n",
    "    \"VALE3\": {\"Lucro\": 21700, \"ROE\": 0.19},\n",
    "    \"PETR3\": {\"Lucro\": 6700, \"ROE\": 0.0902},\n",
    "    \"PETR4\": {\"Lucro\": 6700, \"ROE\": 0.0902},\n",
    "    \"TRNQ3\": {\"Lucro\": -29000, \"ROE\": 0.0615}\n",
    "}\n",
    "\n",
    "# Empresa escolhida pelo usuário\n",
    "empresa_escolhida = input(\"Digite o ticker da empresa: \").upper()\n",
    "\n",
    "if empresa_escolhida in empresas:\n",
    "    empresa = empresas[empresa_escolhida]\n",
    "    formatação_roe = '{:.0%}'.format(empresa['ROE'])\n",
    "    print(f'O lucro da {empresa_escolhida} é R${empresa[\"Lucro\"]}, e o ROE da empresa é: {formatação_roe}')\n",
    "else:\n",
    "    print('A empresa digitada não está em nosso banco de dados!')\n"
   ]
  },
  {
   "cell_type": "code",
   "execution_count": 24,
   "id": "b40118b2-c686-4501-8516-3739c6dafb1d",
   "metadata": {},
   "outputs": [
    {
     "name": "stdin",
     "output_type": "stream",
     "text": [
      "digite um ticker de uma empresa 4\n"
     ]
    },
    {
     "name": "stdout",
     "output_type": "stream",
     "text": [
      "a empresa 4 é uma PN\n"
     ]
    }
   ],
   "source": [
    "# Desafio 18\n",
    "empresa_escolhida = str(input('digite um ticker de uma empresa').upper())\n",
    "\n",
    "if empresa_escolhida[-1] == '3':\n",
    "    \n",
    "    print(f'a empresa {empresa_escolhida} é uma ON')\n",
    "\n",
    "elif empresa_escolhida[-1] == '4':\n",
    "\n",
    "    print(f'a empresa {empresa_escolhida} é uma PN')\n",
    "\n",
    "elif empresa_escolhida[-1] == '1':\n",
    "\n",
    "    print(f'a empresa {empresa_escolhida} é uma Unity')\n",
    "\n",
    "else:\n",
    "\n",
    "    print('a empresa digitada não é uma ação ON, PN ou Unity')\n",
    "\n"
   ]
  },
  {
   "cell_type": "code",
   "execution_count": 35,
   "id": "631b7e29-29ee-4d0e-b766-656284d05052",
   "metadata": {},
   "outputs": [
    {
     "name": "stdin",
     "output_type": "stream",
     "text": [
      "digite o nome de uma empresa vale3\n",
      "digite o ROE da empresa 0.30\n",
      "digite o PL de uma empresa 20\n"
     ]
    },
    {
     "name": "stdout",
     "output_type": "stream",
     "text": [
      "comprável\n"
     ]
    }
   ],
   "source": [
    "# Desafio 19\n",
    "\n",
    "empresa = input('digite o nome de uma empresa')\n",
    "ROE = float(input('digite o ROE da empresa'))\n",
    "p_l = int(input('digite o PL de uma empresa'))\n",
    "\n",
    "lista_empresa = [empresa, ROE, p_l]\n",
    "\n",
    "formatação_roe = '{:.0%}' .format(lista_empresa[1])\n",
    "\n",
    "if lista_empresa[1] > 0.20 and lista_empresa[2] > 20:\n",
    "    print('empresa astuta')\n",
    "\n",
    "elif lista_empresa[1] > 0.20 or lista_empresa[2] < 20:\n",
    "    print('comprável')\n",
    "\n",
    "else :\n",
    "    print('empresa lixo')"
   ]
  },
  {
   "cell_type": "code",
   "execution_count": null,
   "id": "a8a35213-15b9-4035-9a27-39afd6866484",
   "metadata": {},
   "outputs": [],
   "source": []
  }
 ],
 "metadata": {
  "kernelspec": {
   "display_name": "Python 3 (ipykernel)",
   "language": "python",
   "name": "python3"
  },
  "language_info": {
   "codemirror_mode": {
    "name": "ipython",
    "version": 3
   },
   "file_extension": ".py",
   "mimetype": "text/x-python",
   "name": "python",
   "nbconvert_exporter": "python",
   "pygments_lexer": "ipython3",
   "version": "3.12.4"
  }
 },
 "nbformat": 4,
 "nbformat_minor": 5
}
