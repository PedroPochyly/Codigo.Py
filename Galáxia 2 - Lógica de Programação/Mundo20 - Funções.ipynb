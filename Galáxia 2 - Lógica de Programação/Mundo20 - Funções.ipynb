{
 "cells": [
  {
   "cell_type": "markdown",
   "id": "6b6071ff",
   "metadata": {},
   "source": [
    "# Mundo 20"
   ]
  },
  {
   "cell_type": "code",
   "execution_count": 12,
   "id": "40e722f8",
   "metadata": {},
   "outputs": [
    {
     "name": "stdout",
     "output_type": "stream",
     "text": [
      "Digite um número inteiro: 4\n",
      "6\n",
      "10\n"
     ]
    }
   ],
   "source": [
    "#escrevendo nossa primeira função\n",
    "\n",
    "numero_digitado = int(input('Digite um número inteiro: '))\n",
    "\n",
    "def soma_numeros(numero, soma = 2):\n",
    "    \n",
    "    numero_somado = numero + soma\n",
    "    \n",
    "    return numero_somado\n",
    "\n",
    "\n",
    "novo_numero = soma_numeros(numero = numero_digitado)\n",
    "\n",
    "novo_numero_opcional = soma_numeros(numero = numero_digitado, soma = 6)\n",
    "\n",
    "print(novo_numero)\n",
    "print(novo_numero_opcional)"
   ]
  },
  {
   "cell_type": "code",
   "execution_count": 13,
   "id": "f8e08d08",
   "metadata": {},
   "outputs": [
    {
     "name": "stdout",
     "output_type": "stream",
     "text": [
      "Digite a cotação inicial: 20\n",
      "Digite a cotação final: 30\n",
      "50.00%\n"
     ]
    }
   ],
   "source": [
    "def calcula_rentabilidade(valor_inicial, valor_final):\n",
    "\n",
    "    rentabilidade = valor_final/valor_inicial - 1\n",
    "\n",
    "    rentabilidade_em_porcentagem = \"{:.2%}\".format(rentabilidade)\n",
    "\n",
    "    return rentabilidade_em_porcentagem\n",
    "\n",
    "\n",
    "valor_inicial = float(input('Digite a cotação inicial: '))\n",
    "valor_final = float(input('Digite a cotação final: '))\n",
    "\n",
    "rentabilidade = calcula_rentabilidade(valor_inicial=valor_inicial, valor_final=valor_final)\n",
    "\n",
    "print(rentabilidade)"
   ]
  },
  {
   "cell_type": "code",
   "execution_count": null,
   "id": "6e9e5a23",
   "metadata": {},
   "outputs": [],
   "source": [
    "#funções lambda\n",
    "\n",
    "'''o principal motivo para usar lambdas é usar funções como parâmetros de outras funções\n",
    "ao invés da gente criar uma função inteira so pra usar de parâmetro.'''\n"
   ]
  },
  {
   "cell_type": "code",
   "execution_count": 15,
   "id": "0f12714d",
   "metadata": {},
   "outputs": [
    {
     "name": "stdout",
     "output_type": "stream",
     "text": [
      "2.0\n",
      "2.0\n"
     ]
    }
   ],
   "source": [
    "def calcular_desconto(preco):\n",
    "\n",
    "    return preco*0.2 #isso aqui é muito simples, pode ser escrito numa lambda. \n",
    "\n",
    "calcular_desconto2 = lambda x: x * 0.2\n",
    "\n",
    "desconto = calcular_desconto(10)\n",
    "desconto2 = calcular_desconto2(10)\n",
    "\n",
    "print(desconto)\n",
    "print(desconto)"
   ]
  },
  {
   "cell_type": "code",
   "execution_count": 17,
   "id": "c9969ebd",
   "metadata": {},
   "outputs": [
    {
     "name": "stdout",
     "output_type": "stream",
     "text": [
      "[2.0, 4.0, 6.0, 8.0]\n",
      "[2.0, 4.0, 6.0, 8.0]\n"
     ]
    }
   ],
   "source": [
    "#aplicação prática\n",
    "\n",
    "precos = [10, 20, 30, 40]\n",
    "\n",
    "#como a gente pode aplicar a função de desconto a todos os elementos da lista? \n",
    "#o comando map aplica uma função a todos os itens da lista\n",
    "\n",
    "descontos = list(map(calcular_desconto, precos))\n",
    "\n",
    "descontos2 = list(map(lambda x: x * 0.2, precos)) #só com a lambda nós conseguimos fazer isso e poupar código.\n",
    "\n",
    "print(descontos)\n",
    "print(descontos2)\n",
    "\n",
    "# a gente vai ter uma aula só disso!"
   ]
  },
  {
   "cell_type": "markdown",
   "id": "d6769546",
   "metadata": {},
   "source": [
    "# Desafios\n",
    "\n",
    "* Exercício 22: Crie uma função que recebe graus celsius digitado pelo usuário e converte para Fº.\n",
    "\n",
    "\n",
    "* Exercício 23: Crie uma função recebe uma lista de cotações e retorna o retorno diário dessa lista de cotações. \n",
    "\n"
   ]
  },
  {
   "cell_type": "code",
   "execution_count": 8,
   "id": "3b5964da",
   "metadata": {},
   "outputs": [
    {
     "name": "stdout",
     "output_type": "stream",
     "text": [
      "Digite os graus Celsius: 23\n",
      "73.4\n"
     ]
    }
   ],
   "source": [
    "temperatura_dada = int(input('Digite os graus Celsius: '))\n",
    "\n",
    "def calculo_temperatura(graus_celsius):\n",
    "    graus_fahrenheit = (graus_celsius * 1.8) + 32\n",
    "    return graus_fahrenheit\n",
    "\n",
    "print(calculo_temperatura(temperatura_dada))\n",
    "\n"
   ]
  },
  {
   "cell_type": "code",
   "execution_count": 18,
   "id": "442af11c",
   "metadata": {},
   "outputs": [
    {
     "name": "stdout",
     "output_type": "stream",
     "text": [
      "Digite a cotação: 20\n",
      "Deseja continuar? [S/N]n\n",
      "Não é possível calcular retornos com apenas uma cotação. Por favor, digite mais uma.\n",
      "Digite a cotação: 21\n",
      "Deseja continuar? [S/N]afkjsk\n",
      "Por favor, digite um comando válido: [S/N]N\n",
      "{'Retorno dia 1': '5.00%'}\n"
     ]
    }
   ],
   "source": [
    "lista_cotacoes = []\n",
    "\n"
   ]
  },
  {
   "cell_type": "markdown",
   "id": "aecd6815",
   "metadata": {},
   "source": [
    "# Mundo 21\n",
    "\n",
    "Na próxima aula nos vamos falar sobre tratamento de erros dentro do Python! Como nós podemos mandar o programa TENTAR executar algo e, caso dê erro, faça outra coisa? Te vejo no mundo 21! "
   ]
  },
  {
   "cell_type": "code",
   "execution_count": null,
   "id": "771719d4",
   "metadata": {},
   "outputs": [],
   "source": []
  },
  {
   "cell_type": "code",
   "execution_count": null,
   "id": "fbd1f78f",
   "metadata": {},
   "outputs": [],
   "source": []
  },
  {
   "cell_type": "code",
   "execution_count": null,
   "id": "bc39ae13",
   "metadata": {},
   "outputs": [],
   "source": []
  },
  {
   "cell_type": "code",
   "execution_count": null,
   "id": "b61c5162",
   "metadata": {},
   "outputs": [],
   "source": []
  },
  {
   "cell_type": "code",
   "execution_count": null,
   "id": "79351760",
   "metadata": {},
   "outputs": [],
   "source": []
  },
  {
   "cell_type": "code",
   "execution_count": null,
   "id": "e2dea382",
   "metadata": {},
   "outputs": [],
   "source": []
  },
  {
   "cell_type": "code",
   "execution_count": null,
   "id": "c7179705",
   "metadata": {},
   "outputs": [],
   "source": []
  },
  {
   "cell_type": "code",
   "execution_count": null,
   "id": "d37f50a6",
   "metadata": {},
   "outputs": [],
   "source": []
  },
  {
   "cell_type": "code",
   "execution_count": null,
   "id": "ffbcde0c",
   "metadata": {},
   "outputs": [],
   "source": []
  },
  {
   "cell_type": "code",
   "execution_count": null,
   "id": "dd16de42",
   "metadata": {},
   "outputs": [],
   "source": []
  },
  {
   "cell_type": "code",
   "execution_count": null,
   "id": "12e12c89",
   "metadata": {},
   "outputs": [],
   "source": []
  },
  {
   "cell_type": "code",
   "execution_count": null,
   "id": "709f9796",
   "metadata": {},
   "outputs": [],
   "source": []
  }
 ],
 "metadata": {
  "kernelspec": {
   "display_name": "Python 3",
   "language": "python",
   "name": "python3"
  },
  "language_info": {
   "codemirror_mode": {
    "name": "ipython",
    "version": 3
   },
   "file_extension": ".py",
   "mimetype": "text/x-python",
   "name": "python",
   "nbconvert_exporter": "python",
   "pygments_lexer": "ipython3",
   "version": "3.6.3"
  }
 },
 "nbformat": 4,
 "nbformat_minor": 5
}
