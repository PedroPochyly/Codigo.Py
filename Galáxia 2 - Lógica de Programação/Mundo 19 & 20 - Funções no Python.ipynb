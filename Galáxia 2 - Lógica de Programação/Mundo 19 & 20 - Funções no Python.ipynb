{
 "cells": [
  {
   "cell_type": "code",
   "execution_count": null,
   "id": "e425913b-ec96-4e7b-a2bb-bf665b6465fb",
   "metadata": {},
   "outputs": [],
   "source": [
    "#Funçoes - capturar rotinas -"
   ]
  },
  {
   "cell_type": "code",
   "execution_count": 4,
   "id": "da82db46-b0c7-4e1b-87dc-7b4c75dba39f",
   "metadata": {},
   "outputs": [
    {
     "name": "stdin",
     "output_type": "stream",
     "text": [
      "Digite um numeroo inteiro:  20\n"
     ]
    },
    {
     "name": "stdout",
     "output_type": "stream",
     "text": [
      "22\n",
      "26\n"
     ]
    }
   ],
   "source": [
    "numero_digitado = int(input('Digite um numero inteiro: '))\n",
    "                      \n",
    "def soma_numeros(numero, soma = 2):\n",
    "\n",
    "    numero_somado = numero + soma\n",
    "\n",
    "    return numero_somado\n",
    "\n",
    "novo_numero = soma_numeros(numero = numero_digitado)\n",
    "\n",
    "novo_numero_opcional = soma_numeros(numero = numero_digitado, soma = 6)\n",
    "\n",
    "print(novo_numero)\n",
    "print(novo_numero_opcional)"
   ]
  },
  {
   "cell_type": "code",
   "execution_count": 6,
   "id": "aa883787-c7c1-40f0-a437-444a6afb536e",
   "metadata": {},
   "outputs": [
    {
     "name": "stdin",
     "output_type": "stream",
     "text": [
      "Digite a cotação inicial:  213\n",
      "Digite a cotação final:  234\n"
     ]
    },
    {
     "name": "stdout",
     "output_type": "stream",
     "text": [
      "9.86%\n"
     ]
    }
   ],
   "source": [
    "def calculadora_de_rentabilidade(valor_inicial, valor_final):\n",
    "\n",
    "    rentabilidade = valor_final/valor_inicial - 1 \n",
    "\n",
    "    rentabilidade_em_porcentagem = '{:.2%}'.format(rentabilidade)\n",
    "\n",
    "    return rentabilidade_em_porcentagem\n",
    "\n",
    "\n",
    "valor_inicial = float(input('Digite a cotação inicial: '))\n",
    "valor_final = float(input('Digite a cotação final: '))\n",
    "\n",
    "rentabilidade = calculadora_de_rentabilidade(valor_inicial=valor_inicial, valor_final=valor_final)\n",
    "\n",
    "print(rentabilidade)\n"
   ]
  },
  {
   "cell_type": "code",
   "execution_count": null,
   "id": "c37b37ca-3492-43f2-ba47-efc7b011e905",
   "metadata": {},
   "outputs": [],
   "source": []
  }
 ],
 "metadata": {
  "kernelspec": {
   "display_name": "Python 3 (ipykernel)",
   "language": "python",
   "name": "python3"
  },
  "language_info": {
   "codemirror_mode": {
    "name": "ipython",
    "version": 3
   },
   "file_extension": ".py",
   "mimetype": "text/x-python",
   "name": "python",
   "nbconvert_exporter": "python",
   "pygments_lexer": "ipython3",
   "version": "3.12.4"
  }
 },
 "nbformat": 4,
 "nbformat_minor": 5
}
