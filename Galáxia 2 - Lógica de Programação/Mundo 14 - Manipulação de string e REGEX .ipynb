{
 "cells": [
  {
   "cell_type": "code",
   "execution_count": 2,
   "id": "643dbadf-edcd-4c84-8891-e0b1957381e6",
   "metadata": {},
   "outputs": [],
   "source": [
    "# Validação de padrões de texto\n",
    "\n",
    "import re\n"
   ]
  },
  {
   "cell_type": "code",
   "execution_count": 3,
   "id": "f52531cf-9180-4c05-9497-aa436a5c03e0",
   "metadata": {},
   "outputs": [],
   "source": [
    "texto = 'esse é o curso de python'"
   ]
  },
  {
   "cell_type": "code",
   "execution_count": 4,
   "id": "e3eb4406-9edc-491d-ae04-6a060c194ab7",
   "metadata": {},
   "outputs": [
    {
     "name": "stdout",
     "output_type": "stream",
     "text": [
      "24\n"
     ]
    }
   ],
   "source": [
    "# Pegando o tamanho do texto\n",
    "\n",
    "print(len(texto))"
   ]
  },
  {
   "cell_type": "code",
   "execution_count": 7,
   "id": "d6432faa-c18f-4c0d-b7a8-1f4bb3622be0",
   "metadata": {},
   "outputs": [
    {
     "name": "stdout",
     "output_type": "stream",
     "text": [
      "esse é o curso de python, eu sou um ótimo aluno\n"
     ]
    }
   ],
   "source": [
    "# Juntando stings\n",
    "\n",
    "print(texto + \", eu sou um ótimo aluno!\")"
   ]
  },
  {
   "cell_type": "code",
   "execution_count": 8,
   "id": "69fee9b3-a778-40da-af63-0a9f7dc45136",
   "metadata": {},
   "outputs": [
    {
     "name": "stdout",
     "output_type": "stream",
     "text": [
      "esse é o curso de Excel\n"
     ]
    }
   ],
   "source": [
    "# Substituindo o texto\n",
    "\n",
    "texto_novo = texto.replace(\"python\", \"Excel\")\n",
    "print(texto_novo)"
   ]
  },
  {
   "cell_type": "code",
   "execution_count": 9,
   "id": "7bc20ac7-a6f2-4a92-ba2f-70789a3d7d23",
   "metadata": {},
   "outputs": [
    {
     "name": "stdout",
     "output_type": "stream",
     "text": [
      "1\n"
     ]
    }
   ],
   "source": [
    "#contagem\n",
    "print(texto.count('curso')) - quantas vezes aparece o termo curso"
   ]
  },
  {
   "cell_type": "code",
   "execution_count": 10,
   "id": "55b399ef-c23e-4c43-b61f-13cab622933a",
   "metadata": {},
   "outputs": [
    {
     "name": "stdout",
     "output_type": "stream",
     "text": [
      "True\n",
      "True\n"
     ]
    }
   ],
   "source": [
    "# a string começa com 'esse?' - verificar se algo termina ou começa com certa string\n",
    "\n",
    "print(texto.startswith('esse'))\n",
    "print(texto.endswith('python'))"
   ]
  },
  {
   "cell_type": "code",
   "execution_count": 12,
   "id": "4ad23ecf-076a-4b89-8051-fe6f2775fcde",
   "metadata": {},
   "outputs": [
    {
     "name": "stdout",
     "output_type": "stream",
     "text": [
      "e\n",
      "esse\n",
      "n\n",
      " é o curso de python\n"
     ]
    }
   ],
   "source": [
    "# selecionando elementos de uma string\n",
    "\n",
    "print(texto[0])\n",
    "print(texto[0:4])\n",
    "print(texto[-1])\n",
    "print(texto[4: ])\n"
   ]
  },
  {
   "cell_type": "code",
   "execution_count": 14,
   "id": "3de30dd2-db39-4352-b222-b7a72d307f20",
   "metadata": {},
   "outputs": [
    {
     "name": "stdout",
     "output_type": "stream",
     "text": [
      "ESSE É O CURSO DE PYTHON\n",
      "esse é o curso de python\n",
      "Esse É O Curso De Python\n"
     ]
    }
   ],
   "source": [
    "# letras maiúsculas minúsculas e títulos\n",
    "\n",
    "print(texto.upper())\n",
    "print(texto.lower())\n",
    "print(texto.title())\n",
    "\n",
    "#importante para tratação de textos e para 'normalizar' os dados para que as igualdades funcionem"
   ]
  },
  {
   "cell_type": "code",
   "execution_count": 17,
   "id": "d9a67332-3c47-4ce6-bd68-ff96a702f3ba",
   "metadata": {},
   "outputs": [
    {
     "name": "stdout",
     "output_type": "stream",
     "text": [
      "False\n",
      "True\n"
     ]
    }
   ],
   "source": [
    "#aplicando as funções\n",
    "\n",
    "texto1 = \"python\"\n",
    "texto2 = \"PYTHON\"\n",
    "\n",
    "print(texto1 == texto2)\n",
    "print(texto1 == texto2.lower()) # Transformei o texto 2 em minúsculas para que os 2 ficassem iguais"
   ]
  },
  {
   "cell_type": "code",
   "execution_count": 20,
   "id": "ff7b0a1c-78fa-4c86-ad88-241d7eb51612",
   "metadata": {},
   "outputs": [
    {
     "name": "stdout",
     "output_type": "stream",
     "text": [
      "['brennolima@gmail.com', 'lucasvgm@hotmail.com', 'leandropaulo@yahoo.com.br']\n"
     ]
    }
   ],
   "source": [
    "# Expressões Regulares\n",
    "\n",
    "import re\n",
    "\n",
    "bloco_texto = ''' brenno brennolima@gmail.com lucas lucasvgm@hotmail.com\n",
    "                    leandro leandropaulo@yahoo.com.br'''\n",
    "\n",
    "padrão = r'[A-Za-z0-9._%+-]+@[A-Za-z0-9.-]+\\.[A-Za-z]{2,4}'\n",
    "\n",
    "expressao_regular = re.compile(padrão, flags=re.IGNORECASE)\n",
    "\n",
    "print(expressao_regular.findall(bloco_texto))\n"
   ]
  },
  {
   "cell_type": "code",
   "execution_count": 24,
   "id": "32a9ca65-510c-4725-ad68-8e4396e04bd3",
   "metadata": {},
   "outputs": [
    {
     "name": "stdin",
     "output_type": "stream",
     "text": [
      "digite seu e-mail:  eueueueueu\n"
     ]
    },
    {
     "name": "stdout",
     "output_type": "stream",
     "text": [
      "E-mail inválido\n"
     ]
    }
   ],
   "source": [
    "#validar email\n",
    "\n",
    "email = str(input('digite seu e-mail: '))\n",
    "\n",
    "if re.fullmatch(expressao_regular, email):\n",
    "\n",
    "    print('Seu E-mail é valido')\n",
    "\n",
    "else :\n",
    "\n",
    "    print('E-mail inválido')\n",
    "\n",
    "    # NINGUEM SABE REGEX DE CABEÇA, PESQUISAR NO GOOGLE SEMPRE"
   ]
  },
  {
   "cell_type": "code",
   "execution_count": 43,
   "id": "7cb9d230-3692-4e0c-b1f8-372e22231696",
   "metadata": {},
   "outputs": [
    {
     "name": "stdin",
     "output_type": "stream",
     "text": [
      "Digite o nome de uma empresa fwrf4fdsdd\n"
     ]
    },
    {
     "name": "stdout",
     "output_type": "stream",
     "text": [
      "fwrf4fdsdd\n",
      "f\n",
      "d\n",
      "10\n",
      "FWRF4FDSDD\n",
      "Fwrf4Fdsdd\n",
      "Tranqueira rf4fdsdd\n"
     ]
    }
   ],
   "source": [
    "# Desafio 16\n",
    "nome_empresa = input(\"Digite o nome de uma empresa\")\n",
    "\n",
    "print(nome_empresa)\n",
    "print(nome_empresa[0])\n",
    "print(nome_empresa[-1])\n",
    "print(len(nome_empresa))\n",
    "print(nome_empresa.upper())\n",
    "print(nome_empresa.title())\n",
    "\n",
    "substituição_nome = nome_empresa.replace(nome_empresa[:2], \"Tranqueira \")\n",
    "\n",
    "print(substituição_nome)"
   ]
  },
  {
   "cell_type": "code",
   "execution_count": 51,
   "id": "3e0d6721-deea-41e1-9169-605c0dbc08c2",
   "metadata": {},
   "outputs": [
    {
     "name": "stdin",
     "output_type": "stream",
     "text": [
      "Digite aqui o seu número: 61995906278\n"
     ]
    },
    {
     "name": "stdout",
     "output_type": "stream",
     "text": [
      "Not OK!\n"
     ]
    }
   ],
   "source": [
    "# Desafio 17\n",
    "import re \n",
    "\n",
    "telefone = str(input('Digite aqui o seu número:'))\n",
    "\n",
    "REGEX = r'^\\([1-9]{2}\\) (?:[2-8]|9[0-9])[0-9]{3}\\-[0-9]{4}$'\n",
    "\n",
    "expressao_regular = re.compile(REGEX)\n",
    "\n",
    "if re.fullmatch(expressao_regular, telefone):\n",
    "    \n",
    "    print('OK!')\n",
    "    \n",
    "else:\n",
    "    \n",
    "    print('Not OK!')\n"
   ]
  },
  {
   "cell_type": "code",
   "execution_count": null,
   "id": "ff15eed8-a85e-42d2-a70b-75ba7fb873e7",
   "metadata": {},
   "outputs": [],
   "source": []
  }
 ],
 "metadata": {
  "kernelspec": {
   "display_name": "Python 3 (ipykernel)",
   "language": "python",
   "name": "python3"
  },
  "language_info": {
   "codemirror_mode": {
    "name": "ipython",
    "version": 3
   },
   "file_extension": ".py",
   "mimetype": "text/x-python",
   "name": "python",
   "nbconvert_exporter": "python",
   "pygments_lexer": "ipython3",
   "version": "3.12.4"
  }
 },
 "nbformat": 4,
 "nbformat_minor": 5
}
