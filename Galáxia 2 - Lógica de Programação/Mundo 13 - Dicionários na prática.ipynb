{
 "cells": [
  {
   "cell_type": "code",
   "execution_count": null,
   "id": "57515e1b-e9ea-4e9e-bcaa-b1b540c92c36",
   "metadata": {},
   "outputs": [],
   "source": [
    "#Dicionários na prática"
   ]
  },
  {
   "cell_type": "code",
   "execution_count": 5,
   "id": "76121405-4e0e-45cc-bddb-34a0795f9f58",
   "metadata": {},
   "outputs": [],
   "source": [
    "dicionário_vazio = {}\n",
    "dicionário_povoado = dict({'nome': 'breno', 'sobrenome': 'tonka'})\n",
    "dicionário_numérico = {1:'pedro', 2:'costa', 3:'caçador', 4:'pochyly'} #pódio\n",
    "dicionário_com_listas = {'empresas_novo_mercado' :['weg', 'renner', 'vale'], \n",
    "                        'empresas_outros_seg' :['petrobras', 'alpargatas']}\n",
    "\n",
    "dicionários_contidos = {True: ['p1', 'p2'], False: ['p3', 'p4']}"
   ]
  },
  {
   "cell_type": "code",
   "execution_count": 24,
   "id": "9f33547b-83b0-46cb-915d-ed78c526b49d",
   "metadata": {},
   "outputs": [
    {
     "name": "stdout",
     "output_type": "stream",
     "text": [
      "costa\n",
      "breno\n",
      "['weg', 'renner', 'vale']\n",
      "['weg']\n"
     ]
    }
   ],
   "source": [
    "#Pegando itens dentro dos dicionários\n",
    "\n",
    "print(dicionário_numérico[2]) #Pegando da chave direto (igual a um procv - procura o 2 e retorna o valor associado à ele.)\n",
    "print(dicionário_povoado.get('nome')) #pegando por outro nome o nome associado\n",
    "print(dicionário_com_listas['empresas_novo_mercado']) #pegando uma lista dentro do dicionario\n",
    "print(dicionário_com_listas['empresas_novo_mercado'][0:1]) #pegando um objeto especifico dentro de uma lista"
   ]
  },
  {
   "cell_type": "code",
   "execution_count": 28,
   "id": "0601dc15-cff5-4e78-9719-1639b9404fac",
   "metadata": {},
   "outputs": [
    {
     "name": "stdout",
     "output_type": "stream",
     "text": [
      "{'curso': 'codigo.py', 'galáxia': 2, 'Mundo': 13}\n",
      "{'galáxia': 2, 'Mundo': 13}\n"
     ]
    }
   ],
   "source": [
    "#adicionando elementos em um dicionário\n",
    "\n",
    "dicionário_vazio['curso'] = 'codigo.py' # 1 coisa por vez só\n",
    "dicionário_vazio.update({'galáxia': 2, 'Mundo': 13})\n",
    "print(dicionário_vazio)\n",
    "\n",
    "#Removendo dados de um dicionário\n",
    "\n",
    "dicionário_vazio.pop('curso') #tira tanto o numero associado a ele quanto o elemento em si\n",
    "print(dicionário_vazio)"
   ]
  },
  {
   "cell_type": "code",
   "execution_count": 32,
   "id": "87723363-7d01-45e1-8f50-4847b411b7fa",
   "metadata": {},
   "outputs": [
    {
     "name": "stdout",
     "output_type": "stream",
     "text": [
      "novo mercado\n"
     ]
    }
   ],
   "source": [
    "# Caracterizando um objeto\n",
    "\n",
    "weg = {'nome':'weg', 'segmento de listagem':'novo mercado', 'somente ON':True, 'Conselho Independente':True}\n",
    "\n",
    "print(weg['segmento de listagem']) #pegando uma caracteristica da empresa WEG"
   ]
  },
  {
   "cell_type": "code",
   "execution_count": 40,
   "id": "6981ff9e-9fa4-4636-a844-1a62ffa52576",
   "metadata": {},
   "outputs": [
    {
     "name": "stdout",
     "output_type": "stream",
     "text": [
      "vale\n",
      "{'Nome': 'vale', 'cnpj': '312312312321', 'ticker': 'vale3', 'ano de fundação': 1873, 'p/l': 3.4, 'ROE': 40.2}\n"
     ]
    }
   ],
   "source": [
    "# Desafio 14\n",
    "\n",
    "Dicionário_empresa = {'Nome': 'vale', 'cnpj': '312312312321', 'ticker': 'vale3', 'ano de fundação': 1873, 'p/l': 3.4, 'ROE' : 40.2}\n",
    "\n",
    "print(Dicionário_empresa['Nome'])\n",
    "print(Dicionário_empresa)"
   ]
  },
  {
   "cell_type": "code",
   "execution_count": null,
   "id": "a88c9a6a-004a-45df-a19f-35d907332cf0",
   "metadata": {},
   "outputs": [
    {
     "name": "stdout",
     "output_type": "stream",
     "text": [
      "a empresa que está sendo estudada é a vale\n",
      "seus indicadores são: P/L = 3.4 e ROE = 40.2\n"
     ]
    }
   ],
   "source": [
    "# Desafio 15\n",
    "print(f'a empresa que está sendo estudada é a {Dicionário_empresa['Nome']}')\n",
    "\n",
    "print(f'seus indicadores são: P/L = {Dicionário_empresa['p/l']} e ROE = {Dicionário_empresa['ROE']}')\n",
    "\n",
    "decisão_de_compra = input(f'você compraria a {'Nome'} ?')\n",
    "\n",
    "Dicionário_empresa.update({'decisão de compra':decisão_de_compra})\n",
    "\n",
    "print(Dicionário_empresa)"
   ]
  },
  {
   "cell_type": "code",
   "execution_count": null,
   "id": "e69d0df3-cb9d-48f5-b32a-f442467c8dd2",
   "metadata": {},
   "outputs": [],
   "source": []
  }
 ],
 "metadata": {
  "kernelspec": {
   "display_name": "Python 3 (ipykernel)",
   "language": "python",
   "name": "python3"
  },
  "language_info": {
   "codemirror_mode": {
    "name": "ipython",
    "version": 3
   },
   "file_extension": ".py",
   "mimetype": "text/x-python",
   "name": "python",
   "nbconvert_exporter": "python",
   "pygments_lexer": "ipython3",
   "version": "3.12.4"
  }
 },
 "nbformat": 4,
 "nbformat_minor": 5
}
