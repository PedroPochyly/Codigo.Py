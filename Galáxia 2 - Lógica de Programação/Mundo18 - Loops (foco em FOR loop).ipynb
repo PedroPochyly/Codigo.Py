{
 "cells": [
  {
   "cell_type": "code",
   "execution_count": null,
   "id": "8bfb86e3",
   "metadata": {},
   "outputs": [],
   "source": [
    "import time\n",
    "import pandas as pd\n",
    "import datetime\n",
    "\n",
    "lista_empresas = ['Weg', 'Vale', 'Petrobras']"
   ]
  },
  {
   "cell_type": "code",
   "execution_count": null,
   "id": "2c128b0f",
   "metadata": {},
   "outputs": [],
   "source": [
    "# Mundo 18\n",
    "\n",
    "for empresa in lista_empresas:\n",
    "\n",
    "    print(empresa.upper())\n",
    "    time.sleep(1)"
   ]
  },
  {
   "cell_type": "code",
   "execution_count": null,
   "id": "496ccadc",
   "metadata": {},
   "outputs": [],
   "source": [
    "#loop em um range. \n",
    "\n",
    "print(range(0, 3))\n",
    "\n",
    "for i in range(0, len(lista_empresas)):\n",
    "\n",
    "    print(lista_empresas[i])"
   ]
  },
  {
   "cell_type": "code",
   "execution_count": null,
   "id": "e8a76659",
   "metadata": {},
   "outputs": [],
   "source": [
    "#por que usar um range?\n",
    "\n",
    "lista_cotacoes = [20, 30, 45]\n",
    "lista_empresas = ['Weg', 'Vale', 'Petrobras']\n",
    "\n",
    "lista_dicionarios = []\n",
    "\n",
    "for i in range(0, 3):\n",
    "\n",
    "    lista_dicionarios.append(pd.DataFrame(\n",
    "        {'Nome empresa': lista_empresas[i], 'Cotação': lista_cotacoes[i]}, index=[0]))\n",
    "\n",
    "    \n",
    "tabela = pd.concat(lista_dicionarios)\n",
    "\n",
    "print(tabela)"
   ]
  },
  {
   "cell_type": "code",
   "execution_count": null,
   "id": "98beb855",
   "metadata": {
    "scrolled": true
   },
   "outputs": [],
   "source": [
    "#enumerate usa os dois mundos\n",
    "\n",
    "lista_dicionarios = []\n",
    "\n",
    "lista_cotacoes = [20, 30, 45]\n",
    "lista_empresas = ['Weg', 'Vale', 'Petrobras']\n",
    "\n",
    "for indice, cotacao in enumerate(lista_cotacoes): #o enumerate \n",
    "\n",
    "    print(indice, cotacao)\n",
    "\n",
    "    lista_dicionarios.append(pd.DataFrame(\n",
    "        {'Nome empresa': lista_empresas[indice], 'Cotação': cotacao}, index=[0]))\n",
    "\n",
    "\n",
    "tabela = pd.concat(lista_dicionarios)\n",
    "\n",
    "print(tabela)"
   ]
  },
  {
   "cell_type": "code",
   "execution_count": null,
   "id": "5a6816c4",
   "metadata": {},
   "outputs": [],
   "source": [
    "tempo = datetime.datetime.now()\n",
    "while True:\n",
    "\n",
    "    tempo_rodando = datetime.datetime.now() - tempo  \n",
    "    print(f'O programa está rodando há {tempo_rodando} segundos')\n",
    "\n",
    "    time.sleep(5)"
   ]
  },
  {
   "cell_type": "code",
   "execution_count": null,
   "id": "00b7cbb9",
   "metadata": {},
   "outputs": [],
   "source": [
    "#usando while sem ser infinito\n",
    "\n",
    "contador = 0\n",
    "\n",
    "lista_cotacoes = [20, 30, 45]\n",
    "\n",
    "while lista_cotacoes[contador] < 35:\n",
    "\n",
    "    print(lista_cotacoes[contador])\n",
    "\n",
    "    contador = contador + 1"
   ]
  },
  {
   "cell_type": "markdown",
   "id": "559b2d31",
   "metadata": {},
   "source": [
    "# Desafios\n",
    "\n",
    "* Exercício 20: Faça um programa que leia a cotação de 5 empresas. No final, mostre na tela qual foi a maior e a menor cotação lida.\n",
    "\n",
    "\n",
    "* Exercício 21: Crie uma ferramenta que deixe o usuário montar uma carteira de investimento e receba 3 informações: nome da empresa, P/L (inteiro) e roe. A ferramenta deixará o usuário adicionar quantas empresas ele quiser. Depois que o cadastro de empresas terminar, o programa irá exibir as seguinte estatísticas da carteira montada:\n",
    "    - Numero de ativos na carteira\n",
    "    - Média de P/L\n",
    "    - Média do ROE\n",
    "    - Qual a empresa mais barata da carteira (menor P/L)\n",
    "    - Se o usuário tiver menos de 3 ativos, avisar que a carteira está muito concentrada em poucos ativos "
   ]
  },
  {
   "cell_type": "code",
   "execution_count": null,
   "id": "d087d6d4",
   "metadata": {},
   "outputs": [],
   "source": [
    "#exercício 1 - Chat GPT - Escreva um programa que use um for para imprimir os números de 1 a 10.\n",
    "lista_numeros = [1, 2, 3, 4, 5, 6, 7, 8, 9, 10]\n",
    "\n",
    "for i in range(1,11):\n",
    "    print(i)"
   ]
  },
  {
   "cell_type": "code",
   "execution_count": null,
   "id": "791fcfa1",
   "metadata": {
    "scrolled": true
   },
   "outputs": [],
   "source": [
    "#exercício 2 - Chat GPT - Peça ao usuário um número e exiba a tabuada desse número de 1 a 10.\n",
    "tabuada_n = []\n",
    "numero = int(input('me dê um número: '))\n",
    "\n",
    "if  1 <= numero <= 10:\n",
    "        for i in range(1, 11):\n",
    "            resultado = numero * i\n",
    "            tabuada_n.append(resultado)\n",
    "        print(tabuada_n)"
   ]
  },
  {
   "cell_type": "code",
   "execution_count": null,
   "id": "299e7608",
   "metadata": {},
   "outputs": [],
   "source": [
    "#exercício 3 - Crie um programa que peça 5 números ao usuário e exiba a soma total deles.\n",
    "lista_soma = []\n",
    "for i in range(1,6):\n",
    "    numeros = int(input('escreva 5 numeros'))\n",
    "    lista_soma.append(numeros)\n",
    "soma = sum(lista_soma)\n",
    "print(soma)\n"
   ]
  },
  {
   "cell_type": "code",
   "execution_count": 5,
   "id": "99369b7b",
   "metadata": {},
   "outputs": [
    {
     "name": "stdout",
     "output_type": "stream",
     "text": [
      "Escolha um número: 34\n",
      "34\n",
      "33\n",
      "32\n",
      "31\n",
      "30\n",
      "29\n",
      "28\n",
      "27\n",
      "26\n",
      "25\n",
      "24\n",
      "23\n",
      "22\n",
      "21\n",
      "20\n",
      "19\n",
      "18\n",
      "17\n",
      "16\n",
      "15\n",
      "14\n",
      "13\n",
      "12\n",
      "11\n",
      "10\n",
      "9\n",
      "8\n",
      "7\n",
      "6\n",
      "5\n",
      "4\n",
      "3\n",
      "2\n",
      "1\n",
      "0\n"
     ]
    }
   ],
   "source": [
    "#exercício 4 - Peça um número ao usuário e faça uma contagem regressiva até 0, imprimindo um númeroporlinha\n",
    "numero_escolhido = int(input('Escolha um número: '))\n",
    "\n",
    "for i in range(numero_escolhido, -1, -1):  # Contagem regressiva de numero_escolhido até 0\n",
    "    print(i)\n"
   ]
  },
  {
   "cell_type": "code",
   "execution_count": 19,
   "id": "983534e5",
   "metadata": {},
   "outputs": [
    {
     "name": "stdout",
     "output_type": "stream",
     "text": [
      "digite o numero 00\n",
      "0\n",
      "2\n",
      "4\n",
      "6\n",
      "8\n",
      "10\n",
      "12\n",
      "14\n",
      "16\n",
      "18\n",
      "20\n"
     ]
    }
   ],
   "source": [
    "#exercício 5 - Números pares de 1 a 20 - use um for para imprimir todos os números pares de 1 a 20.\n",
    "numero_escolhido = int(input('digite o numero 0'))\n",
    "while numero_escolhido != 0:\n",
    "    print('digite o numero que eu falei')\n",
    "    numero_escolhido = int(input('digite o numero 0'))\n",
    "else: \n",
    "    for i in range(numero_escolhido,21,2):\n",
    "        print(i)"
   ]
  },
  {
   "cell_type": "markdown",
   "id": "f4d60f4f",
   "metadata": {},
   "source": [
    "#### #exercício 6 - Peça ao usuário 5 itens de supermercado e armazene-os em uma lista. Depois, use um for para exibir os itens um por um."
   ]
  },
  {
   "cell_type": "code",
   "execution_count": 3,
   "id": "99ba1b30",
   "metadata": {},
   "outputs": [
    {
     "name": "stdout",
     "output_type": "stream",
     "text": [
      "me dê um intem de supermercado: b\n",
      "me dê um intem de supermercado: a\n",
      "me dê um intem de supermercado: as\n",
      "me dê um intem de supermercado: \n",
      "me dê um intem de supermercado: c\n",
      "me dê um intem de supermercado: v\n",
      "a lista de supermercado montada é ['b', 'a', 'as', '', 'c', 'v']\n"
     ]
    }
   ],
   "source": [
    "lista_supermercado = []\n",
    "for i in range(0,6):\n",
    "    itens = input('me dê um intem de supermercado: ')\n",
    "    lista_supermercado.append(itens)\n",
    "print(f'a lista de supermercado montada é {lista_supermercado}')\n",
    "    "
   ]
  },
  {
   "cell_type": "code",
   "execution_count": 8,
   "id": "026b5ffe",
   "metadata": {},
   "outputs": [
    {
     "name": "stdout",
     "output_type": "stream",
     "text": [
      "escolha uma palavra e eu direi quantas vogais ela possuipedrotonka\n",
      "4\n"
     ]
    }
   ],
   "source": [
    "#exercício 7 - Peça ao usuário uma palavra e conte quantas vogais existem nela usando um for.\n",
    "vogais = 'a,e,i,o,u'\n",
    "contador = 0\n",
    "palavra_escolhida = str(input('escolha uma palavra e eu direi quantas vogais ela possui '))\n",
    "\n",
    "for letra in palavra_escolhida:\n",
    "    if letra in vogais:\n",
    "        contador += 1\n",
    "    \n",
    "print(contador)"
   ]
  },
  {
   "cell_type": "markdown",
   "id": "8d9af572",
   "metadata": {},
   "source": [
    "# Mundo 19\n",
    "\n",
    "Ufa! finalmente saímos de programinhas simples dentro do python e estamos avançando em direção a análise de dados. Caso algo não tenha ficado claro, não se preocupe: você pode reassistir a aula quantas vezes você quiser. E se não foi intuitivo pra você resolver o exercício 2 de primeira também\n",
    "não se abala, provavelmente você começou a programar ontem! Esses desafios é pra puxar nosso nível pra cima e em breve, com a prática, você irá conseguir realizar as coisas. Se você fez sozinho, meus parabens, está no caminho certíssimo a analista de dados. Na próxima aula nós vamos aprender outra ferramenta essencial pros fundamentos de python: funções! Elas permitem a gente eliminar muito código inútil e criar coisas legais como uma função que converte graus celsius pra Fº por exemplo. Te vejo no mundo 19! "
   ]
  },
  {
   "cell_type": "code",
   "execution_count": null,
   "id": "3fe17fe4",
   "metadata": {},
   "outputs": [],
   "source": []
  },
  {
   "cell_type": "code",
   "execution_count": null,
   "id": "c74901cd",
   "metadata": {},
   "outputs": [],
   "source": []
  },
  {
   "cell_type": "code",
   "execution_count": null,
   "id": "9be445c8",
   "metadata": {},
   "outputs": [],
   "source": []
  },
  {
   "cell_type": "code",
   "execution_count": null,
   "id": "2227e19f",
   "metadata": {},
   "outputs": [],
   "source": []
  },
  {
   "cell_type": "code",
   "execution_count": null,
   "id": "e81bdd91",
   "metadata": {},
   "outputs": [],
   "source": []
  },
  {
   "cell_type": "code",
   "execution_count": null,
   "id": "db7c652a",
   "metadata": {},
   "outputs": [],
   "source": []
  },
  {
   "cell_type": "code",
   "execution_count": null,
   "id": "60d9914e",
   "metadata": {},
   "outputs": [],
   "source": []
  },
  {
   "cell_type": "code",
   "execution_count": null,
   "id": "a323c4d3",
   "metadata": {},
   "outputs": [],
   "source": []
  },
  {
   "cell_type": "code",
   "execution_count": null,
   "id": "2830da5a",
   "metadata": {},
   "outputs": [],
   "source": []
  }
 ],
 "metadata": {
  "kernelspec": {
   "display_name": "Python 3",
   "language": "python",
   "name": "python3"
  },
  "language_info": {
   "codemirror_mode": {
    "name": "ipython",
    "version": 3
   },
   "file_extension": ".py",
   "mimetype": "text/x-python",
   "name": "python",
   "nbconvert_exporter": "python",
   "pygments_lexer": "ipython3",
   "version": "3.6.3"
  }
 },
 "nbformat": 4,
 "nbformat_minor": 5
}
