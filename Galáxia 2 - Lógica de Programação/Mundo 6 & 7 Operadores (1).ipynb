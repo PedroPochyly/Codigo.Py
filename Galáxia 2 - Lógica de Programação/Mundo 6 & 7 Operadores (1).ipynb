{
  "metadata": {
    "kernelspec": {
      "name": "python",
      "display_name": "Python (Pyodide)",
      "language": "python"
    },
    "language_info": {
      "codemirror_mode": {
        "name": "python",
        "version": 3
      },
      "file_extension": ".py",
      "mimetype": "text/x-python",
      "name": "python",
      "nbconvert_exporter": "python",
      "pygments_lexer": "ipython3",
      "version": "3.8"
    }
  },
  "nbformat_minor": 4,
  "nbformat": 4,
  "cells": [
    {
      "cell_type": "code",
      "source": "# Aritimética básica\n+\n-\n*\n/\n** # Potência\n// #Divisão completa\n% #Resto da divisão\n#para tirar raiz quadrada precisa elevar a 1/2",
      "metadata": {
        "trusted": true
      },
      "outputs": [],
      "execution_count": null
    },
    {
      "cell_type": "code",
      "source": "# hierarquia no python \nprioridade_máxima\n() #colchetes e chaves não são utilizados no python como na matemática normal! (para esses casos utilizar parênteses dentro de outro)\n**\n*, /, //, %\n+, -\nprioridade_mínima",
      "metadata": {
        "trusted": true
      },
      "outputs": [],
      "execution_count": null
    },
    {
      "cell_type": "code",
      "source": "# Solicita ao usuário para digitar dois números\nnumero2 = int(input('Digite um número: '))\nnumero1 = int(input('Digite outro número: '))\n\n# Realiza operações matemáticas básicas\nsoma = numero2 + numero1\nsubtracao = numero2 - numero1\nmultiplicacao = numero2 * numero1\ndivisao = numero2 / numero1\nelevar = numero2 ** numero1\nraiz = numero2 ** (1/2)\ndividir_inteiro = numero2 // numero1\n\n# Exibe os resultados\nprint(f\"Soma: {soma}\")\nprint(f\"Subtração: {subtracao}\")\nprint(f\"Multiplicação: {multiplicacao}\")\nprint(f\"Divisão: {divisao}\")\nprint(f\"Potência: {elevar}\")\nprint(f\"Raiz quadrada: {raiz}\")\nprint(f\"Divisão inteira: {dividir_inteiro}\")\n\n",
      "metadata": {
        "trusted": true
      },
      "outputs": [
        {
          "ename": "<class 'TypeError'>",
          "evalue": "int() argument must be a string, a bytes-like object or a real number, not 'PyodideFuture'",
          "traceback": [
            "\u001b[0;31m---------------------------------------------------------------------------\u001b[0m",
            "\u001b[0;31mTypeError\u001b[0m                                 Traceback (most recent call last)",
            "Cell \u001b[0;32mIn[2], line 2\u001b[0m\n\u001b[1;32m      1\u001b[0m \u001b[38;5;66;03m# Solicita ao usuário para digitar dois números\u001b[39;00m\n\u001b[0;32m----> 2\u001b[0m numero2 \u001b[38;5;241m=\u001b[39m \u001b[38;5;28;43mint\u001b[39;49m\u001b[43m(\u001b[49m\u001b[38;5;28;43minput\u001b[39;49m\u001b[43m(\u001b[49m\u001b[38;5;124;43m'\u001b[39;49m\u001b[38;5;124;43mDigite um número: \u001b[39;49m\u001b[38;5;124;43m'\u001b[39;49m\u001b[43m)\u001b[49m\u001b[43m)\u001b[49m\n\u001b[1;32m      3\u001b[0m numero1 \u001b[38;5;241m=\u001b[39m \u001b[38;5;28mint\u001b[39m(\u001b[38;5;28minput\u001b[39m(\u001b[38;5;124m'\u001b[39m\u001b[38;5;124mDigite outro número: \u001b[39m\u001b[38;5;124m'\u001b[39m))\n\u001b[1;32m      5\u001b[0m \u001b[38;5;66;03m# Realiza operações matemáticas básicas\u001b[39;00m\n",
            "\u001b[0;31mTypeError\u001b[0m: int() argument must be a string, a bytes-like object or a real number, not 'PyodideFuture'"
          ],
          "output_type": "error"
        },
        {
          "output_type": "stream",
          "name": "stdin",
          "text": "Digite um número:  4\n"
        }
      ],
      "execution_count": 2
    },
    {
      "cell_type": "code",
      "source": "# Multiplicação de strings\nstring = 'oi '\nstring_multi = string * 20\n\nprint(string_multi)",
      "metadata": {
        "trusted": true
      },
      "outputs": [
        {
          "name": "stdout",
          "text": "oi oi oi oi oi oi oi oi oi oi oi oi oi oi oi oi oi oi oi oi \n",
          "output_type": "stream"
        }
      ],
      "execution_count": 4
    },
    {
      "cell_type": "code",
      "source": "#Desafios 7 & 8 - desafio 8 já fiz alí em cima.\ncotação = float(input('Insira $ aqui: '))\nticker = str(input('insira um ticker aqui:' ))\n\nmercado_subida = cotação * 2\nmercado_caida = cotação * 0.5\n\nprint(f'Caso o mercado suba 100% temos: R$ {mercado_subida.2f}') #.2f é utilizado para limitar o retorno de casas decimais no print a 2 csa\nprint(f'Caso o mercado caia 50% temos : R$ {mercado_caida.2f} ')",
      "metadata": {
        "trusted": true
      },
      "outputs": [
        {
          "ename": "<class 'TypeError'>",
          "evalue": "float() argument must be a string or a real number, not 'PyodideFuture'",
          "traceback": [
            "\u001b[0;31m---------------------------------------------------------------------------\u001b[0m",
            "\u001b[0;31mTypeError\u001b[0m                                 Traceback (most recent call last)",
            "Cell \u001b[0;32mIn[5], line 2\u001b[0m\n\u001b[1;32m      1\u001b[0m \u001b[38;5;66;03m#Desafios 7 & 8 \u001b[39;00m\n\u001b[0;32m----> 2\u001b[0m cotação \u001b[38;5;241m=\u001b[39m \u001b[38;5;28;43mfloat\u001b[39;49m\u001b[43m(\u001b[49m\u001b[38;5;28;43minput\u001b[39;49m\u001b[43m(\u001b[49m\u001b[38;5;124;43m'\u001b[39;49m\u001b[38;5;124;43mInsira $ aqui: \u001b[39;49m\u001b[38;5;124;43m'\u001b[39;49m\u001b[43m)\u001b[49m\u001b[43m)\u001b[49m\n\u001b[1;32m      3\u001b[0m ticker \u001b[38;5;241m=\u001b[39m \u001b[38;5;28mstr\u001b[39m(\u001b[38;5;28minput\u001b[39m(\u001b[38;5;124m'\u001b[39m\u001b[38;5;124minsira um ticker aqui:\u001b[39m\u001b[38;5;124m'\u001b[39m ))\n\u001b[1;32m      5\u001b[0m mercado_subida \u001b[38;5;241m=\u001b[39m cotação \u001b[38;5;241m*\u001b[39m \u001b[38;5;241m2\u001b[39m\n",
            "\u001b[0;31mTypeError\u001b[0m: float() argument must be a string or a real number, not 'PyodideFuture'"
          ],
          "output_type": "error"
        }
      ],
      "execution_count": 5
    },
    {
      "cell_type": "code",
      "source": "",
      "metadata": {
        "trusted": true
      },
      "outputs": [],
      "execution_count": null
    }
  ]
}