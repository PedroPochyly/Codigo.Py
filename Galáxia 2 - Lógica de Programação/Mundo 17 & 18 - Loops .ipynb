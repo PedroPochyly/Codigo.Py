{
 "cells": [
  {
   "cell_type": "code",
   "execution_count": null,
   "id": "e76df609-2b79-41e3-bb36-badd3fd6c373",
   "metadata": {},
   "outputs": [],
   "source": [
    "# Loops no python - Laços de rpetição: For e While"
   ]
  },
  {
   "cell_type": "code",
   "execution_count": null,
   "id": "68ab40f5-bc87-4c6b-bdd2-530604b03de5",
   "metadata": {},
   "outputs": [],
   "source": [
    "# Usados para não ficar repetindo codigos\n",
    "\n",
    "# For loop - 'a cada item no objeto tal, faça isso' - MUITO MAIS UTILIZADO QUE O WHILE\n",
    "\n",
    "# While - Enquanto uma condição for verdadeira , o loop vai continuar."
   ]
  },
  {
   "cell_type": "code",
   "execution_count": null,
   "id": "2d05b032-0ded-4f15-885e-4ca24dd380db",
   "metadata": {},
   "outputs": [],
   "source": [
    "import time\n",
    "import pandas as pd\n",
    "import datetime"
   ]
  },
  {
   "cell_type": "code",
   "execution_count": null,
   "id": "2e14529d-1523-4ac6-b42f-fc737ac4247b",
   "metadata": {},
   "outputs": [],
   "source": [
    "#Loop simples em uma list\n",
    "\n",
    "lista_empresas = ['Weg', 'Vale', 'Petrobras']\n",
    "\n",
    "for empresa in lista_empresas:\n",
    "\n",
    "    print(empresa.upper())\n",
    "    time.sleep(1)"
   ]
  },
  {
   "cell_type": "code",
   "execution_count": null,
   "id": "f5856f0b-ff2a-4d66-81fb-ae9f82e0dc00",
   "metadata": {},
   "outputs": [],
   "source": [
    "#Loop em um range\n",
    "\n",
    "for i in range(0, 2):  #Rodando Loops em uma pequena área de um grupo todo \n",
    "    \n",
    "    print(lista_empresas[i])"
   ]
  },
  {
   "cell_type": "code",
   "execution_count": null,
   "id": "2fc65389-c968-4c3c-a8d9-87a2e053524a",
   "metadata": {},
   "outputs": [],
   "source": [
    "# porque usar um range? - Criando Data frames personalizados dentro de listas pré-estabelecidas\n",
    "\n",
    "lista_cotacoes = [20, 30, 45]\n",
    "lista_empresas = ['Weg', 'Vale', 'Petrobras']\n",
    "\n",
    "lista_dicionarios = []\n",
    "\n",
    "for i in range(0, 3):\n",
    "\n",
    "    lista_dicionarios.append(pd.DataFrame(\n",
    "        {'Nome empresa': lista_empresas[i], 'Cotação': lista_cotacoes[i]}, index=[0]))\n",
    "\n",
    "\n",
    "tabela = pd.concat(lista_dicionarios)\n",
    "\n",
    "print(tabela)"
   ]
  },
  {
   "cell_type": "code",
   "execution_count": null,
   "id": "bf4668f4-ecc4-4873-80fe-7318a6e6a191",
   "metadata": {},
   "outputs": [],
   "source": [
    "# Utilizando o Enuerate\n",
    "\n",
    "frutas = ['maçã', 'banana', 'laranja']\n",
    "\n",
    "for indice, fruta in enumerate(frutas):\n",
    "    print(indice, fruta)\n"
   ]
  },
  {
   "cell_type": "code",
   "execution_count": null,
   "id": "1406ed4a-7b97-4116-9d6a-438615eb5776",
   "metadata": {},
   "outputs": [],
   "source": [
    "# utilizando o While\n",
    "\n",
    "tempo_atual = datetime.datetime.now() \n",
    "\n",
    "tempo_rodando = datetime.datetime.now() - tempo_atual \n",
    "\n",
    "print(f'O programa está rodando há {tempo_rodando} segundos')"
   ]
  },
  {
   "cell_type": "code",
   "execution_count": null,
   "id": "41967d6b-0762-4337-8d3c-d2b17a22def3",
   "metadata": {},
   "outputs": [],
   "source": [
    "#Desafio 20\n",
    "import pandas as pd\n",
    "\n",
    "# Listas de exemplo já definidas\n",
    "Lista_Empresas_Desafio = ['WEG3', 'BBSA3', 'CXSE3', 'AESB3', 'VALE3']\n",
    "Lista_Cotações_Desafio = [30, 20.5, 20.6, 19, 22]\n",
    "\n",
    "# Criando o DataFrame usando os nomes corretos das variáveis\n",
    "df = pd.DataFrame({\n",
    "    'Nome_Empresa': Lista_Empresas_Desafio,\n",
    "    'Cotação': Lista_Cotações_Desafio\n",
    "})\n",
    "\n",
    "print(df)\n",
    "\n",
    "# Encontrando maior e menor cotação e os respectivos nomes das empresas\n",
    "maior_cotacao = df.loc[df['Cotação'].idxmax()]\n",
    "menor_cotacao = df.loc[df['Cotação'].idxmin()]\n",
    "\n",
    "# Exibindo os resultados\n",
    "print(f\"A maior cotação é {maior_cotacao['Cotação']}, e a empresa que a detém é {maior_cotacao['Nome_Empresa']}\")\n",
    "print(f\"A menor cotação é {menor_cotacao['Cotação']}, e a empresa que a detém é {menor_cotacao['Nome_Empresa']}\")\n"
   ]
  },
  {
   "cell_type": "code",
   "execution_count": null,
   "id": "2910f983-768d-4f2b-a75f-e26fbe5d29ab",
   "metadata": {},
   "outputs": [],
   "source": []
  },
  {
   "cell_type": "code",
   "execution_count": 2,
   "id": "19411c31-3f78-4661-9f12-212cdba983e1",
   "metadata": {},
   "outputs": [
    {
     "name": "stdin",
     "output_type": "stream",
     "text": [
      "Digite o nome da Empresa:  sadas5\n",
      "Digite o P/L:  32\n",
      "Digite o ROE:  43\n",
      "Gostaria de adicionar outra empresa? (Digite sim ou não):  sim\n",
      "Digite o nome da Empresa:  dsadas7\n",
      "Digite o P/L:  23\n",
      "Digite o ROE:  54\n",
      "Gostaria de adicionar outra empresa? (Digite sim ou não):  sim\n",
      "Digite o nome da Empresa:  asdsady7\n",
      "Digite o P/L:  11\n",
      "Digite o ROE:  15\n",
      "Gostaria de adicionar outra empresa? (Digite sim ou não):  nao\n"
     ]
    },
    {
     "name": "stdout",
     "output_type": "stream",
     "text": [
      "\n",
      "Informações das Empresas:\n",
      "Empresa: sadas5, P/L: 32, ROE: 43\n",
      "Empresa: dsadas7, P/L: 23, ROE: 54\n",
      "Empresa: asdsady7, P/L: 11, ROE: 15\n"
     ]
    }
   ],
   "source": [
    "#Desafio 21\n",
    "\n",
    "# Inicializando listas para armazenar as informações das empresas\n",
    "lista_empresas = []\n",
    "lista_pl = []\n",
    "lista_roe = []\n",
    "\n",
    "# Loop principal para adicionar empresas\n",
    "while True:\n",
    "    # Solicitando as informações ao usuário\n",
    "    nome_empresa = input('Digite o nome da Empresa: ')\n",
    "    pl = int(input('Digite o P/L: '))\n",
    "    roe = int(input('Digite o ROE: '))\n",
    "    \n",
    "    # Armazenando as informações nas listas\n",
    "    lista_empresas.append(nome_empresa)\n",
    "    lista_pl.append(pl)\n",
    "    lista_roe.append(roe)\n",
    "    \n",
    "    # Pergunta ao usuário se deseja adicionar outra empresa\n",
    "    continuar = input('Gostaria de adicionar outra empresa? (Digite sim ou não): ').strip().lower()\n",
    "    \n",
    "    if continuar != 'sim':\n",
    "        break  # Sai do loop se o usuário não quiser continuar\n",
    "\n",
    "# Exibindo os dados coletados\n",
    "print(\"\\nInformações das Empresas:\")\n",
    "for i in range(len(lista_empresas)):\n",
    "    print(f\"Empresa: {lista_empresas[i]}, P/L: {lista_pl[i]}, ROE: {lista_roe[i]}\")\n",
    "    "
   ]
  },
  {
   "cell_type": "code",
   "execution_count": 3,
   "id": "1055adf0-c6ad-4ca8-8bd1-749a7d88e1f4",
   "metadata": {},
   "outputs": [
    {
     "name": "stdout",
     "output_type": "stream",
     "text": [
      "A média de p/l da sua carteira é :22.0, o total número de ativos é : 3, o ROE médio da sua carteira é : 37.333333333333336 e é isso!\n",
      "  nome_empresa  pl_empresa  Roe_empresa\n",
      "0       sadas5          32           43\n",
      "1      dsadas7          23           54\n",
      "2     asdsady7          11           15\n"
     ]
    }
   ],
   "source": [
    "média_pl = sum(lista_pl)/len(lista_pl)\n",
    "média_roe = sum(lista_roe)/len(lista_roe)\n",
    "menor_pl = min(lista_pl)\n",
    "\n",
    "if len(lista_empresas) < 3:\n",
    "    print(f'cuidado com sua baixa diversificação, sua empresa possui apenas {len(lista_empresas)}')\n",
    "\n",
    "print(f'A média de p/l da sua carteira é :{média_pl}, o total número de ativos é : {len(lista_empresas)}, o ROE médio da sua carteira é : {média_roe} e é isso!')\n",
    "\n",
    "import pandas as pd\n",
    "\n",
    "df = pd.DataFrame({\n",
    "    'nome_empresa': lista_empresas ,\n",
    "    'pl_empresa': lista_pl,\n",
    "    'Roe_empresa': lista_roe\n",
    "})\n",
    "\n",
    "print(df.head())\n"
   ]
  },
  {
   "cell_type": "code",
   "execution_count": null,
   "id": "86b47c52-624e-410c-aadb-51c4b40e996e",
   "metadata": {},
   "outputs": [],
   "source": []
  }
 ],
 "metadata": {
  "kernelspec": {
   "display_name": "Python 3 (ipykernel)",
   "language": "python",
   "name": "python3"
  },
  "language_info": {
   "codemirror_mode": {
    "name": "ipython",
    "version": 3
   },
   "file_extension": ".py",
   "mimetype": "text/x-python",
   "name": "python",
   "nbconvert_exporter": "python",
   "pygments_lexer": "ipython3",
   "version": "3.12.4"
  }
 },
 "nbformat": 4,
 "nbformat_minor": 5
}
