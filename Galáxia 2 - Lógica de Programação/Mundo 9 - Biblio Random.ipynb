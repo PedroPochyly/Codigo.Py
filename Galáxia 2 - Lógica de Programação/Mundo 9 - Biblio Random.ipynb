{
 "cells": [
  {
   "cell_type": "code",
   "execution_count": null,
   "metadata": {},
   "outputs": [],
   "source": [
    "#trabalhando com a library RANDOM\n",
    "import random\n",
    "from random import choice #importando aprenas uma funçaõ da library"
   ]
  },
  {
   "cell_type": "code",
   "execution_count": 14,
   "metadata": {},
   "outputs": [
    {
     "name": "stdout",
     "output_type": "stream",
     "text": [
      "0.9309452725805177\n"
     ]
    }
   ],
   "source": [
    "valor_0_ou_1 = (random.random()) #random.random utilizado para valores de 0 a 1\n",
    "print(valor_0_ou_1)"
   ]
  },
  {
   "cell_type": "code",
   "execution_count": 16,
   "metadata": {},
   "outputs": [
    {
     "name": "stdout",
     "output_type": "stream",
     "text": [
      "82.96020307967527\n"
     ]
    }
   ],
   "source": [
    "Valor_decimal_entre_valores = random.uniform(10, 100) #random.uniform utilizado para valores aleatórios entre 2 numeros (COM DECIMAIS)\n",
    "print(Valor_decimal_entre_valores)\n"
   ]
  },
  {
   "cell_type": "code",
   "execution_count": 17,
   "metadata": {},
   "outputs": [
    {
     "name": "stdout",
     "output_type": "stream",
     "text": [
      "96\n"
     ]
    }
   ],
   "source": [
    "Valor_inteiro_entre_valores = random.randint(10, 100) #random.randint utilizado para valores aleatórios entre 2 numeros (SEM DECIMAIS)\n",
    "print(Valor_inteiro_entre_valores)\n"
   ]
  },
  {
   "cell_type": "code",
   "execution_count": 19,
   "metadata": {},
   "outputs": [
    {
     "name": "stdout",
     "output_type": "stream",
     "text": [
      "14.371864501786519\n"
     ]
    }
   ],
   "source": [
    "valor_distribuição_normal = random.gauss(10, 30) #(a, b) , onde a é a média e b é o devio padrão.\n",
    "print(valor_distribuição_normal)"
   ]
  },
  {
   "cell_type": "code",
   "execution_count": 28,
   "metadata": {},
   "outputs": [
    {
     "name": "stdout",
     "output_type": "stream",
     "text": [
      "A empresa escholhida é a:pcar3\n"
     ]
    }
   ],
   "source": [
    "#sorteio na biblioteca random\n",
    "tickers = ['wege3', 'pcar3', 'lren3']\n",
    "empresa_escholhida = choice(tickers)\n",
    "print(f'A empresa escholhida é a:{empresa_escholhida}')"
   ]
  },
  {
   "cell_type": "code",
   "execution_count": 34,
   "metadata": {},
   "outputs": [
    {
     "name": "stdout",
     "output_type": "stream",
     "text": [
      "a moeda caiu com a face coroa para cima\n"
     ]
    }
   ],
   "source": [
    "#Desafio 9 \n",
    "possibilidades = ['cara', 'coroa']\n",
    "escolha = choice(possibilidades)\n",
    "print(f'a moeda caiu com a face {escolha} para cima')"
   ]
  },
  {
   "cell_type": "code",
   "execution_count": 39,
   "metadata": {},
   "outputs": [
    {
     "name": "stdout",
     "output_type": "stream",
     "text": [
      "a nota do aluno foi:10\n"
     ]
    }
   ],
   "source": [
    "#Desafio 10\n",
    "nota = random.randint(0, 10)\n",
    "\n",
    "print(f'a nota do aluno foi:{nota}')"
   ]
  },
  {
   "cell_type": "code",
   "execution_count": null,
   "metadata": {},
   "outputs": [],
   "source": []
  }
 ],
 "metadata": {
  "kernelspec": {
   "display_name": "Python 3 (ipykernel)",
   "language": "python",
   "name": "python3"
  },
  "language_info": {
   "codemirror_mode": {
    "name": "ipython",
    "version": 3
   },
   "file_extension": ".py",
   "mimetype": "text/x-python",
   "name": "python",
   "nbconvert_exporter": "python",
   "pygments_lexer": "ipython3",
   "version": "3.12.4"
  }
 },
 "nbformat": 4,
 "nbformat_minor": 4
}
