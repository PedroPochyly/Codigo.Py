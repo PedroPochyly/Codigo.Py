{
 "cells": [
  {
   "cell_type": "markdown",
   "id": "5b8f5ff3",
   "metadata": {},
   "source": [
    "# Mundo 16"
   ]
  },
  {
   "cell_type": "code",
   "execution_count": 1,
   "id": "ac530468",
   "metadata": {
    "collapsed": true
   },
   "outputs": [],
   "source": [
    "#criando uma condição\n",
    "\n",
    "#banco de dados\n",
    "\n",
    "weg = {\"Ticker\": \"WEGE3\", \"Lucro\": 1700, 'Segmento de listagem': \"Novo mercado\", 'ROE': 0.20}\n",
    "\n",
    "vale = {\"Ticker\": \"VALE3\", \"Lucro\": 21700, 'Segmento de listagem': \"Novo mercado\", 'ROE': 0.19}\n",
    "\n",
    "petrobras = {\"Ticker\": [\"PETR3\", \"PETR4\"], \"Lucro\": 6700, 'Segmento de listagem': \"Nível 2\", 'ROE': 0.15}\n",
    "\n",
    "tranqueira_fc = {\"Ticker\": \"TRNQ3\", \"Lucro\": -20000, 'Segmento de listagem': \"Tradicional\", 'ROE': 0.02}"
   ]
  },
  {
   "cell_type": "code",
   "execution_count": null,
   "id": "ed79f25b",
   "metadata": {},
   "outputs": [],
   "source": [
    "empresa_escolhida = str(input(\"Escolha uma empresa entre Weg, Petrobras e Vale: \")).lower()"
   ]
  },
  {
   "cell_type": "code",
   "execution_count": 5,
   "id": "f324cc8a",
   "metadata": {},
   "outputs": [
    {
     "name": "stdout",
     "output_type": "stream",
     "text": [
      "Por favor, digite uma empresa válida!\n"
     ]
    }
   ],
   "source": [
    "if empresa_escolhida == \"weg\":\n",
    "\n",
    "    porcentagem_roe = \"{:.0%}\".format(weg['ROE'])\n",
    "\n",
    "    print(f\"O lucro da Weg é R${weg['Lucro']}, seu código de negociação é {weg['Ticker']}, e o ROE da empresa é de {porcentagem_roe}\")\n",
    "\n",
    "elif empresa_escolhida == \"vale\":\n",
    "\n",
    "    porcentagem_roe = \"{:.0%}\".format(vale['ROE'])\n",
    "\n",
    "    print(f\"O lucro da Vale é R${vale['Lucro']}, seu código de negociação é {vale['Ticker']}, e o ROE da empresa é de {porcentagem_roe}\")\n",
    "\n",
    "elif empresa_escolhida == \"petrobras\":\n",
    "\n",
    "    porcentagem_roe = \"{:.0%}\".format(petrobras['ROE'])\n",
    "\n",
    "    print(f\"O lucro da Petrobras é R${petrobras['Lucro']}, seu código de negociação é {petrobras['Ticker']}, e o ROE da empresa é de {porcentagem_roe}\")\n",
    "\n",
    "else:\n",
    "\n",
    "    print('Por favor, digite uma empresa válida!')"
   ]
  },
  {
   "cell_type": "code",
   "execution_count": 8,
   "id": "9892c407",
   "metadata": {},
   "outputs": [
    {
     "name": "stdout",
     "output_type": "stream",
     "text": [
      "Escolha uma empresa entre Weg, Petrobras, Vale ou Tranqueira: tranqueira\n",
      "Tem certeza que deseja saber sobre a Tranqueira? Digite 'S' para sim e 'N' para não n\n"
     ]
    }
   ],
   "source": [
    "empresa_escolhida = str(input(\"Escolha uma empresa entre Weg, Petrobras, Vale ou Tranqueira: \")).lower()\n",
    "escolha = True\n",
    "\n",
    "if empresa_escolhida == \"tranqueira\":\n",
    "\n",
    "    usuario_escolha = str(input(\"Tem certeza que deseja saber sobre a Tranqueira? Digite 'S' para sim e 'N' para não \")).lower()\n",
    "\n",
    "    if usuario_escolha == \"n\":\n",
    "        \n",
    "        escolha = False\n",
    "    else:\n",
    "        \n",
    "        pass"
   ]
  },
  {
   "cell_type": "code",
   "execution_count": 12,
   "id": "4533a284",
   "metadata": {},
   "outputs": [
    {
     "name": "stdout",
     "output_type": "stream",
     "text": [
      "Melhor não saber mesmo!\n"
     ]
    }
   ],
   "source": [
    "if empresa_escolhida == \"weg\":\n",
    "\n",
    "    porcentagem_roe = \"{:.0%}\".format(weg['ROE'])\n",
    "\n",
    "    print(f\"O lucro da Weg é R${weg['Lucro']}, seu código de negociação é {weg['Ticker']}, e o ROE da empresa é de {porcentagem_roe}\")\n",
    "\n",
    "elif empresa_escolhida == \"vale\":\n",
    "\n",
    "    porcentagem_roe = \"{:.0%}\".format(vale['ROE'])\n",
    "\n",
    "    print(f\"O lucro da Vale é R${vale['Lucro']}, seu código de negociação é {vale['Ticker']}, e o ROE da empresa é de {porcentagem_roe}\")\n",
    "\n",
    "elif empresa_escolhida == \"petrobras\":\n",
    "\n",
    "    porcentagem_roe = \"{:.0%}\".format(petrobras['ROE'])\n",
    "\n",
    "    print(f\"O lucro da Petrobras é R${petrobras['Lucro']}, seu código de negociação é {petrobras['Ticker']}, e o ROE da empresa é de {porcentagem_roe}\")\n",
    "\n",
    "elif empresa_escolhida == \"tranqueira\" and escolha != False:\n",
    "\n",
    "    porcentagem_roe = \"{:.0%}\".format(tranqueira_fc['ROE'])\n",
    "\n",
    "    print(f\"O lucro da Tranqueira é R${tranqueira_fc['Lucro']}, seu código de negociação é {tranqueira_fc['Ticker']}, e o ROE da empresa é de {porcentagem_roe}\")\n",
    "\n",
    "elif empresa_escolhida == \"tranqueira\" and escolha == False:\n",
    "\n",
    "    print(\"Melhor não saber mesmo!\")\n",
    "\n",
    "else:\n",
    "\n",
    "    print('Por favor, digite uma empresa válida!')"
   ]
  },
  {
   "cell_type": "markdown",
   "id": "519577e7",
   "metadata": {},
   "source": [
    "# Desafios\n",
    "\n",
    "* Exercício 18: Crie um algoritmo que receba um código de negociação e mostra na tela se esse código é PN, ON ou UNIT. Lembrando: Código ON sempre termina em 3, PN sempre termina em 4 e UNIT em 11. \n",
    "\n",
    "* Exercício 19: Crie um programa que receba 3 informações do usuário: nome da empresa, ROE e preço/lucro. Gere recomendações de investimento baseado no ROE e no P/L. Uma condição pra caso o ROE seja maior que 20% e o P/L acima de 20, outra pra caso o ROE seja 20% mas o P/L seja menor que 5, etc. Seja criativo e utilize as condições \"or\" e \"and\".\n",
    "\n",
    "ROE - rentabilidade uma empresa que varia de negativo a infinitos %. Quanto maior, melhor. \n",
    "\n",
    "P/L - preço/lucro. Quanto menor melhor, contando que não seja negativo, pois significa que a empresa teve prejuízo. \n",
    "Uma empresa com alto ROE e baixo P/L seria o ideal. "
   ]
  },
  {
   "cell_type": "code",
   "execution_count": 11,
   "id": "645f71cc",
   "metadata": {},
   "outputs": [
    {
     "name": "stdout",
     "output_type": "stream",
     "text": [
      "escolha uma empresa-ticker:  petr4\n",
      "Essa empresa é PN\n"
     ]
    }
   ],
   "source": [
    "empresa_escolhida = input('escolha uma empresa-ticker:  ').lower()\n",
    "\n",
    "if empresa_escolhida.endswith('3'):\n",
    "    print('Essa empresa é ON')\n",
    "    \n",
    "elif empresa_escolhida.endswith('4'):\n",
    "    print('Essa empresa é PN')\n",
    "    \n",
    "elif empresa_escolhida.endswith('11'):\n",
    "    print('Essa empresa é UNIT')\n",
    "    \n",
    "else:\n",
    "    print('erro no programa')"
   ]
  },
  {
   "cell_type": "code",
   "execution_count": 7,
   "id": "e37af771",
   "metadata": {},
   "outputs": [
    {
     "name": "stdout",
     "output_type": "stream",
     "text": [
      "Escolha uma empresa: pre3\n",
      "ROE: 0.01\n",
      "PL: 3\n",
      "Muito bom você ter escolhido a PRE3, vou analisá-la meticulosamente agora.\n",
      "PL aceitável\n"
     ]
    }
   ],
   "source": [
    "\n",
    "dc_empresa = {\n",
    "    \"Empresa\": input(\"Escolha uma empresa: \").upper(),\n",
    "    \"ROE\": float(input(\"ROE: \")),  \n",
    "    \"PL\": int(input(\"PL: \"))  \n",
    "}\n",
    "\n",
    "print(f\"Muito bom você ter escolhido a {dc_empresa['Empresa']}, vou analisá-la meticulosamente agora.\")\n",
    "\n",
    "if dc_empresa[\"ROE\"] > 0.20 and dc_empresa[\"PL\"] < 5:\n",
    "    print(\"Boa empresa, 2 critérios passam!\")\n",
    "\n",
    "elif dc_empresa[\"ROE\"] > 0.20:\n",
    "    print(\"ROE aceitável\")\n",
    "\n",
    "elif dc_empresa[\"PL\"] < 5:\n",
    "    print(\"PL aceitável\")\n",
    "\n",
    "else:\n",
    "    print(\"A empresa não possui nenhum indicador bom e favorável.\")\n"
   ]
  },
  {
   "cell_type": "markdown",
   "id": "aa0f3dbd",
   "metadata": {},
   "source": [
    "# Mundo 17\n",
    "\n",
    "No mundo 17 nós vamos um pouco sobre loops. Como podemos repetir a mesma ação inúmeras vezes dentro do Python e começar a criar programas mais complexos? Te vejo no mundo 17!"
   ]
  },
  {
   "cell_type": "code",
   "execution_count": null,
   "id": "ec909915",
   "metadata": {
    "collapsed": true
   },
   "outputs": [],
   "source": []
  },
  {
   "cell_type": "code",
   "execution_count": null,
   "id": "38b99c6f",
   "metadata": {
    "collapsed": true
   },
   "outputs": [],
   "source": []
  },
  {
   "cell_type": "code",
   "execution_count": null,
   "id": "e0e707be",
   "metadata": {
    "collapsed": true
   },
   "outputs": [],
   "source": []
  },
  {
   "cell_type": "code",
   "execution_count": null,
   "id": "6713ac15",
   "metadata": {
    "collapsed": true
   },
   "outputs": [],
   "source": []
  }
 ],
 "metadata": {
  "kernelspec": {
   "display_name": "Python 3",
   "language": "python",
   "name": "python3"
  },
  "language_info": {
   "codemirror_mode": {
    "name": "ipython",
    "version": 3
   },
   "file_extension": ".py",
   "mimetype": "text/x-python",
   "name": "python",
   "nbconvert_exporter": "python",
   "pygments_lexer": "ipython3",
   "version": "3.6.3"
  }
 },
 "nbformat": 4,
 "nbformat_minor": 5
}
