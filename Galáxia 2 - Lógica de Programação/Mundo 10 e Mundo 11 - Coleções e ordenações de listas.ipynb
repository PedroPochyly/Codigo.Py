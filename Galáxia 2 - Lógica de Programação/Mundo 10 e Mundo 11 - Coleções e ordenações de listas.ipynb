{
 "cells": [
  {
   "cell_type": "code",
   "execution_count": 1,
   "metadata": {},
   "outputs": [
    {
     "name": "stdout",
     "output_type": "stream",
     "text": [
      "{'nome': 'Tonka_Company', 'Sede': 'Tonka_House'}\n"
     ]
    }
   ],
   "source": [
    "#Coleções - juntar vários elementos , sempre separados por virgulas\n",
    "\n",
    "#Tuplas - guardar elementos de difernetes características - são iguais as listas , mas as tuplas, não podem ser Alteradas apos a criação ().\n",
    "\n",
    "#Listas - são listas normais que podem ser alteradas quando necessário, e ficam entre [].\n",
    "\n",
    "#Sets - não podem ser ordenados, alterados e NÂO permite itens duplicados - muito utilizado para remover duplicatas.\n",
    "\n",
    "#Dicionários - Criar tabelas atravez de data frames ou converter dados para JASON, {}\n",
    "\n",
    "empresa = {'nome': 'Tonka_Company', 'Sede': 'Tonka_House'}\n",
    "\n",
    "print(empresa)"
   ]
  },
  {
   "cell_type": "code",
   "execution_count": 2,
   "metadata": {},
   "outputs": [
    {
     "name": "stdout",
     "output_type": "stream",
     "text": [
      "['weg', 'Raia Drogasil', 'Vale', 'Lojas Renner']\n"
     ]
    }
   ],
   "source": [
    "#Como fazer listas?\n",
    "\n",
    "lista_base = ['weg', 'Raia Drogasil', 'Vale', 'Lojas Renner']\n",
    "\n",
    "lista_base = list(['weg', 'Raia Drogasil', 'Vale', 'Lojas Renner'])\n",
    "\n",
    "print(lista_base)"
   ]
  },
  {
   "cell_type": "code",
   "execution_count": 3,
   "metadata": {},
   "outputs": [
    {
     "name": "stdout",
     "output_type": "stream",
     "text": [
      "1 2 3 \n",
      "4 5 6 \n",
      "7 8 9 \n"
     ]
    }
   ],
   "source": [
    "#lista dentro de lista - matrizes\n",
    "\n",
    "lista_dentro_de_lista = [[1, 2 ,3], [4, 5 ,6], [7, 8, 9]] #matriz 3 x 3 \n",
    "\n",
    "#fazer loop para mostrar a matriz -----> Não sei codar loop ainda\n",
    "\n",
    "for lista in lista_dentro_de_lista:\n",
    "    for item in lista:\n",
    "        print(item,end=' ')\n",
    "    print()"
   ]
  },
  {
   "cell_type": "code",
   "execution_count": null,
   "metadata": {},
   "outputs": [],
   "source": [
    "Manipulações de listas"
   ]
  },
  {
   "cell_type": "code",
   "execution_count": 4,
   "metadata": {},
   "outputs": [
    {
     "name": "stdout",
     "output_type": "stream",
     "text": [
      "['compra tudo', 'vende tudo', 'mantém']\n"
     ]
    }
   ],
   "source": [
    "#Adicionando itens a uma lista vazia\n",
    "\n",
    "lista_sinais = []\n",
    "\n",
    "lista_sinais.append('compra tudo')\n",
    "lista_sinais.append('vende tudo')\n",
    "lista_sinais.append('mantém')\n",
    "\n",
    "print(lista_sinais)"
   ]
  },
  {
   "cell_type": "code",
   "execution_count": 6,
   "metadata": {},
   "outputs": [
    {
     "name": "stdout",
     "output_type": "stream",
     "text": [
      "compra tudo\n",
      "vende tudo\n",
      "mantém\n"
     ]
    }
   ],
   "source": [
    "#selecionando elementos da lista\n",
    "\n",
    "print(lista_sinais[0])\n",
    "print(lista_sinais[1])\n",
    "print(lista_sinais[-1]) #último da lista\n"
   ]
  },
  {
   "cell_type": "code",
   "execution_count": 7,
   "metadata": {},
   "outputs": [
    {
     "name": "stdout",
     "output_type": "stream",
     "text": [
      "['compra tudo', 'vende tudo']\n",
      "['vende tudo', 'mantém']\n",
      "['vende tudo', 'mantém']\n"
     ]
    }
   ],
   "source": [
    "#selecionar vários elementos\n",
    "\n",
    "print(lista_sinais[0:2]) #vai pegar o elemento 0 e 1 da lista\n",
    "print(lista_sinais[1: ]) #tudo depois do numero 1\n",
    "print(lista_sinais[-2: ]) #ultimos dois itens da lista"
   ]
  },
  {
   "cell_type": "code",
   "execution_count": 8,
   "metadata": {},
   "outputs": [
    {
     "name": "stdout",
     "output_type": "stream",
     "text": [
      "['vende', 'vende tudo', 'mantém']\n"
     ]
    }
   ],
   "source": [
    "#alterando elementos\n",
    "\n",
    "lista_sinais[0] = 'vende'\n",
    "\n",
    "print(lista_sinais)"
   ]
  },
  {
   "cell_type": "code",
   "execution_count": 11,
   "metadata": {},
   "outputs": [
    {
     "name": "stdout",
     "output_type": "stream",
     "text": [
      "['vende', 'vende tudo', 'compra até acabar o caixa', 'mantém']\n"
     ]
    }
   ],
   "source": [
    "#inserir elementos em uma certa posição: \n",
    "\n",
    "lista_sinais.insert(2, 'compra até acabar o caixa') #aqui não vai substituir algum item, vai só inserir)\n",
    "print(lista_sinais)"
   ]
  },
  {
   "cell_type": "code",
   "execution_count": 12,
   "metadata": {},
   "outputs": [
    {
     "name": "stdout",
     "output_type": "stream",
     "text": [
      "['vende', 'vende tudo', 'mantém']\n"
     ]
    }
   ],
   "source": [
    "#remover elementos da lista\n",
    "\n",
    "lista_sinais.remove('compra até acabar o caixa')\n",
    "print(lista_sinais)"
   ]
  },
  {
   "cell_type": "code",
   "execution_count": 13,
   "metadata": {},
   "outputs": [
    {
     "name": "stdout",
     "output_type": "stream",
     "text": [
      "False True\n"
     ]
    }
   ],
   "source": [
    "#verificando se um elemento está na lista\n",
    "\n",
    "verificando = 'compra tudo' in lista_sinais\n",
    "verificando2 = 'compra tudo' not in lista_sinais\n",
    "\n",
    "print(verificando, verificando2)"
   ]
  },
  {
   "cell_type": "code",
   "execution_count": 14,
   "metadata": {},
   "outputs": [
    {
     "name": "stdout",
     "output_type": "stream",
     "text": [
      "[1, 2, 3, 4, 5, 6]\n"
     ]
    }
   ],
   "source": [
    "#junção de listas\n",
    "\n",
    "lista_1 = [1, 2, 3]\n",
    "lista_2 = [4, 5, 6]\n",
    "\n",
    "lista_final = lista_1 + lista_2 #como listas não são vetores, acaba que apenas juntam elas\n",
    "\n",
    "print(lista_final)\n",
    "\n"
   ]
  },
  {
   "cell_type": "code",
   "execution_count": 21,
   "metadata": {},
   "outputs": [
    {
     "name": "stdout",
     "output_type": "stream",
     "text": [
      "[1, 23, 45, 56, 75]\n",
      "[75, 56, 45, 23, 1]\n"
     ]
    }
   ],
   "source": [
    "#ordenação de listas\n",
    "\n",
    "lista_desodernada = [56, 45, 1, 75, 23]\n",
    "\n",
    "lista_ordenada_crescente = sorted(lista_desodernada)\n",
    "\n",
    "print(lista_ordenada_crescente)\n",
    "\n",
    "lista_ordenada_decrescente = sorted(lista_desodernada, reverse=True)\n",
    "\n",
    "print(lista_ordenada_decrescente)"
   ]
  },
  {
   "cell_type": "code",
   "execution_count": 26,
   "metadata": {},
   "outputs": [
    {
     "name": "stdout",
     "output_type": "stream",
     "text": [
      "75\n",
      "1\n",
      "40.0\n"
     ]
    }
   ],
   "source": [
    "# Extraindo inflormações das listas\n",
    "\n",
    "# máximo e mínimo\n",
    "print(max(lista_desodernada))\n",
    "\n",
    "print(min(lista_desodernada))\n",
    "\n",
    "# média\n",
    "\n",
    "print(sum(lista_desodernada)/len(lista_desodernada)) #soma da lista toda dividida pela quantidade de elementos"
   ]
  },
  {
   "cell_type": "code",
   "execution_count": null,
   "metadata": {},
   "outputs": [],
   "source": [
    "Tuplas"
   ]
  },
  {
   "cell_type": "code",
   "execution_count": 15,
   "metadata": {},
   "outputs": [
    {
     "name": "stdout",
     "output_type": "stream",
     "text": [
      "2\n",
      "1\n",
      "0\n"
     ]
    }
   ],
   "source": [
    "tupla = (2, 3, 4, 5, 6)\n",
    "\n",
    "print(tupla[0])\n",
    "print(tupla.count(2))\n",
    "print(tupla.index(2))"
   ]
  },
  {
   "cell_type": "code",
   "execution_count": 28,
   "metadata": {},
   "outputs": [
    {
     "name": "stdout",
     "output_type": "stream",
     "text": [
      "5\n",
      "5\n"
     ]
    }
   ],
   "source": [
    "print(len(lista_desodernada))\n",
    "print(len(tupla))"
   ]
  },
  {
   "cell_type": "code",
   "execution_count": 39,
   "metadata": {},
   "outputs": [
    {
     "name": "stdin",
     "output_type": "stream",
     "text": [
      "escreva o ticker de uma emmpresa: oi\n",
      "escreva o ticker de uma emmpresa: viv\n",
      "escreva o ticker de uma emmpresa: te\n",
      "escreva o ticker de uma emmpresa: tel\n"
     ]
    },
    {
     "name": "stdout",
     "output_type": "stream",
     "text": [
      "A empresa escolhida foi: oi\n"
     ]
    }
   ],
   "source": [
    "# Desafio 11\n",
    "from random import choice\n",
    "\n",
    "empresa1 = input('escreva o ticker de uma emmpresa:')\n",
    "empresa2 = input('escreva o ticker de uma emmpresa:')\n",
    "empresa3 = input('escreva o ticker de uma emmpresa:')\n",
    "empresa4 = input('escreva o ticker de uma emmpresa:')\n",
    "\n",
    "empresas = [empresa1, empresa2, empresa3, empresa4]\n",
    "\n",
    "empresa_escolhida = choice(empresas)\n",
    "\n",
    "print(f'A empresa escolhida foi: {empresa_escolhida}')"
   ]
  },
  {
   "cell_type": "code",
   "execution_count": 37,
   "metadata": {},
   "outputs": [
    {
     "name": "stdin",
     "output_type": "stream",
     "text": [
      "insira o Pl da empresa 1 3\n",
      "insira o Pl da empresa 2 4\n",
      "insira o Pl da empresa 3 5\n",
      "insira o Pl da empresa 4 6\n"
     ]
    },
    {
     "name": "stdout",
     "output_type": "stream",
     "text": [
      "['3', '4']\n",
      "['5', '6']\n"
     ]
    }
   ],
   "source": [
    "# Desafio 12\n",
    "pl1 = input('insira o Pl da empresa 1')\n",
    "pl2 = input('insira o Pl da empresa 2')\n",
    "pl3 = input('insira o Pl da empresa 3')\n",
    "pl4 = input('insira o Pl da empresa 4')\n",
    "\n",
    "pl_s = [pl1, pl2, pl3, pl4]\n",
    "\n",
    "lista_decrecente = sorted(pl_s, reverse = True) #como está em ordem decrecente, os maiores vem por último e os menores vem primeiro\n",
    "\n",
    "maiores_pl_s = pl_s[-2: ] #pega os dois últimos da lista\n",
    "menores_pl_s = pl_s[0:2] #pega os dois pril\n",
    "\n",
    "print(maiores_pl_s)\n",
    "print(menores_pl_s)"
   ]
  },
  {
   "cell_type": "code",
   "execution_count": null,
   "metadata": {},
   "outputs": [],
   "source": []
  }
 ],
 "metadata": {
  "kernelspec": {
   "display_name": "Python 3 (ipykernel)",
   "language": "python",
   "name": "python3"
  },
  "language_info": {
   "codemirror_mode": {
    "name": "ipython",
    "version": 3
   },
   "file_extension": ".py",
   "mimetype": "text/x-python",
   "name": "python",
   "nbconvert_exporter": "python",
   "pygments_lexer": "ipython3",
   "version": "3.12.4"
  }
 },
 "nbformat": 4,
 "nbformat_minor": 4
}
